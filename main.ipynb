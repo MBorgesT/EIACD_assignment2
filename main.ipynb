{
 "cells": [
  {
   "cell_type": "code",
   "execution_count": 299,
   "metadata": {},
   "outputs": [],
   "source": [
    "import pandas as pd\n",
    "import plotly.express as px\n",
    "import plotly.io as pio\n",
    "import seaborn as sns\n",
    "import matplotlib.pyplot as plt\n",
    "import numpy as np"
   ]
  },
  {
   "attachments": {},
   "cell_type": "markdown",
   "metadata": {},
   "source": [
    "Dataset loading"
   ]
  },
  {
   "cell_type": "code",
   "execution_count": 300,
   "metadata": {},
   "outputs": [
    {
     "data": {
      "text/html": [
       "<div>\n",
       "<style scoped>\n",
       "    .dataframe tbody tr th:only-of-type {\n",
       "        vertical-align: middle;\n",
       "    }\n",
       "\n",
       "    .dataframe tbody tr th {\n",
       "        vertical-align: top;\n",
       "    }\n",
       "\n",
       "    .dataframe thead th {\n",
       "        text-align: right;\n",
       "    }\n",
       "</style>\n",
       "<table border=\"1\" class=\"dataframe\">\n",
       "  <thead>\n",
       "    <tr style=\"text-align: right;\">\n",
       "      <th></th>\n",
       "      <th>id</th>\n",
       "      <th>name</th>\n",
       "      <th>category</th>\n",
       "      <th>n_dlcs</th>\n",
       "      <th>n_expansions</th>\n",
       "      <th>year</th>\n",
       "      <th>follows</th>\n",
       "      <th>in_franchise</th>\n",
       "      <th>genres</th>\n",
       "      <th>companies</th>\n",
       "      <th>platforms</th>\n",
       "      <th>user_score</th>\n",
       "      <th>user_rating</th>\n",
       "      <th>n_user_reviews</th>\n",
       "      <th>summary</th>\n",
       "    </tr>\n",
       "  </thead>\n",
       "  <tbody>\n",
       "    <tr>\n",
       "      <th>0</th>\n",
       "      <td>1020</td>\n",
       "      <td>Grand Theft Auto V</td>\n",
       "      <td>main_game</td>\n",
       "      <td>0</td>\n",
       "      <td>0</td>\n",
       "      <td>2013</td>\n",
       "      <td>1766</td>\n",
       "      <td>True</td>\n",
       "      <td>Shooter, Adventure</td>\n",
       "      <td>Rockstar North, Rockstar Games, Take-Two Inter...</td>\n",
       "      <td>PC (Microsoft Windows), PlayStation 3, Xbox 36...</td>\n",
       "      <td>90.202388</td>\n",
       "      <td>great</td>\n",
       "      <td>3369</td>\n",
       "      <td>Grand Theft Auto V is a vast open world game s...</td>\n",
       "    </tr>\n",
       "    <tr>\n",
       "      <th>1</th>\n",
       "      <td>1942</td>\n",
       "      <td>The Witcher 3: Wild Hunt</td>\n",
       "      <td>main_game</td>\n",
       "      <td>4</td>\n",
       "      <td>2</td>\n",
       "      <td>2015</td>\n",
       "      <td>1516</td>\n",
       "      <td>True</td>\n",
       "      <td>Role-playing (RPG), Adventure</td>\n",
       "      <td>WB Games, Bandai Namco Entertainment, cdp.pl, ...</td>\n",
       "      <td>PC (Microsoft Windows), PlayStation 4, Xbox On...</td>\n",
       "      <td>95.169577</td>\n",
       "      <td>great</td>\n",
       "      <td>2997</td>\n",
       "      <td>RPG and sequel to The Witcher 2 (2011), The Wi...</td>\n",
       "    </tr>\n",
       "    <tr>\n",
       "      <th>2</th>\n",
       "      <td>472</td>\n",
       "      <td>The Elder Scrolls V: Skyrim</td>\n",
       "      <td>main_game</td>\n",
       "      <td>3</td>\n",
       "      <td>0</td>\n",
       "      <td>2011</td>\n",
       "      <td>1046</td>\n",
       "      <td>False</td>\n",
       "      <td>Role-playing (RPG), Adventure</td>\n",
       "      <td>Bethesda Game Studios, Bethesda Softworks</td>\n",
       "      <td>PC (Microsoft Windows), PlayStation 3, Xbox 360</td>\n",
       "      <td>87.508504</td>\n",
       "      <td>great</td>\n",
       "      <td>2567</td>\n",
       "      <td>Skyrim reimagines and revolutionizes the open-...</td>\n",
       "    </tr>\n",
       "    <tr>\n",
       "      <th>3</th>\n",
       "      <td>72</td>\n",
       "      <td>Portal 2</td>\n",
       "      <td>main_game</td>\n",
       "      <td>3</td>\n",
       "      <td>0</td>\n",
       "      <td>2011</td>\n",
       "      <td>963</td>\n",
       "      <td>True</td>\n",
       "      <td>Shooter, Platform, Puzzle, Adventure</td>\n",
       "      <td>Valve Corporation, Electronic Arts</td>\n",
       "      <td>Linux, PC (Microsoft Windows), PlayStation 3, ...</td>\n",
       "      <td>91.650705</td>\n",
       "      <td>great</td>\n",
       "      <td>2544</td>\n",
       "      <td>Sequel to the acclaimed Portal (2007), Portal ...</td>\n",
       "    </tr>\n",
       "    <tr>\n",
       "      <th>4</th>\n",
       "      <td>71</td>\n",
       "      <td>Portal</td>\n",
       "      <td>main_game</td>\n",
       "      <td>0</td>\n",
       "      <td>0</td>\n",
       "      <td>2007</td>\n",
       "      <td>894</td>\n",
       "      <td>True</td>\n",
       "      <td>Shooter, Platform, Puzzle</td>\n",
       "      <td>Valve Corporation, EA</td>\n",
       "      <td>Linux, PC (Microsoft Windows), PlayStation 3, ...</td>\n",
       "      <td>86.931758</td>\n",
       "      <td>great</td>\n",
       "      <td>2297</td>\n",
       "      <td>Waking up in a seemingly empty laboratory, the...</td>\n",
       "    </tr>\n",
       "  </tbody>\n",
       "</table>\n",
       "</div>"
      ],
      "text/plain": [
       "     id                         name   category  n_dlcs  n_expansions  year  \\\n",
       "0  1020           Grand Theft Auto V  main_game       0             0  2013   \n",
       "1  1942     The Witcher 3: Wild Hunt  main_game       4             2  2015   \n",
       "2   472  The Elder Scrolls V: Skyrim  main_game       3             0  2011   \n",
       "3    72                     Portal 2  main_game       3             0  2011   \n",
       "4    71                       Portal  main_game       0             0  2007   \n",
       "\n",
       "   follows  in_franchise                                genres  \\\n",
       "0     1766          True                    Shooter, Adventure   \n",
       "1     1516          True         Role-playing (RPG), Adventure   \n",
       "2     1046         False         Role-playing (RPG), Adventure   \n",
       "3      963          True  Shooter, Platform, Puzzle, Adventure   \n",
       "4      894          True             Shooter, Platform, Puzzle   \n",
       "\n",
       "                                           companies  \\\n",
       "0  Rockstar North, Rockstar Games, Take-Two Inter...   \n",
       "1  WB Games, Bandai Namco Entertainment, cdp.pl, ...   \n",
       "2          Bethesda Game Studios, Bethesda Softworks   \n",
       "3                 Valve Corporation, Electronic Arts   \n",
       "4                              Valve Corporation, EA   \n",
       "\n",
       "                                           platforms  user_score user_rating  \\\n",
       "0  PC (Microsoft Windows), PlayStation 3, Xbox 36...   90.202388       great   \n",
       "1  PC (Microsoft Windows), PlayStation 4, Xbox On...   95.169577       great   \n",
       "2    PC (Microsoft Windows), PlayStation 3, Xbox 360   87.508504       great   \n",
       "3  Linux, PC (Microsoft Windows), PlayStation 3, ...   91.650705       great   \n",
       "4  Linux, PC (Microsoft Windows), PlayStation 3, ...   86.931758       great   \n",
       "\n",
       "   n_user_reviews                                            summary  \n",
       "0            3369  Grand Theft Auto V is a vast open world game s...  \n",
       "1            2997  RPG and sequel to The Witcher 2 (2011), The Wi...  \n",
       "2            2567  Skyrim reimagines and revolutionizes the open-...  \n",
       "3            2544  Sequel to the acclaimed Portal (2007), Portal ...  \n",
       "4            2297  Waking up in a seemingly empty laboratory, the...  "
      ]
     },
     "execution_count": 300,
     "metadata": {},
     "output_type": "execute_result"
    }
   ],
   "source": [
    "df = pd.read_csv('video_games.csv')\n",
    "df.head()"
   ]
  },
  {
   "cell_type": "code",
   "execution_count": 301,
   "metadata": {},
   "outputs": [],
   "source": [
    "original_n_rows = len(df)"
   ]
  },
  {
   "attachments": {},
   "cell_type": "markdown",
   "metadata": {},
   "source": [
    "## Pre-processing"
   ]
  },
  {
   "attachments": {},
   "cell_type": "markdown",
   "metadata": {},
   "source": [
    "### Removing lines with NA values"
   ]
  },
  {
   "cell_type": "code",
   "execution_count": 302,
   "metadata": {},
   "outputs": [
    {
     "name": "stdout",
     "output_type": "stream",
     "text": [
      "Percentage of rows with null values: 1.22%\n"
     ]
    }
   ],
   "source": [
    "perc = (df.isna().sum(axis=1) > 0).sum() / len(df)\n",
    "perc *= 100\n",
    "print(f'Percentage of rows with null values: {perc:.2f}%')"
   ]
  },
  {
   "attachments": {},
   "cell_type": "markdown",
   "metadata": {},
   "source": [
    "Since the amount of rows with null values is small, the complete removal of those was considered statistically irrelevant."
   ]
  },
  {
   "cell_type": "code",
   "execution_count": 303,
   "metadata": {},
   "outputs": [],
   "source": [
    "df = df.dropna()"
   ]
  },
  {
   "attachments": {},
   "cell_type": "markdown",
   "metadata": {},
   "source": [
    "### Limiting dataset to main games"
   ]
  },
  {
   "cell_type": "code",
   "execution_count": 304,
   "metadata": {},
   "outputs": [
    {
     "name": "stdout",
     "output_type": "stream",
     "text": [
      "Proportion of main games in the dataset: 85.71%\n"
     ]
    }
   ],
   "source": [
    "perc = len(df[df['category'] == 'main_game']) / len(df)\n",
    "perc *= 100\n",
    "print(f'Proportion of main games in the dataset: {perc:.2f}%')"
   ]
  },
  {
   "attachments": {},
   "cell_type": "markdown",
   "metadata": {},
   "source": [
    "It was decided to only keep the main games in the dataset, as the homogeneity in the data would help in the classification goal."
   ]
  },
  {
   "cell_type": "code",
   "execution_count": 305,
   "metadata": {},
   "outputs": [],
   "source": [
    "df = df[df['category'] == 'main_game']\n",
    "df = df.drop(labels=['category'], axis=1)"
   ]
  },
  {
   "attachments": {},
   "cell_type": "markdown",
   "metadata": {},
   "source": [
    "## EDA"
   ]
  },
  {
   "attachments": {},
   "cell_type": "markdown",
   "metadata": {},
   "source": [
    "Atribute correlation heatmap"
   ]
  },
  {
   "cell_type": "code",
   "execution_count": 306,
   "metadata": {},
   "outputs": [
    {
     "data": {
      "text/plain": [
       "[Text(0.5, 1.0, 'Correlation between the numeric attributes in the dataset')]"
      ]
     },
     "execution_count": 306,
     "metadata": {},
     "output_type": "execute_result"
    },
    {
     "data": {
      "image/png": "[encoded data removed]",
      "text/plain": [
       "<Figure size 432x288 with 2 Axes>"
      ]
     },
     "metadata": {
      "needs_background": "light"
     },
     "output_type": "display_data"
    }
   ],
   "source": [
    "# It was decided to apply the absolute function to the correlation as it makes interpreting the graph easier\n",
    "corr = abs(df.corr())\n",
    "mask = np.triu(np.ones_like(corr, dtype=bool))\n",
    "cmap = sns.diverging_palette(230, 20, as_cmap=True)\n",
    "sns.heatmap(corr, mask=mask, cmap=cmap, vmax=.3, center=0,\n",
    "            square=True, linewidths=.5, cbar_kws={\"shrink\": .5}\n",
    ").set(title='Correlation between the numeric attributes in the dataset')"
   ]
  },
  {
   "cell_type": "code",
   "execution_count": 307,
   "metadata": {},
   "outputs": [
    {
     "data": {
      "application/vnd.plotly.v1+json": {
       "config": {
        "plotlyServerURL": "https://plot.ly"
       },
       "data": [
        {
         "alignmentgroup": "True",
         "hovertemplate": "user_rating=%{x}<br>Amount=%{y}<extra></extra>",
         "legendgroup": "",
         "marker": {
          "color": "#636efa",
          "pattern": {
           "shape": ""
          }
         },
         "name": "",
         "offsetgroup": "",
         "orientation": "v",
         "showlegend": false,
         "textposition": "auto",
         "type": "bar",
         "x": [
          "mediocre",
          "bad",
          "good",
          "great"
         ],
         "xaxis": "x",
         "y": [
          90,
          11,
          2267,
          2563
         ],
         "yaxis": "y"
        }
       ],
       "layout": {
        "barmode": "relative",
        "legend": {
         "tracegroupgap": 0
        },
        "template": {
         "data": {
          "bar": [
           {
            "error_x": {
             "color": "#2a3f5f"
            },
            "error_y": {
             "color": "#2a3f5f"
            },
            "marker": {
             "line": {
              "color": "#E5ECF6",
              "width": 0.5
             },
             "pattern": {
              "fillmode": "overlay",
              "size": 10,
              "solidity": 0.2
             }
            },
            "type": "bar"
           }
          ],
          "barpolar": [
           {
            "marker": {
             "line": {
              "color": "#E5ECF6",
              "width": 0.5
             },
             "pattern": {
              "fillmode": "overlay",
              "size": 10,
              "solidity": 0.2
             }
            },
            "type": "barpolar"
           }
          ],
          "carpet": [
           {
            "aaxis": {
             "endlinecolor": "#2a3f5f",
             "gridcolor": "white",
             "linecolor": "white",
             "minorgridcolor": "white",
             "startlinecolor": "#2a3f5f"
            },
            "baxis": {
             "endlinecolor": "#2a3f5f",
             "gridcolor": "white",
             "linecolor": "white",
             "minorgridcolor": "white",
             "startlinecolor": "#2a3f5f"
            },
            "type": "carpet"
           }
          ],
          "choropleth": [
           {
            "colorbar": {
             "outlinewidth": 0,
             "ticks": ""
            },
            "type": "choropleth"
           }
          ],
          "contour": [
           {
            "colorbar": {
             "outlinewidth": 0,
             "ticks": ""
            },
            "colorscale": [
             [
              0,
              "#0d0887"
             ],
             [
              0.1111111111111111,
              "#46039f"
             ],
             [
              0.2222222222222222,
              "#7201a8"
             ],
             [
              0.3333333333333333,
              "#9c179e"
             ],
             [
              0.4444444444444444,
              "#bd3786"
             ],
             [
              0.5555555555555556,
              "#d8576b"
             ],
             [
              0.6666666666666666,
              "#ed7953"
             ],
             [
              0.7777777777777778,
              "#fb9f3a"
             ],
             [
              0.8888888888888888,
              "#fdca26"
             ],
             [
              1,
              "#f0f921"
             ]
            ],
            "type": "contour"
           }
          ],
          "contourcarpet": [
           {
            "colorbar": {
             "outlinewidth": 0,
             "ticks": ""
            },
            "type": "contourcarpet"
           }
          ],
          "heatmap": [
           {
            "colorbar": {
             "outlinewidth": 0,
             "ticks": ""
            },
            "colorscale": [
             [
              0,
              "#0d0887"
             ],
             [
              0.1111111111111111,
              "#46039f"
             ],
             [
              0.2222222222222222,
              "#7201a8"
             ],
             [
              0.3333333333333333,
              "#9c179e"
             ],
             [
              0.4444444444444444,
              "#bd3786"
             ],
             [
              0.5555555555555556,
              "#d8576b"
             ],
             [
              0.6666666666666666,
              "#ed7953"
             ],
             [
              0.7777777777777778,
              "#fb9f3a"
             ],
             [
              0.8888888888888888,
              "#fdca26"
             ],
             [
              1,
              "#f0f921"
             ]
            ],
            "type": "heatmap"
           }
          ],
          "heatmapgl": [
           {
            "colorbar": {
             "outlinewidth": 0,
             "ticks": ""
            },
            "colorscale": [
             [
              0,
              "#0d0887"
             ],
             [
              0.1111111111111111,
              "#46039f"
             ],
             [
              0.2222222222222222,
              "#7201a8"
             ],
             [
              0.3333333333333333,
              "#9c179e"
             ],
             [
              0.4444444444444444,
              "#bd3786"
             ],
             [
              0.5555555555555556,
              "#d8576b"
             ],
             [
              0.6666666666666666,
              "#ed7953"
             ],
             [
              0.7777777777777778,
              "#fb9f3a"
             ],
             [
              0.8888888888888888,
              "#fdca26"
             ],
             [
              1,
              "#f0f921"
             ]
            ],
            "type": "heatmapgl"
           }
          ],
          "histogram": [
           {
            "marker": {
             "pattern": {
              "fillmode": "overlay",
              "size": 10,
              "solidity": 0.2
             }
            },
            "type": "histogram"
           }
          ],
          "histogram2d": [
           {
            "colorbar": {
             "outlinewidth": 0,
             "ticks": ""
            },
            "colorscale": [
             [
              0,
              "#0d0887"
             ],
             [
              0.1111111111111111,
              "#46039f"
             ],
             [
              0.2222222222222222,
              "#7201a8"
             ],
             [
              0.3333333333333333,
              "#9c179e"
             ],
             [
              0.4444444444444444,
              "#bd3786"
             ],
             [
              0.5555555555555556,
              "#d8576b"
             ],
             [
              0.6666666666666666,
              "#ed7953"
             ],
             [
              0.7777777777777778,
              "#fb9f3a"
             ],
             [
              0.8888888888888888,
              "#fdca26"
             ],
             [
              1,
              "#f0f921"
             ]
            ],
            "type": "histogram2d"
           }
          ],
          "histogram2dcontour": [
           {
            "colorbar": {
             "outlinewidth": 0,
             "ticks": ""
            },
            "colorscale": [
             [
              0,
              "#0d0887"
             ],
             [
              0.1111111111111111,
              "#46039f"
             ],
             [
              0.2222222222222222,
              "#7201a8"
             ],
             [
              0.3333333333333333,
              "#9c179e"
             ],
             [
              0.4444444444444444,
              "#bd3786"
             ],
             [
              0.5555555555555556,
              "#d8576b"
             ],
             [
              0.6666666666666666,
              "#ed7953"
             ],
             [
              0.7777777777777778,
              "#fb9f3a"
             ],
             [
              0.8888888888888888,
              "#fdca26"
             ],
             [
              1,
              "#f0f921"
             ]
            ],
            "type": "histogram2dcontour"
           }
          ],
          "mesh3d": [
           {
            "colorbar": {
             "outlinewidth": 0,
             "ticks": ""
            },
            "type": "mesh3d"
           }
          ],
          "parcoords": [
           {
            "line": {
             "colorbar": {
              "outlinewidth": 0,
              "ticks": ""
             }
            },
            "type": "parcoords"
           }
          ],
          "pie": [
           {
            "automargin": true,
            "type": "pie"
           }
          ],
          "scatter": [
           {
            "marker": {
             "colorbar": {
              "outlinewidth": 0,
              "ticks": ""
             }
            },
            "type": "scatter"
           }
          ],
          "scatter3d": [
           {
            "line": {
             "colorbar": {
              "outlinewidth": 0,
              "ticks": ""
             }
            },
            "marker": {
             "colorbar": {
              "outlinewidth": 0,
              "ticks": ""
             }
            },
            "type": "scatter3d"
           }
          ],
          "scattercarpet": [
           {
            "marker": {
             "colorbar": {
              "outlinewidth": 0,
              "ticks": ""
             }
            },
            "type": "scattercarpet"
           }
          ],
          "scattergeo": [
           {
            "marker": {
             "colorbar": {
              "outlinewidth": 0,
              "ticks": ""
             }
            },
            "type": "scattergeo"
           }
          ],
          "scattergl": [
           {
            "marker": {
             "colorbar": {
              "outlinewidth": 0,
              "ticks": ""
             }
            },
            "type": "scattergl"
           }
          ],
          "scattermapbox": [
           {
            "marker": {
             "colorbar": {
              "outlinewidth": 0,
              "ticks": ""
             }
            },
            "type": "scattermapbox"
           }
          ],
          "scatterpolar": [
           {
            "marker": {
             "colorbar": {
              "outlinewidth": 0,
              "ticks": ""
             }
            },
            "type": "scatterpolar"
           }
          ],
          "scatterpolargl": [
           {
            "marker": {
             "colorbar": {
              "outlinewidth": 0,
              "ticks": ""
             }
            },
            "type": "scatterpolargl"
           }
          ],
          "scatterternary": [
           {
            "marker": {
             "colorbar": {
              "outlinewidth": 0,
              "ticks": ""
             }
            },
            "type": "scatterternary"
           }
          ],
          "surface": [
           {
            "colorbar": {
             "outlinewidth": 0,
             "ticks": ""
            },
            "colorscale": [
             [
              0,
              "#0d0887"
             ],
             [
              0.1111111111111111,
              "#46039f"
             ],
             [
              0.2222222222222222,
              "#7201a8"
             ],
             [
              0.3333333333333333,
              "#9c179e"
             ],
             [
              0.4444444444444444,
              "#bd3786"
             ],
             [
              0.5555555555555556,
              "#d8576b"
             ],
             [
              0.6666666666666666,
              "#ed7953"
             ],
             [
              0.7777777777777778,
              "#fb9f3a"
             ],
             [
              0.8888888888888888,
              "#fdca26"
             ],
             [
              1,
              "#f0f921"
             ]
            ],
            "type": "surface"
           }
          ],
          "table": [
           {
            "cells": {
             "fill": {
              "color": "#EBF0F8"
             },
             "line": {
              "color": "white"
             }
            },
            "header": {
             "fill": {
              "color": "#C8D4E3"
             },
             "line": {
              "color": "white"
             }
            },
            "type": "table"
           }
          ]
         },
         "layout": {
          "annotationdefaults": {
           "arrowcolor": "#2a3f5f",
           "arrowhead": 0,
           "arrowwidth": 1
          },
          "autotypenumbers": "strict",
          "coloraxis": {
           "colorbar": {
            "outlinewidth": 0,
            "ticks": ""
           }
          },
          "colorscale": {
           "diverging": [
            [
             0,
             "#8e0152"
            ],
            [
             0.1,
             "#c51b7d"
            ],
            [
             0.2,
             "#de77ae"
            ],
            [
             0.3,
             "#f1b6da"
            ],
            [
             0.4,
             "#fde0ef"
            ],
            [
             0.5,
             "#f7f7f7"
            ],
            [
             0.6,
             "#e6f5d0"
            ],
            [
             0.7,
             "#b8e186"
            ],
            [
             0.8,
             "#7fbc41"
            ],
            [
             0.9,
             "#4d9221"
            ],
            [
             1,
             "#276419"
            ]
           ],
           "sequential": [
            [
             0,
             "#0d0887"
            ],
            [
             0.1111111111111111,
             "#46039f"
            ],
            [
             0.2222222222222222,
             "#7201a8"
            ],
            [
             0.3333333333333333,
             "#9c179e"
            ],
            [
             0.4444444444444444,
             "#bd3786"
            ],
            [
             0.5555555555555556,
             "#d8576b"
            ],
            [
             0.6666666666666666,
             "#ed7953"
            ],
            [
             0.7777777777777778,
             "#fb9f3a"
            ],
            [
             0.8888888888888888,
             "#fdca26"
            ],
            [
             1,
             "#f0f921"
            ]
           ],
           "sequentialminus": [
            [
             0,
             "#0d0887"
            ],
            [
             0.1111111111111111,
             "#46039f"
            ],
            [
             0.2222222222222222,
             "#7201a8"
            ],
            [
             0.3333333333333333,
             "#9c179e"
            ],
            [
             0.4444444444444444,
             "#bd3786"
            ],
            [
             0.5555555555555556,
             "#d8576b"
            ],
            [
             0.6666666666666666,
             "#ed7953"
            ],
            [
             0.7777777777777778,
             "#fb9f3a"
            ],
            [
             0.8888888888888888,
             "#fdca26"
            ],
            [
             1,
             "#f0f921"
            ]
           ]
          },
          "colorway": [
           "#636efa",
           "#EF553B",
           "#00cc96",
           "#ab63fa",
           "#FFA15A",
           "#19d3f3",
           "#FF6692",
           "#B6E880",
           "#FF97FF",
           "#FECB52"
          ],
          "font": {
           "color": "#2a3f5f"
          },
          "geo": {
           "bgcolor": "white",
           "lakecolor": "white",
           "landcolor": "#E5ECF6",
           "showlakes": true,
           "showland": true,
           "subunitcolor": "white"
          },
          "hoverlabel": {
           "align": "left"
          },
          "hovermode": "closest",
          "mapbox": {
           "style": "light"
          },
          "paper_bgcolor": "white",
          "plot_bgcolor": "#E5ECF6",
          "polar": {
           "angularaxis": {
            "gridcolor": "white",
            "linecolor": "white",
            "ticks": ""
           },
           "bgcolor": "#E5ECF6",
           "radialaxis": {
            "gridcolor": "white",
            "linecolor": "white",
            "ticks": ""
           }
          },
          "scene": {
           "xaxis": {
            "backgroundcolor": "#E5ECF6",
            "gridcolor": "white",
            "gridwidth": 2,
            "linecolor": "white",
            "showbackground": true,
            "ticks": "",
            "zerolinecolor": "white"
           },
           "yaxis": {
            "backgroundcolor": "#E5ECF6",
            "gridcolor": "white",
            "gridwidth": 2,
            "linecolor": "white",
            "showbackground": true,
            "ticks": "",
            "zerolinecolor": "white"
           },
           "zaxis": {
            "backgroundcolor": "#E5ECF6",
            "gridcolor": "white",
            "gridwidth": 2,
            "linecolor": "white",
            "showbackground": true,
            "ticks": "",
            "zerolinecolor": "white"
           }
          },
          "shapedefaults": {
           "line": {
            "color": "#2a3f5f"
           }
          },
          "ternary": {
           "aaxis": {
            "gridcolor": "white",
            "linecolor": "white",
            "ticks": ""
           },
           "baxis": {
            "gridcolor": "white",
            "linecolor": "white",
            "ticks": ""
           },
           "bgcolor": "#E5ECF6",
           "caxis": {
            "gridcolor": "white",
            "linecolor": "white",
            "ticks": ""
           }
          },
          "title": {
           "x": 0.05
          },
          "xaxis": {
           "automargin": true,
           "gridcolor": "white",
           "linecolor": "white",
           "ticks": "",
           "title": {
            "standoff": 15
           },
           "zerolinecolor": "white",
           "zerolinewidth": 2
          },
          "yaxis": {
           "automargin": true,
           "gridcolor": "white",
           "linecolor": "white",
           "ticks": "",
           "title": {
            "standoff": 15
           },
           "zerolinecolor": "white",
           "zerolinewidth": 2
          }
         }
        },
        "title": {
         "text": "Distribution of the different user ratings"
        },
        "xaxis": {
         "anchor": "y",
         "domain": [
          0,
          1
         ],
         "title": {
          "text": "user_rating"
         }
        },
        "yaxis": {
         "anchor": "x",
         "domain": [
          0,
          1
         ],
         "title": {
          "text": "Amount"
         }
        }
       }
      }
     },
     "metadata": {},
     "output_type": "display_data"
    }
   ],
   "source": [
    "aux_df = pd.DataFrame(df['user_rating'].value_counts())\n",
    "aux_df = aux_df.reindex(['mediocre', 'bad', 'good', 'great']).reset_index()\n",
    "\n",
    "px.bar(aux_df, x='index', y='user_rating',\n",
    "        title='Distribution of the different user ratings',\n",
    "        labels={\n",
    "            'user_rating': 'Amount',\n",
    "            'index': 'user_rating',\n",
    "})"
   ]
  },
  {
   "attachments": {},
   "cell_type": "markdown",
   "metadata": {},
   "source": [
    "There is a clear imbalance in the user rating distribution"
   ]
  },
  {
   "cell_type": "code",
   "execution_count": 308,
   "metadata": {},
   "outputs": [
    {
     "data": {
      "application/vnd.plotly.v1+json": {
       "config": {
        "plotlyServerURL": "https://plot.ly"
       },
       "data": [
        {
         "alignmentgroup": "True",
         "bingroup": "x",
         "hovertemplate": "user_score=%{x}<br>count=%{y}<extra></extra>",
         "legendgroup": "",
         "marker": {
          "color": "#636efa",
          "pattern": {
           "shape": ""
          }
         },
         "name": "",
         "nbinsx": 20,
         "offsetgroup": "",
         "orientation": "v",
         "showlegend": false,
         "type": "histogram",
         "x": [
          90.20238827699148,
          95.169576546467,
          87.5085044529892,
          91.6507048080326,
          86.9317582856285,
          90.1779661972838,
          93.4897661104002,
          90.62343340259687,
          87.2904275297637,
          87.0961176850968,
          85.9390513015442,
          91.4728286927319,
          87.604580118384,
          86.3944837851677,
          89.2300673394984,
          86.4697565300543,
          87.40518113545701,
          82.5068026627738,
          92.1003666846239,
          91.6192188264272,
          89.4165305001774,
          89.5064402542281,
          94.7639661051555,
          83.873058636772,
          86.1915882622251,
          86.9704157785906,
          91.9227776862053,
          84.7556964162518,
          92.6747567761964,
          86.3489379389653,
          84.3096393544445,
          90.38027077223548,
          85.9674508621927,
          83.5913098540658,
          86.5701710877005,
          84.32320873317121,
          83.6034172776414,
          73.54953744004929,
          89.9967956880003,
          82.8869838016618,
          83.1396778827402,
          85.1571026997758,
          87.0103108506739,
          92.9297990073536,
          85.22831113653231,
          82.6243230234922,
          87.30333394450261,
          85.249532073259,
          92.2385721111404,
          79.93424669841619,
          87.5436681905432,
          90.5046159098196,
          89.1401898123247,
          85.19299520215951,
          81.27379192608011,
          90.416329998856,
          86.6718813362376,
          88.43243568645408,
          81.83088229143401,
          84.82904038023561,
          91.3280444607945,
          73.1133455113156,
          89.79077900226541,
          85.2874687506217,
          80.3713450699153,
          87.4284455632797,
          83.9823673846464,
          88.6940102350337,
          90.8731083535857,
          88.0169705450485,
          88.9346324582303,
          84.0597728674763,
          87.54368412835021,
          87.022589185513,
          84.5686827909862,
          82.0156642237673,
          85.40133913865111,
          76.8923075414107,
          93.99493994245547,
          82.3478397126592,
          90.3949548825683,
          85.8668587894335,
          92.7789244661717,
          83.0393911853969,
          81.9822375735093,
          79.4894731175952,
          92.2895500467501,
          83.9937781455363,
          76.8872736669568,
          83.37359461112669,
          86.4990908150811,
          89.13886256136561,
          91.3644771349512,
          87.3068857138802,
          84.4390215267486,
          84.43695109470181,
          81.3604520225099,
          86.7285029217495,
          86.57149416861101,
          72.6419601906709,
          85.4105389217171,
          80.7480157902264,
          84.6637168327209,
          82.2398051151336,
          82.7278793671889,
          84.59516617786021,
          75.8496470495839,
          73.3711958487462,
          82.20556157776309,
          83.04018098089911,
          83.424901525135,
          80.4898507850391,
          88.44670242443071,
          83.2756606758803,
          80.06369489567601,
          87.21336841266191,
          92.04296012748053,
          80.2070009725959,
          86.70233256239699,
          87.9777330917062,
          77.80327610535369,
          78.7501663006813,
          85.79969372288821,
          86.9419345021883,
          84.0169151059516,
          87.9018580912704,
          92.7379463088366,
          81.8312561542021,
          84.9250464225964,
          87.3065890544334,
          93.4359004417715,
          82.22895615077331,
          88.3210936290258,
          85.16610223879111,
          88.1501536826871,
          82.9691607379053,
          92.6155832052645,
          89.07826177789889,
          83.5526295529564,
          79.8707669467363,
          75.3157260464731,
          87.52254628381439,
          71.5621815524043,
          87.2347196145563,
          76.0593921322599,
          82.45556956786811,
          87.4490562393796,
          82.0949551175209,
          81.7884482762758,
          81.188113797361,
          72.7016028286611,
          84.2588877048683,
          84.3477549416223,
          92.1892832944981,
          89.1122141778179,
          83.7815978935928,
          84.0206982369649,
          83.4612893779,
          82.72909256236771,
          87.5642844993527,
          77.678545565915,
          82.4095703411846,
          90.5430793600557,
          85.36504574631641,
          76.4030049741583,
          85.9344915342514,
          85.9290696737448,
          82.53966471562009,
          79.4206169080037,
          75.3954777319517,
          90.1769237431199,
          86.16812732037741,
          74.7197915181121,
          81.2950018707241,
          81.93811454471981,
          84.55369688465422,
          81.20191246737001,
          85.449304173423,
          82.2668844653866,
          87.3975303603531,
          90.88770399023448,
          74.9882452253255,
          88.35425543860669,
          87.4247456167621,
          79.7181257492477,
          82.7878690751478,
          86.20577314942601,
          85.6052732491365,
          80.65647568166821,
          68.0513260963946,
          77.9371979366283,
          82.3870533549165,
          88.2257578668731,
          74.4699743930481,
          73.299576382747,
          80.3609485550441,
          63.9713524032382,
          75.8280156979169,
          82.60441609533319,
          81.2962541597863,
          85.6729433355404,
          81.3103970335942,
          88.93360344401509,
          84.6098945104812,
          80.7414446009324,
          75.6179065318142,
          86.0615885558417,
          80.3040165924231,
          81.6065066985346,
          85.0927466014954,
          91.4437868142277,
          86.4598382239665,
          85.1646605223396,
          77.577702185012,
          89.0075891291655,
          80.16283089968229,
          92.8032137947489,
          85.5362329211976,
          80.1083761925573,
          86.6060996724085,
          71.9681417989596,
          82.5676419567387,
          74.26746444534609,
          82.9434873854224,
          84.86228433928079,
          81.29931104854579,
          84.0280289089627,
          84.0222306915936,
          81.74817154657619,
          82.12992940025019,
          78.7116438794853,
          77.4356697231447,
          85.8296778627122,
          90.1068609274563,
          81.75146056480891,
          84.40653726961241,
          85.3084417202581,
          83.90843087024169,
          77.14808508151731,
          78.876067849171,
          82.39025577556649,
          82.4391436051663,
          85.4559666005712,
          79.9857885616905,
          65.6138622917438,
          82.94501840876899,
          85.7062123331069,
          82.57230122324741,
          81.2617964099414,
          74.8375065665559,
          78.73795483148099,
          83.4055199714698,
          71.4463146859054,
          80.829848760996,
          79.940598914657,
          83.502420277688,
          77.7473972745548,
          70.7658806295796,
          86.8317487014552,
          89.1263182886184,
          75.3382776125226,
          83.1695707918742,
          78.4251051271123,
          80.7401860221924,
          82.0853387633766,
          79.8687416693097,
          76.8163381880958,
          82.4712731433184,
          77.044220533843,
          71.3743175457648,
          82.3237439825428,
          72.1349597389149,
          78.4207296198906,
          71.7203448596959,
          82.3177628160442,
          83.3170390160841,
          74.22702939571779,
          78.6991604170145,
          78.8344074581776,
          77.9594554862594,
          66.03465351990751,
          80.4009867185232,
          75.6437242406618,
          76.4010911776059,
          81.8602453637162,
          82.7741083856063,
          74.1146166790797,
          83.8309442823411,
          78.1846075307424,
          87.92140009160191,
          84.9468907958392,
          89.5270572936378,
          84.7472203355659,
          88.7213461345916,
          72.65040173231961,
          79.3840090734283,
          80.42721950053719,
          67.28350028389781,
          78.1008364143847,
          79.0332241070549,
          77.1846805123066,
          69.2413191348041,
          69.4418811267569,
          82.7677787739268,
          81.0477795914011,
          82.1668541859147,
          73.7659237029341,
          81.291409401152,
          66.3477737850323,
          85.39985216883281,
          83.6081367402148,
          79.5813229239392,
          80.0531533764314,
          84.6795117493543,
          80.5000636748622,
          84.4669481492034,
          81.51325706232191,
          80.9788493451653,
          76.9835207386009,
          85.1054685276067,
          83.8143499091006,
          81.2986333643918,
          67.1156273832343,
          83.3578346083955,
          81.0678719188854,
          83.8309214649078,
          78.0890777254238,
          81.23619014340869,
          72.7565662432961,
          81.99631435628399,
          74.74475105355421,
          75.9557906152251,
          86.6568695227018,
          80.74611982142059,
          79.0898667359467,
          83.2230664120445,
          82.36998693238499,
          83.9104855317322,
          78.4634263704186,
          90.03635388885829,
          78.0241417494774,
          73.291598969631,
          87.10955010727149,
          85.43626215009229,
          73.0935085732784,
          81.1054869014116,
          81.66618625646089,
          74.7115412367406,
          83.1994685827113,
          78.88709178019221,
          87.31824030657,
          82.56068539518839,
          82.64145545696019,
          83.58811083835062,
          93.3853757579299,
          84.0732912035824,
          82.0815298039631,
          79.1990227073667,
          82.678870348554,
          84.59307302289821,
          87.05938028837289,
          84.9493205088737,
          82.41581796393379,
          84.14580701373589,
          72.9744247429226,
          86.2496240304427,
          85.67133785117261,
          78.71011784158439,
          81.48789306175759,
          74.6334232419977,
          80.74800125071,
          85.3303656536403,
          73.4939746194116,
          80.7571443854373,
          81.57425651108021,
          80.10372355997231,
          85.3894070676953,
          81.6149809507189,
          84.1096262281772,
          84.53117253500221,
          70.05516488965709,
          96.0951088723585,
          75.8506507835754,
          86.0753692920899,
          87.6875536839589,
          75.80536382546809,
          80.5124425223772,
          83.7094167214459,
          72.24990734137779,
          74.9928522975235,
          83.35925161295509,
          90.9640121282963,
          70.820278874694,
          76.3585521518655,
          74.4883639938127,
          63.7959754994537,
          74.0900664111608,
          79.6514154121533,
          83.8161175336041,
          87.88962654477331,
          86.81633300768651,
          82.9187107091299,
          81.60706048773291,
          84.8741814514846,
          85.8795696075304,
          84.0159560715024,
          78.28743812248321,
          75.7398571231985,
          86.86496507662801,
          82.6431499456246,
          74.19823561307341,
          84.8141679915333,
          81.7382771929812,
          82.5899359883507,
          73.298295596413,
          74.2336621336935,
          75.0976023104228,
          82.1210851062238,
          89.17334296593269,
          73.4977273038516,
          87.1534662211525,
          82.4534646659178,
          83.301602767327,
          82.8407126151315,
          86.2375449143371,
          81.6622763813437,
          90.7281379124329,
          82.10442689671231,
          77.23629335279,
          81.07179587308391,
          83.709399281055,
          82.3254500417114,
          76.6600957081348,
          89.91870092424531,
          69.7801782155135,
          77.2739439812737,
          82.9740007403514,
          76.1550785722925,
          78.46120363834589,
          84.3662447835776,
          87.3016907444495,
          82.5154924957374,
          82.2199313488569,
          75.1991926742011,
          76.7745109255843,
          85.1770496813007,
          72.6468849877312,
          68.1252492999835,
          80.03768609732029,
          82.19191367809691,
          79.1663659326486,
          77.8505688368803,
          85.15814183130249,
          84.9196247914997,
          78.0117462155617,
          81.3819448716673,
          76.1812896230582,
          85.6451859175891,
          85.1579595582217,
          81.83011068769639,
          84.31574777164951,
          78.4398312805822,
          83.35497458099731,
          81.9618668323727,
          87.9171764069258,
          72.3438202530578,
          76.8993588235422,
          77.4837815122702,
          72.7910174978001,
          77.52463584492949,
          71.1705401554533,
          73.6658267040927,
          72.9289355942432,
          79.8167288361554,
          75.692544942974,
          72.6241837715946,
          81.5605567601477,
          82.83361356556821,
          81.7941463734314,
          74.8378478356434,
          77.3988212608189,
          76.3763839110076,
          75.4454317602992,
          63.30344584265801,
          76.4459716255158,
          80.0784502878807,
          76.6618609851806,
          86.0234327335213,
          84.0446835435437,
          80.66365557996161,
          71.6973337371209,
          82.425422644057,
          79.00574531696239,
          86.4980929128323,
          70.6000368931931,
          82.5898744591511,
          72.5664928828696,
          82.9284370633993,
          82.6486467791147,
          69.01703868250169,
          77.49230213977471,
          82.9572230676292,
          83.4982913004392,
          77.4153319982133,
          80.91558706859439,
          67.222448394756,
          85.8851165414322,
          63.41426597438159,
          72.88122045855529,
          80.081560220276,
          82.0756348832264,
          81.1174242014169,
          69.06387431641791,
          86.81101390060701,
          62.7477369555869,
          72.6782166111642,
          81.09391457378109,
          74.9565273004462,
          76.1289021290853,
          78.204319583052,
          80.10317938895669,
          70.94783309248041,
          76.5382354223936,
          72.5603741790994,
          80.9087563491059,
          78.8815010774149,
          70.7857474387857,
          82.0129682441409,
          76.45968981531621,
          81.65553565243681,
          89.3772107743917,
          71.1345326790923,
          80.5173090119224,
          77.975741714021,
          74.29072250371169,
          78.4214696038572,
          78.0220868646562,
          84.81525282994261,
          83.1899086390389,
          82.77764629110268,
          87.0629198114748,
          80.34075498114109,
          53.7550296088104,
          69.4632810203437,
          79.9894874124251,
          78.3568216015841,
          81.82375443969849,
          78.364500359031,
          77.6861445366987,
          67.1805263464029,
          75.05182936086,
          83.482900432463,
          74.3786692156869,
          74.8587038250321,
          76.73728525511889,
          76.6429139397262,
          79.2306672847692,
          78.7351799913138,
          65.0482980479178,
          75.08657758219451,
          79.9771529137144,
          87.1749392811794,
          74.98072103095569,
          76.62631421903279,
          81.3470646275963,
          79.30962164287169,
          77.98116291667979,
          82.0125737069231,
          67.2311896399928,
          85.32241759730469,
          80.0858517844373,
          78.9421070352108,
          75.052821614115,
          70.3123371022271,
          78.5379195378245,
          71.8937311726429,
          75.3632185837399,
          79.8573260114931,
          77.310318463323,
          85.0547043770642,
          90.27407862092178,
          72.7123790943019,
          73.2575357467218,
          76.889455979234,
          73.3596217001237,
          76.1042952525162,
          71.6998882647316,
          76.1079463240325,
          91.54480861156487,
          82.3278825996486,
          82.8639051786463,
          71.3968008821709,
          82.17200206618321,
          77.06790569342789,
          82.5931763098917,
          70.86631207955361,
          80.08620633680559,
          85.3701138713442,
          81.04958660991039,
          72.52347403054381,
          77.0495928307583,
          57.4098425528883,
          75.8837630455775,
          81.7703148779795,
          78.8756552586369,
          79.29582879431,
          81.3908336211367,
          73.8127932861824,
          73.50465176818619,
          89.51707746535502,
          71.2259591871121,
          80.2657871933471,
          76.53423029627,
          67.6042064938265,
          81.44940973931149,
          68.912889449416,
          87.2570639392532,
          82.8204170677802,
          82.2052568355268,
          79.2228238943617,
          83.5726515502939,
          86.4486400579515,
          67.65037133614581,
          80.8814616964815,
          82.6983385664616,
          70.5397849968836,
          81.3628686798102,
          85.90985191611709,
          77.2834037606104,
          77.4158870660034,
          82.49761702420051,
          72.4432841599611,
          74.8421891323886,
          73.96950300697111,
          84.30737829835931,
          82.7620582303529,
          73.8268712146096,
          86.8361114629636,
          75.270160142658,
          72.65557535029549,
          74.1237486617085,
          82.9611457537477,
          80.7160365579263,
          85.7315318028135,
          75.31275018471919,
          82.472794799167,
          84.8201460163486,
          83.8005978304834,
          56.0996514118104,
          82.70941878092289,
          82.1857040198389,
          76.05552097945,
          77.66316865091001,
          74.8743557845807,
          78.1534481523561,
          75.210657522311,
          85.55799399153759,
          70.04392745624651,
          74.2882942710069,
          73.14664209402909,
          73.7309917256884,
          82.67473604637541,
          67.5872217574847,
          73.6961608747315,
          77.931216550336,
          87.5977179712863,
          72.7439580968117,
          68.9361368185146,
          78.32357063301271,
          65.1914477611219,
          78.1011141793293,
          82.07335212507941,
          70.8798223657007,
          78.8517427990528,
          76.4842824243677,
          76.3537787340037,
          76.9286365480236,
          76.3695002393633,
          73.8514656420885,
          82.40150125996931,
          65.7960136792585,
          73.4631487307616,
          81.0513676051621,
          65.9293143739107,
          88.59780610530579,
          79.1321304518767,
          79.1349714944018,
          79.4226856299656,
          83.7712834305091,
          65.79394291510481,
          80.32262955644731,
          85.3708124116788,
          75.8735224791149,
          86.72555669784201,
          74.9965169677055,
          70.5080731552815,
          80.6035548278961,
          74.8986935232552,
          88.42924060255459,
          72.1203526042332,
          79.1844645649431,
          76.7310116239007,
          71.4479583240852,
          69.9875634211974,
          85.34579818644829,
          70.16887879446921,
          81.7006903614456,
          82.0129752009967,
          75.0255161439382,
          83.0191671324387,
          85.0845698371385,
          87.0945619913668,
          78.4099393593228,
          69.0873184936651,
          84.89164271635079,
          81.3629438334017,
          76.52829135429491,
          75.9385383647479,
          83.85918124950051,
          80.7722256983833,
          80.80848198107111,
          76.4909881397343,
          83.28482373823819,
          77.58657481570259,
          79.1646241257815,
          63.5399757735167,
          82.9198801887031,
          81.9144871685652,
          80.95030733108709,
          88.1957428040985,
          72.5035620785823,
          74.0846984204985,
          69.5295788893747,
          81.37053209367369,
          74.2008399843335,
          83.31886299897141,
          83.92017321106269,
          64.8788121571591,
          72.2205752510936,
          79.7770498828046,
          80.8297007242337,
          82.96417484489551,
          67.3465120631287,
          77.17867050079309,
          77.2057865550188,
          74.2284760237663,
          77.0240962009761,
          78.6898390945954,
          72.2875704392299,
          86.7999276930238,
          81.42614455467489,
          72.7508325861352,
          84.7873215188791,
          86.4147027770889,
          77.8870367528206,
          74.8629338865646,
          73.11047571867421,
          82.83207681070189,
          75.4102241043862,
          72.8516693062673,
          75.6598207132491,
          76.5687417384666,
          86.30506132555469,
          81.2760615762467,
          74.261178739466,
          74.6136766903861,
          75.5440332603297,
          86.788534624326,
          66.5184376898393,
          80.61453661452269,
          82.3330024367302,
          85.0271327115947,
          83.27243886503769,
          53.4248667272282,
          74.34540666787859,
          76.7258653272178,
          75.19798334515541,
          76.44211260755979,
          77.6323650622055,
          81.522576823383,
          72.0101202111705,
          69.5727845536729,
          75.9848182758238,
          88.7801942466106,
          77.27062494866101,
          80.52011505156071,
          73.11721474193871,
          81.84734212987371,
          83.0894776026541,
          77.1215537466129,
          71.7378251515891,
          85.3304417918603,
          84.17754224669221,
          83.1218039267962,
          73.486608162189,
          83.9084736436433,
          76.9882013549075,
          67.3631315320559,
          79.71029743444501,
          81.6944208447606,
          82.8525868993022,
          81.0076331508345,
          71.3639024650048,
          79.452248800177,
          75.5621060751443,
          71.19501687491821,
          80.6666690034627,
          89.47734288566879,
          79.2248489610836,
          78.9110737533032,
          80.9254167878878,
          82.5672398911498,
          62.9543823791628,
          69.91456607836339,
          61.1608380545833,
          91.2373773134574,
          73.6472399321119,
          78.20092430328171,
          84.02748215574199,
          74.5099090922257,
          76.1481348457633,
          75.9729599564334,
          83.5248004835215,
          82.5434471450896,
          82.6764127745335,
          87.04640653639039,
          79.8905130363175,
          74.4619158399363,
          76.2402249225191,
          81.8844870803641,
          78.4393730269341,
          77.01459489554361,
          87.92936786435601,
          78.9885712223691,
          93.3826605399738,
          76.6023975391155,
          71.8216124197898,
          90.5475015156417,
          59.7522392251912,
          70.6310296221902,
          86.2378013436311,
          80.4484679350114,
          74.6233320333294,
          74.4877155896081,
          69.0583119500693,
          88.0793237289845,
          81.8656337951201,
          69.635342101179,
          80.7271983680552,
          76.1253609488153,
          79.6248318743562,
          80.0842825643768,
          74.3531933124145,
          82.5667896377413,
          82.0204983122705,
          75.8284951454558,
          84.50625672005711,
          87.0997847513029,
          87.04297105282731,
          78.1756406699626,
          78.0169172440549,
          76.4514130629489,
          66.6198969763107,
          80.47249987888779,
          82.46346354127381,
          80.121672060271,
          81.3405980070548,
          76.4494564924408,
          78.1532095899511,
          81.2474789111967,
          79.4749442064201,
          73.56267303535981,
          69.8652696951192,
          78.2450745480783,
          80.2268213174176,
          68.4167706856049,
          82.8170142074739,
          69.339608793225,
          80.9691296685572,
          83.3969104694492,
          78.3981840462261,
          80.4206991218837,
          89.8689450780678,
          75.36779201332129,
          70.4355296956447,
          78.2832483675996,
          82.1615133337248,
          67.8003072851442,
          83.19027830453169,
          66.114129093372,
          77.9336983547799,
          81.6996942459075,
          72.1344139249546,
          72.3950071794277,
          82.0893559121015,
          78.5498249466344,
          81.1387853042142,
          89.7305256553716,
          72.9879546112552,
          80.9433845981499,
          78.7432094349038,
          77.8980900364135,
          74.86271582626489,
          87.249592725842,
          72.9472421696651,
          72.1950590935152,
          75.6009986790815,
          77.01509313859711,
          91.249939404154,
          78.0577919321898,
          78.2093150914983,
          73.8577693127251,
          81.9151773395126,
          63.1774550203089,
          84.5224979472766,
          75.6027717996679,
          76.6922234265427,
          88.3056200484879,
          76.9337543912017,
          67.7166191957367,
          79.20935339999,
          70.7576951895613,
          70.2177617496241,
          77.8959795619795,
          68.3012023563032,
          81.2753541925959,
          80.32016553598311,
          74.6848974288458,
          84.746333280806,
          62.1957968388066,
          76.8469103979504,
          82.2781527243983,
          86.0146465581777,
          87.82809869351651,
          77.0994730918443,
          81.61380001267179,
          77.9243173107923,
          66.0556288120589,
          83.4169931943492,
          75.0412585374367,
          69.68184797146131,
          79.51455392199419,
          67.68601540507649,
          68.2108037918903,
          85.44511265497,
          86.73686705008899,
          76.7137510070119,
          75.8342032850694,
          65.5287992304349,
          85.0308495715569,
          58.2349047565522,
          71.9233351639257,
          78.0230537388129,
          68.459044038701,
          84.52528043265471,
          80.6730824782643,
          85.3559335794983,
          79.1108429855682,
          75.929553110376,
          74.1551911667101,
          78.50413452955169,
          80.50049337633521,
          66.83817272796409,
          75.1806880416607,
          75.4599109736078,
          77.4902126958774,
          82.447841773513,
          79.5249004331066,
          69.880691857544,
          71.3999115350004,
          82.64712071131379,
          78.03785335151291,
          73.578174438216,
          79.237559988066,
          77.5273594302598,
          78.9530612249946,
          68.12780967790741,
          72.7696601835643,
          69.2468944592618,
          77.1815416220427,
          67.6377602704783,
          77.2994965173023,
          78.8343596977402,
          66.37532193641701,
          77.87706764893579,
          76.9998011584118,
          75.9512703286839,
          76.0941023753095,
          83.56410103886519,
          80.361002675529,
          67.6058409577805,
          82.05906867652911,
          67.47197486146649,
          67.9394305625391,
          73.9990647584584,
          84.90245539810809,
          69.231100361475,
          76.8191523515583,
          78.0435884888909,
          72.1206558733353,
          66.5338875801185,
          86.0283429100611,
          79.7095266390085,
          80.7435050359488,
          77.6271097532763,
          78.7380531586808,
          88.46283024519961,
          76.10207633003719,
          80.6434588985314,
          70.1843311645916,
          67.0497249785426,
          78.2959469764423,
          89.62348970880728,
          76.336897741117,
          84.1256479305766,
          75.4300943171542,
          85.30554650791811,
          76.02161275013489,
          83.0806563825924,
          65.1910105812328,
          68.78381789271751,
          62.1349172101463,
          66.7575611711114,
          79.7141035668662,
          85.00663720823431,
          72.3808093646159,
          86.34517694106779,
          82.1845299654337,
          80.74664444613701,
          82.7419249984218,
          77.7051405361935,
          25.2868853303449,
          72.2906111308212,
          60.0518561722951,
          93.8474523280724,
          89.3672989846632,
          74.0178329344444,
          74.844816115635,
          77.13065165386651,
          81.63986200673969,
          72.4247366874163,
          74.31705668732701,
          78.9576811684662,
          67.175280828838,
          60.485627604866,
          79.6025455796347,
          72.020176106136,
          71.3595959472236,
          82.787254968159,
          82.97173622551229,
          73.4234448866039,
          89.5947378798287,
          78.5149311289792,
          77.3274906410401,
          79.9162157615288,
          75.3170298705502,
          88.50473116840989,
          75.7548561475393,
          80.5007673460044,
          81.10693827985071,
          78.5120285109166,
          75.40189597848399,
          73.6289494250632,
          63.6935446451878,
          85.57491889808199,
          73.7914992776563,
          80.7856072298999,
          77.3940940552648,
          78.1100284526445,
          80.3928084327987,
          80.0388117756404,
          80.7075857397181,
          89.60014883221129,
          73.728579719314,
          75.0168276457574,
          85.39620775666711,
          68.1330962800502,
          70.2550527517662,
          69.1215778990492,
          77.91846322277691,
          73.2503699258565,
          67.33075166430791,
          70.0012415113152,
          78.1580781878582,
          74.00497809056661,
          88.0882670213509,
          72.6701543583209,
          63.0276384812428,
          76.5919845620878,
          68.00913314387171,
          79.1299878809078,
          75.62532960937341,
          80.851196708563,
          69.6700173975227,
          74.3079414522956,
          73.0216323699447,
          88.51822207668411,
          63.2317756130094,
          80.9069203295889,
          83.81262990648591,
          80.3747169172057,
          64.6885430526639,
          61.01194908944861,
          83.46380779031661,
          71.9006420524401,
          75.306622514966,
          79.7243103115248,
          71.49630982039551,
          72.2681299673018,
          70.3806117734005,
          80.35956258860621,
          91.51603138923,
          80.9090317260833,
          81.2847679535026,
          78.9556656202276,
          72.29593019642431,
          81.65472918143641,
          82.5002232482943,
          79.9677358480219,
          87.4630493809704,
          71.5557007664569,
          71.3400812270026,
          73.3954971062499,
          70.6925586500483,
          76.0776410276206,
          78.1721749216491,
          70.0043264955256,
          67.5986850212751,
          77.5079689057257,
          86.3798858163218,
          79.1604962016016,
          82.5796855581998,
          83.5951420171439,
          68.9311631267413,
          78.8062534729881,
          86.1980959282407,
          80.3057475546108,
          77.3122704785839,
          79.4533093257923,
          75.1129979955087,
          79.3305400042682,
          79.8914621189084,
          76.3415625634815,
          70.5255943729399,
          72.75197339388049,
          86.7232908204819,
          77.6780829312644,
          71.78047980226489,
          96.2853366706006,
          78.0466134020205,
          75.7874999567228,
          74.39605463621649,
          82.07576133121121,
          86.954430625144,
          78.2169345701584,
          67.9472687272997,
          78.55513051839141,
          87.7370894629962,
          72.8545802017737,
          82.7201747309567,
          75.0958648476094,
          89.51645364085509,
          79.7472617128208,
          72.8397136016996,
          72.3423049466569,
          72.8024969226215,
          68.54594002908419,
          77.46362509733311,
          80.392709735619,
          74.8242945460233,
          75.4344063955414,
          70.15914706067791,
          81.3330537464502,
          91.9630187891063,
          85.2658060854067,
          72.0841084735842,
          77.75649780630201,
          84.5823047173773,
          83.16388522470581,
          97.1519144847905,
          74.58297835031149,
          73.72679636283391,
          73.4409059223509,
          73.4639598848843,
          74.5708630215348,
          71.3356353714131,
          73.2077972157308,
          74.2035874445323,
          77.0093403556337,
          76.58833302916949,
          85.2660834401089,
          75.7717147630119,
          73.848475085608,
          82.44616659580471,
          82.32258397875191,
          84.62658834353711,
          89.4566060002556,
          75.1160176569629,
          74.0780416565013,
          81.52857368202649,
          73.162473248977,
          69.6480375934172,
          65.4763783846121,
          65.47433416575049,
          83.29939016866909,
          90.82241878351893,
          68.61694131220369,
          75.1647106169999,
          77.1225111500094,
          80.3503187418668,
          80.1018411620857,
          84.9914069566006,
          74.678772505855,
          78.51586646234199,
          77.51282482886799,
          72.4825909220328,
          68.1563674190424,
          74.9698137842069,
          92.3622047261608,
          88.6723095284612,
          77.6576767926428,
          71.3150292181856,
          73.3068129804556,
          81.5824624744601,
          73.0992998534722,
          78.0459678328605,
          68.8055653956159,
          72.33121495501629,
          81.10765707440541,
          76.4774080995569,
          73.6122265260819,
          76.1309100612893,
          72.9092431358709,
          65.5466898418741,
          58.3080116269909,
          79.307026910006,
          78.7230159134934,
          82.80623049307638,
          47.6374470685755,
          75.4960971708553,
          60.7098055234012,
          77.207924381594,
          70.37254102616009,
          79.69490694502569,
          74.11846576212281,
          81.0233860637721,
          80.27081843897321,
          73.8240951971229,
          88.79419655335721,
          77.04129732654741,
          74.1339301879066,
          76.955156468844,
          84.1162058876602,
          69.7322143631961,
          79.35260710871441,
          66.8235735792448,
          78.2621618208675,
          84.58111833342019,
          77.6066723038247,
          73.3300418405271,
          69.0126037185549,
          71.92577754262541,
          83.7491545387585,
          89.8954977652499,
          73.0855246036747,
          69.7372894432655,
          67.6178308211603,
          83.5452734094408,
          69.3664503173802,
          71.4403731280305,
          78.0235811990526,
          71.5291450293879,
          71.6632951358571,
          83.66674492333911,
          79.1633681581019,
          76.9724602914467,
          68.422067027057,
          68.58978964019829,
          75.6138035500995,
          64.3444776386452,
          72.17501222722879,
          65.0992657674499,
          68.3866422520649,
          84.57586299222831,
          76.4886746243555,
          79.2663877981025,
          71.2476274624662,
          69.8067901722278,
          79.5728204540625,
          74.312881195998,
          75.22731626064041,
          73.74850833015171,
          73.576477955656,
          70.76086045082269,
          74.0515510447812,
          80.740930667249,
          66.06799449086691,
          78.0691498942105,
          69.6724967410979,
          62.9140272356066,
          82.10222635583669,
          75.6758241881776,
          83.71675729411591,
          72.2786308030726,
          83.2755843369375,
          80.8093885473971,
          72.6880818367498,
          66.02508079018901,
          65.5804532088292,
          79.9444191384602,
          74.5104969901147,
          76.7677150544549,
          68.7469499102118,
          85.9507253741949,
          68.3867381111709,
          88.7386939518172,
          84.8588833302155,
          80.1297658014297,
          70.7222323857113,
          73.0094675763353,
          74.2347070909993,
          83.48390731471531,
          81.01478248258451,
          65.9481259416589,
          56.4787432150123,
          80.8263242510616,
          65.8361870016279,
          71.5291798640681,
          52.4264252467358,
          74.1135188176708,
          70.5563748139914,
          81.8342230644317,
          47.3764824144017,
          80.72897052360639,
          85.57653827394302,
          76.3713715554007,
          74.8524774476773,
          57.8846492800136,
          83.73760130447741,
          69.7966053091269,
          86.36198955434861,
          85.4047903366579,
          85.2614163534532,
          55.29254173539709,
          79.0208229965625,
          67.3524714005173,
          64.874131616065,
          77.685636274937,
          70.87063362027641,
          84.53145128402211,
          77.6379077301886,
          70.6637327789315,
          64.8597273162319,
          76.8534122152153,
          86.76761861844531,
          69.9935932658585,
          86.93311643355001,
          83.5418501676149,
          80.7735728669639,
          78.6513540520084,
          73.8351325793902,
          75.09653601189899,
          81.6810661317827,
          70.137381804299,
          88.7047538995759,
          61.0776150406986,
          78.4489376687396,
          70.035939700535,
          77.2506784355757,
          75.0550532492075,
          75.3421535585913,
          71.74861172390399,
          74.4605184058668,
          45.7994370871453,
          68.6779425305329,
          76.2746589750871,
          77.44774469885999,
          76.57210772965391,
          72.9817582200707,
          74.375779895779,
          76.86784486170029,
          60.6795154185733,
          83.879162366548,
          54.9949105604144,
          69.2637709623172,
          69.3908428351707,
          71.0197336399614,
          73.7861402131619,
          70.9401947977485,
          66.3045183156436,
          72.6421693380253,
          70.7529802662348,
          59.917213307982,
          74.6103032531215,
          71.4878751866235,
          61.9393464383554,
          75.1569783322703,
          90.8109753672977,
          70.34847375260429,
          83.8278403722035,
          73.44115785151389,
          70.9481269734564,
          59.447889751358,
          76.4788782212938,
          82.0875513743392,
          72.0736994124796,
          74.8679994937381,
          80.6471692674321,
          76.61663487157641,
          70.5187163843168,
          80.71736995228781,
          76.5876911136393,
          82.4034488669762,
          85.79339638423599,
          79.96043473751689,
          77.6371144482201,
          56.6618525870071,
          78.3983460150653,
          83.12342399016529,
          75.6466898322664,
          86.80080163298649,
          65.99123745905419,
          81.3761975733871,
          79.5616326494451,
          90.06661610564001,
          85.86555776138839,
          83.74371101420151,
          66.9522922512791,
          80.6403247448927,
          80.1858248464007,
          60.5020823018496,
          68.61494363824819,
          84.95422940966711,
          70.5142132663574,
          82.4945301537479,
          81.1479438537572,
          79.7852491367166,
          78.9181965231881,
          88.87777131821761,
          84.4883999365863,
          70.42918660611831,
          76.9840633925506,
          76.1493097678234,
          76.58609656118679,
          55.1949578183914,
          80.3321845328596,
          75.2333896286499,
          78.1885297447031,
          71.9817007489516,
          83.76597065295661,
          70.7300203582532,
          70.95226549412,
          68.0281595394829,
          79.4069912924604,
          85.63071736377451,
          77.1848379451079,
          83.9137616054243,
          74.99148198173769,
          80.125463219995,
          79.5966161172378,
          75.8150475033114,
          84.8254422713727,
          70.6960141090665,
          79.24388714418481,
          81.99447052868561,
          82.1130960225816,
          77.3352928802659,
          79.32828004635999,
          80.96968342032669,
          90.03515869020431,
          83.59701273343971,
          65.29325420416,
          59.1298726416464,
          77.5248549374448,
          71.7677290892975,
          74.5512720142758,
          73.47283589798481,
          65.3696394867021,
          86.2446143259128,
          73.2544132757957,
          80.35045835493,
          60.90669792684501,
          69.8835418400307,
          77.43202038009781,
          75.835565391869,
          84.354470285722,
          81.50509264950969,
          87.4783004990602,
          88.5173584980466,
          85.9476535821253,
          70.9712047663013,
          62.6438387115041,
          74.28469487669881,
          69.7416223335071,
          89.0085443789318,
          72.74918214610891,
          88.5902595483637,
          70.78372989090991,
          85.2616516142057,
          81.29612564677849,
          74.3667721033266,
          73.5467086472761,
          66.7951396263809,
          73.95289805731801,
          81.6540006681667,
          79.2263375548949,
          74.8123643432203,
          69.1133096286089,
          72.05253908159109,
          66.7832180024636,
          72.5630320935621,
          82.6354012990035,
          76.961027133819,
          80.698548195413,
          75.2608213096559,
          80.2797691953105,
          83.75781673029911,
          83.7515069144192,
          86.6244206668542,
          79.36603034631,
          80.8798446910603,
          84.3315775360945,
          68.3795615409725,
          68.236445926134,
          76.3522521355352,
          72.7573373119452,
          79.69862120627509,
          66.890855790789,
          73.5612312619892,
          86.1930627678509,
          59.9260559745518,
          89.820399313085,
          70.3108801686773,
          79.8260525675844,
          66.9938003864707,
          64.59337534214279,
          76.8858372895553,
          58.81922745014531,
          76.7581940947994,
          76.5442452363653,
          68.2578440836143,
          75.2460591580732,
          65.7332572435185,
          71.730588904226,
          63.6358016340086,
          84.2362893121185,
          80.5645100709431,
          75.36653838988519,
          69.34977525692099,
          69.5145361417905,
          52.5160196923422,
          89.1503076999942,
          80.0248987711481,
          77.9695194901745,
          86.5074185426566,
          82.3469494791679,
          81.18129105504369,
          72.7420613986754,
          76.2678374028782,
          71.56083402977801,
          84.6107791430521,
          60.330828915545,
          70.2964804704499,
          64.2066469911669,
          64.4431015618955,
          73.4105144526649,
          55.0346337373512,
          72.7851611871672,
          80.4238961915473,
          69.9071924933475,
          83.3333964193684,
          68.0505891226847,
          70.6691132743444,
          66.01645534631149,
          75.50174533849341,
          71.7274184914206,
          71.1868775539817,
          91.1343901369483,
          85.63849977956761,
          89.13652508752,
          69.528702756209,
          75.0905304894293,
          70.9492658148138,
          71.1199043200895,
          69.239488048078,
          77.365054873369,
          53.7743063152958,
          72.7350987738565,
          78.1541560190655,
          78.9465045249607,
          76.5765894424937,
          72.5337813663356,
          79.8311371930894,
          59.9864669401396,
          42.8309827480992,
          81.0079419246722,
          59.5731076634125,
          77.23325209202281,
          71.3074941801968,
          78.95156531032269,
          80.61093118676229,
          79.0182952068334,
          75.1781341618302,
          71.9840913436562,
          82.304186224331,
          72.842647852564,
          70.5379057681976,
          75.8291313991309,
          74.19751794364271,
          69.3131616814953,
          66.5075124912504,
          75.351329150785,
          74.0920960276178,
          68.5458235191975,
          54.58959400638,
          63.81204214614159,
          69.5512252359608,
          84.7353154243624,
          78.27141112879309,
          77.6202664766558,
          82.1573776717326,
          72.3384318205499,
          87.01720816402829,
          65.7179359338636,
          69.7241794840566,
          70.1103764197768,
          77.50787408139671,
          71.7373090540546,
          79.68347614701331,
          82.36246856741751,
          78.9628004410484,
          64.6736750288299,
          76.73746016198879,
          71.8834907752995,
          89.0262832036862,
          69.7110713432658,
          69.534505300046,
          66.0605897221336,
          83.6078372636328,
          83.06866773813921,
          67.867657732075,
          84.79089126618639,
          76.8330125689319,
          82.24590366024,
          88.0836673456165,
          73.6632231794152,
          69.2886439316279,
          87.3047820293889,
          90.7653154038205,
          57.2709538371561,
          78.21686987368591,
          87.5164266349222,
          82.4719389665418,
          72.3839449946797,
          83.4671438588294,
          73.6813485240795,
          68.903313184479,
          80.6555905410977,
          75.8365164483214,
          80.23420675408079,
          76.9630217546665,
          79.2391797452058,
          88.26007325529449,
          76.5394697708481,
          81.2551394033066,
          71.7154322064475,
          72.5403046908701,
          82.3758680856136,
          76.5459033812676,
          76.497214547336,
          76.04187217466409,
          72.579989487049,
          75.4871858670074,
          80.8080409193846,
          66.226763868942,
          71.6667398462654,
          73.3922105100388,
          92.6137228641782,
          86.7067286271035,
          62.39253016659249,
          78.0546870817716,
          76.3730249863598,
          73.1230271219058,
          69.3746894846334,
          78.7279926738649,
          81.2403298999616,
          75.7006832019819,
          83.1540284470251,
          55.2393602585628,
          80.8620770976116,
          94.7072339813853,
          70.4056804085929,
          77.42127405823669,
          70.4045434768461,
          65.30199467956601,
          75.9894098198067,
          68.2550711381118,
          74.0430320934469,
          81.61040495424359,
          78.505858524153,
          67.255821390497,
          74.552298027551,
          78.9256052823359,
          73.4807714759167,
          77.5844311410299,
          79.5558177583206,
          79.3701448015314,
          54.4820975271164,
          80.23568443907931,
          85.90001463640199,
          89.41802770186109,
          75.4803989441136,
          75.7208257160443,
          74.1901098222975,
          38.8536579455054,
          79.61358058607419,
          72.8933831432511,
          72.6273525324394,
          77.55923996539549,
          63.5198194686498,
          69.0214776837728,
          66.49586142096909,
          83.8058845271984,
          72.5517349141579,
          81.56553475703079,
          74.6188159388988,
          44.12363514918901,
          63.1259512645134,
          84.91395401132729,
          80.5492505413276,
          72.8813482702019,
          83.1879780287236,
          69.2146481404987,
          86.083667398511,
          76.4355506560162,
          78.7722507384753,
          78.1090382090516,
          77.8620121369203,
          71.4778353035531,
          56.8913449671081,
          75.7979494118622,
          84.26988860146051,
          81.8201002925386,
          71.4087416493864,
          75.112560577343,
          75.9930365518676,
          79.251567223756,
          88.9292015958695,
          70.0495078193764,
          77.2717214992928,
          69.2363707938758,
          71.8023580877916,
          82.2993202385857,
          78.4142035354774,
          83.91274040276681,
          80.78036874650661,
          82.0271426211552,
          73.8597393271418,
          67.8063256684411,
          68.4512507319865,
          74.2916638914275,
          71.4350976651497,
          72.6922779355207,
          80.2256263144499,
          75.2910036644243,
          87.7393813874881,
          70.7245241747908,
          72.3212146662878,
          81.08190028025531,
          71.8766411493313,
          85.1130208241506,
          72.2419978037663,
          75.7892942735285,
          69.3971116572598,
          83.77362686478101,
          57.4193360627569,
          62.9116913306764,
          71.9981248793619,
          81.6464431215782,
          64.1710819664754,
          85.8490890383292,
          66.0591906957368,
          56.3151184286211,
          84.4553090739156,
          71.6932979642933,
          85.82406687044599,
          67.0434172816795,
          74.3035380655093,
          73.3905519343021,
          69.5302400516046,
          69.3442777292797,
          71.5634116098055,
          79.458885694575,
          84.8999873788554,
          80.273660695053,
          73.2030183922747,
          71.2494316676226,
          62.8682145420247,
          69.6535284487871,
          78.9295426871469,
          80.37666699444219,
          68.2983226550806,
          70.0461651464102,
          82.9572368181519,
          75.7021428132619,
          71.4424856565054,
          73.3849753113104,
          78.02580059329219,
          77.2292935711247,
          64.6960816922922,
          70.4258509757998,
          73.25546709189359,
          85.9208472301128,
          78.5046648131406,
          60.5785519226249,
          84.9364473824533,
          77.3692969266341,
          80.0193452691926,
          73.4043089665059,
          67.3561480004012,
          82.447675621185,
          55.4349803580864,
          68.1735829290612,
          78.7158771740203,
          62.7882902961656,
          83.53196664522679,
          77.7012046292181,
          67.3049645390071,
          86.9661832299755,
          78.2347722222457,
          97.5445213385651,
          73.5799238684077,
          72.1941274610108,
          58.6569826914889,
          78.1605282209302,
          65.80964260514621,
          79.3349799514324,
          77.14467213799051,
          73.5461391724442,
          65.5783916918701,
          76.3547464611633,
          69.85052675147669,
          77.673094612596,
          73.6704087464758,
          84.6902467807347,
          56.1799333799463,
          83.4242568742267,
          75.2715598274761,
          80.00907349170211,
          79.6098371473646,
          57.2204106251095,
          67.5293422699338,
          86.20946742690901,
          79.5866629655863,
          67.9883893982709,
          45.2278701380276,
          75.9568080231719,
          91.3617578114014,
          70.2664066393892,
          64.9448070714799,
          67.0898811338216,
          85.4279227072209,
          73.2347375587515,
          75.692228813369,
          75.7361862204679,
          64.1438379183887,
          72.64160455754879,
          82.20493529814121,
          75.7070788653514,
          80.9208056928925,
          81.83457104506351,
          87.3558588968854,
          65.14798065015759,
          70.6056263072555,
          76.07420920119479,
          82.43709444010831,
          78.5948267107542,
          84.06588898207741,
          81.91049159871869,
          82.5407899439879,
          76.7666950835149,
          79.82884723175759,
          75.80129800658929,
          75.3930907661588,
          73.684201427167,
          71.8375966077069,
          74.99845845848489,
          68.1783719038573,
          82.8304896500054,
          83.271820944952,
          73.6760460071738,
          69.9792650492374,
          66.7494209495764,
          88.46174993273509,
          76.9389656436298,
          52.9763740350804,
          66.99390717083989,
          73.92380723590149,
          69.8796676456969,
          93.635825693518,
          76.5089072560358,
          70.3307724360744,
          69.772082038462,
          74.3750979391537,
          81.9898623143795,
          60.2521440856796,
          78.61329032220351,
          78.2577244205791,
          73.0225991946385,
          86.647700018049,
          74.92372755873559,
          67.1006275882423,
          57.0643984212476,
          83.3135499137753,
          74.6210869292055,
          79.7328665612752,
          46.8010733711927,
          72.5952699154937,
          78.8804210978569,
          69.3854734448614,
          76.6746941264759,
          61.70410901948949,
          71.6004747195332,
          73.5199632319172,
          84.43933820384571,
          83.93353809974411,
          87.17263331395641,
          82.3978350728831,
          62.76361642334579,
          72.3576311955692,
          78.3090915319288,
          70.8796623596214,
          76.8038741204053,
          77.656743167585,
          65.8945607172919,
          76.19245156980371,
          83.3267052293801,
          70.88761819456779,
          83.17693658060139,
          74.2156703409965,
          83.3495929520597,
          76.95758991420371,
          71.2363732538098,
          73.0282764113492,
          84.4422891937601,
          73.214422517264,
          79.1371627856044,
          79.3379089755899,
          61.6471599441197,
          83.1749651368535,
          79.0508696065584,
          74.1394118740066,
          82.68705223360699,
          81.9727841054244,
          75.432403984039,
          82.2533374814941,
          70.2016848231345,
          84.29636201180321,
          77.2648793110922,
          81.2492872027626,
          72.0146233077989,
          73.382604610293,
          73.98317501889,
          75.3000947977155,
          67.4362950342427,
          74.2636089746847,
          67.2950009259178,
          75.4629380768298,
          73.1107945694362,
          79.5254008216949,
          84.7069762113847,
          76.5201391298818,
          79.1845711050855,
          90.70217580387,
          83.8078664348256,
          86.69241231673601,
          59.7873012901084,
          78.3212889599773,
          81.0162023025695,
          89.9995005038064,
          76.8771497138347,
          89.03919208105121,
          70.832282973374,
          85.02896778805439,
          55.7941587990721,
          71.5947881267428,
          58.5090679235001,
          81.06972365767801,
          88.0992094564062,
          67.3350715256978,
          78.9754930678689,
          90.4661065964856,
          82.868531600609,
          75.92849973450049,
          71.3760788946032,
          65.2752235969388,
          72.1706496383545,
          62.8709946057631,
          79.5102430714953,
          81.91813613191019,
          70.20269653597529,
          76.3915621080065,
          75.7393781947584,
          81.2031083387794,
          63.91298700042839,
          71.4839239453592,
          86.5767696544331,
          73.49728972033719,
          77.103286628051,
          78.0500529994889,
          70.1274596184529,
          77.970530071758,
          60.6114189589716,
          78.5565650156379,
          72.574717147091,
          68.6278656833677,
          74.6869821544814,
          73.2794957148279,
          50.3532473308264,
          63.0131726498043,
          85.0010523675596,
          70.0837167090736,
          81.6218894625606,
          70.2489220761901,
          72.7345255882404,
          61.4756183663669,
          75.9381738419481,
          78.8593714853788,
          75.6729456298133,
          70.578900376651,
          62.0076193261126,
          83.44592604689569,
          84.2170626608624,
          69.9215911025383,
          75.67452611243,
          76.9154403402591,
          70.6677354129156,
          90.4233968600807,
          64.8985894245142,
          79.77136254746969,
          77.125518986896,
          80.35604814746361,
          82.2496884673957,
          77.0079941431548,
          73.30423089057349,
          73.3369100365928,
          67.0293608137115,
          80.7827147896616,
          70.2116160630723,
          70.9998481127194,
          78.56875003117891,
          70.01878108564921,
          71.9499611345487,
          72.10878138800669,
          85.8907862732546,
          80.6912903751037,
          77.7927087455634,
          82.8792494582809,
          73.039266414998,
          77.4315000711246,
          76.5599278329225,
          76.4648892507501,
          78.8186742381251,
          71.1491640429655,
          82.2736530198039,
          82.771022996287,
          76.7390987617517,
          65.691777156841,
          70.07871752550929,
          72.5868413342396,
          71.94975611065131,
          71.0446478520861,
          62.9121698790385,
          73.6340423189653,
          79.98187996440839,
          65.1314929429833,
          82.5976349005871,
          74.03188797085261,
          51.0036916584195,
          65.33746807567499,
          83.7089904634987,
          69.15460956550069,
          78.31400823356199,
          80.6546463220515,
          68.54472414677039,
          81.0742037114577,
          86.5448244040214,
          86.39690269080751,
          97.3739140868508,
          86.7540342267887,
          61.26762664008979,
          80.4141272567066,
          74.65516124481469,
          66.75829827541,
          71.0484107835655,
          81.8306125193316,
          74.7546895229986,
          69.2161672085726,
          76.06337838490231,
          75.7441441622133,
          75.4318265780219,
          80.6352990500732,
          80.3332350157148,
          69.9164817528822,
          76.1857776781949,
          82.2166012499328,
          63.9273697061374,
          68.215657974767,
          80.5944584119719,
          80.33150580822269,
          73.11040495317249,
          62.3658894977698,
          71.59508491676421,
          74.89807393681511,
          68.5326046703967,
          68.33928103307511,
          77.0665891660007,
          71.4686743512226,
          79.7766942581758,
          67.8406642906874,
          70.2783285709791,
          44.8634253710858,
          79.7735722807312,
          78.0015597035046,
          70.0463379079532,
          61.9117376488492,
          80.18727718497789,
          72.7279844278105,
          89.8688548200443,
          74.54434526769779,
          70.1250865825907,
          73.4032375849808,
          79.38392570021401,
          77.34313188539,
          70.7364439949165,
          69.1900340926257,
          71.675786875773,
          79.656692618274,
          76.9989394106443,
          66.7639008999303,
          67.017060007747,
          62.3776816365202,
          63.5887441526444,
          78.7270103980554,
          62.2823897694375,
          73.9497002903339,
          68.1238904702582,
          75.2175994232124,
          83.2131388204091,
          65.205550432461,
          91.3631330816538,
          71.23809208750829,
          64.1127393393702,
          61.0855164007836,
          58.75739162130689,
          69.9254534564743,
          66.7763503434584,
          70.3709206704706,
          80.0344664096038,
          80.2493770539794,
          82.52252384716851,
          86.34289555521511,
          77.5856039175964,
          79.35783119586941,
          74.8953420309261,
          68.4295758207408,
          85.8450551750424,
          81.9466974078953,
          79.37586462000661,
          52.1288169288631,
          63.6644828231568,
          72.66584593429181,
          86.11377700808349,
          77.6779854895869,
          84.82836203032001,
          70.2385765166313,
          74.3420305784021,
          74.10369524058359,
          68.2858823233592,
          67.2747806405944,
          75.6587639001317,
          74.5103124458393,
          90.81518199451,
          77.4621891863638,
          78.1634895116845,
          75.2654241920004,
          72.7368103846933,
          68.20605005658601,
          80.7118091046218,
          64.7380058523985,
          80.14025873947449,
          76.4945320103322,
          78.6224090162471,
          78.6536032699859,
          71.8045244025154,
          69.7625927101707,
          58.693534949453,
          67.88053142973669,
          73.26501289955371,
          82.55985957643,
          77.2743664609019,
          73.7412976220254,
          75.9638105806554,
          85.76994698714961,
          48.5706349306264,
          49.5213167265686,
          72.0049973264038,
          95.59266895806728,
          78.3910662872194,
          77.7459133973789,
          76.8546490332149,
          72.7246464089736,
          69.8988326613181,
          71.4540638127787,
          64.267668506534,
          57.3420449993548,
          55.5638171861513,
          57.8846738472517,
          62.6072218221188,
          78.0779405066229,
          70.6612256343152,
          82.2737049518351,
          81.2808291581014,
          77.2052341912522,
          89.8200519996739,
          71.7230760880621,
          87.79337918503981,
          70.8008742484748,
          80.0376743130692,
          82.3314842268376,
          67.8415567006189,
          75.9441113065264,
          73.1319851419104,
          80.6026050676088,
          79.2930957069885,
          67.73290941754729,
          72.9847937227966,
          74.9665980979872,
          84.0108268460056,
          77.5115500756971,
          68.6124441557286,
          79.88345755069571,
          88.92210694434229,
          93.13043478260867,
          69.2408269846899,
          80.3083273092132,
          84.9524362599578,
          75.0609751689351,
          59.75986609040041,
          76.5737516892121,
          82.8737973314155,
          66.2085049588448,
          58.70909532491549,
          86.9332654852025,
          79.74319509413431,
          85.6338881249855,
          72.07693600210109,
          35.5417481199335,
          64.1926179254139,
          84.6953123285774,
          92.9199796354169,
          65.5579194707921,
          72.10203035992281,
          86.7511633716658,
          69.0915639437805,
          79.4242595382393,
          75.0504918567127,
          80.35327918615491,
          74.0632898615975,
          88.82303065280351,
          69.6097978436883,
          60.2339690535636,
          73.10908318361881,
          78.4996509199022,
          93.66416537180868,
          69.7349568684438,
          69.8542142514723,
          72.5361488802275,
          86.98205754993131,
          61.4871840636844,
          61.820202695093,
          62.5393916275464,
          71.2910870326256,
          70.24077787952339,
          51.1527466731819,
          78.6728948635053,
          63.177779637423,
          72.2920471768718,
          83.89850457662449,
          72.10113954308551,
          72.1113871675559,
          85.0989952651565,
          68.92754534653301,
          76.9836879595047,
          85.8985371105018,
          77.1978775627578,
          83.19827844226691,
          80.04418248761328,
          77.3271147986505,
          82.55098417463479,
          81.52795092022589,
          70.4570367830726,
          73.366841094409,
          79.7841982688438,
          80.6153354573785,
          69.8625954922106,
          88.39678386544699,
          70.0654195308218,
          79.8394080331439,
          75.158047136629,
          91.111747911905,
          69.9833331040058,
          86.12696386148359,
          79.0424909735663,
          82.0446576118658,
          87.62656602039931,
          72.8610481043532,
          78.41293349703909,
          66.91894880701119,
          71.2859524293063,
          69.5562861003944,
          69.26636813761161,
          67.9311602664482,
          75.9930163790191,
          84.7909306615412,
          87.1661814174697,
          82.0361738233471,
          66.4136995782379,
          77.6233881668041,
          73.2442309636571,
          74.7055084900085,
          76.6506160104623,
          74.0327557066676,
          50.92342101778321,
          64.8720867379304,
          53.1247931106281,
          85.1507111562549,
          81.3271528880111,
          59.37926610595959,
          66.2298617687176,
          72.0410140455232,
          61.7605067633332,
          73.074706719552,
          78.92261858741931,
          84.323240120137,
          77.9498690834913,
          89.9476508616514,
          52.3322556445121,
          77.4436073809002,
          68.68884813041609,
          68.4094987157381,
          63.2911534863116,
          73.9124151878692,
          77.2184142451571,
          77.8866168758897,
          83.2767028577412,
          79.3134219062206,
          71.59927778413861,
          96.0775157903643,
          73.4196947005194,
          96.9209631107455,
          75.0189832322495,
          61.3386489093502,
          71.658033270674,
          67.6673383277254,
          79.2820423489961,
          70.44106373066471,
          72.8357137505168,
          75.275036530592,
          67.8756448135289,
          79.1042708207305,
          86.5754323378105,
          87.454102495098,
          68.7624058597138,
          76.8826220534304,
          58.7610715923335,
          81.09597485166199,
          76.41093206299429,
          78.7144647743555,
          70.6527883706592,
          75.1798440160142,
          73.6619127666786,
          66.5330250578581,
          63.9719657714098,
          86.1227896516043,
          70.93288843700509,
          79.6784690889926,
          82.1966562180735,
          79.80148725234619,
          77.8800275809848,
          75.72381859582529,
          69.4180808778712,
          75.3349307040795,
          67.621329428691,
          65.6621067824422,
          68.17492464487981,
          86.4642235959295,
          84.6560772044247,
          78.6326020101936,
          86.05011013937171,
          79.7486561638951,
          75.8274206825254,
          84.22251427707761,
          87.41263819351319,
          69.9706744692487,
          66.248524263021,
          65.9324120110975,
          69.8937224265372,
          80.5664086615385,
          82.0637978897161,
          80.0383478033306,
          62.819154861489,
          62.1980380168236,
          70.2251170853256,
          69.9425904358551,
          61.36408338476861,
          80.0217766978974,
          88.1081344754147,
          89.22871113195329,
          73.8201556851576,
          68.3154633650163,
          73.4014851549162,
          64.1840074535994,
          69.9500311855354,
          79.3933520581537,
          81.557126832961,
          70.8880481842343,
          76.5052999357979,
          72.2308488864813,
          65.62418009870031,
          70.3258827517345,
          86.328323824941,
          74.4933610999592,
          81.5837482988442,
          84.41053363606001,
          65.0199906273291,
          78.3227334022528,
          73.89736319766041,
          87.5080157903177,
          30.3554907532583,
          72.5152452896779,
          73.5891306325639,
          86.0707071071589,
          86.6690248373417,
          79.24550034416589,
          70.7535939428802,
          77.01161039432901,
          74.4773878738401,
          80.2963812288684,
          84.2644262200359,
          68.7166504154853,
          68.6178134118003,
          75.0421769359569,
          84.5957155424182,
          75.6647416704457,
          88.6380285830908,
          77.4796556832101,
          63.0772100413562,
          70.6244063252134,
          72.8118830940568,
          53.70165288462761,
          81.53506957490791,
          74.03558973256361,
          79.7773083000149,
          84.5220979396391,
          74.0615899472819,
          61.3265876625422,
          81.2148265578857,
          79.1732429478169,
          91.69584439817348,
          89.52794051872812,
          65.5067254268436,
          74.6137037770003,
          65.5370021711905,
          44.1077106952835,
          96.8561051595959,
          69.213819142831,
          67.2846630682788,
          79.18394450122369,
          66.1230025852001,
          77.99520566491151,
          73.6172055431004,
          72.758356128468,
          63.5378982464596,
          57.1754098689,
          63.9372585434387,
          54.2209605884429,
          80.0849006650308,
          69.96656174197429,
          70.019149765047,
          79.8631032685069,
          70.6451542565395,
          88.12768881656419,
          69.5566958683565,
          71.9692603437876,
          73.2487137709521,
          68.0832204440421,
          60.7492409322365,
          78.7930511089732,
          72.5418008318203,
          66.5162705673234,
          82.3910498346025,
          73.33417650666,
          33.3530308851764,
          79.6380606561518,
          68.4515026212666,
          80.2668891087429,
          74.5534566379519,
          59.970593255791,
          79.41688893799311,
          70.9574802279509,
          79.90183919585151,
          56.7679421001903,
          86.83260700426841,
          70.2049097094001,
          86.81542327811499,
          81.41931756018539,
          71.3004438807096,
          69.4649715682949,
          74.6190228352734,
          80.1199180200468,
          66.4197299750593,
          80.61721215396449,
          68.9439580222138,
          74.6878443894256,
          74.8435275594741,
          84.2093675172856,
          92.7074786460622,
          71.8407656347635,
          75.6039651202992,
          78.04030725869809,
          74.7272271702122,
          72.2977981058702,
          73.4025488181945,
          82.9629219723102,
          84.7206596943539,
          89.1095287190621,
          78.6349633691176,
          61.7153653870502,
          74.71387715515449,
          58.72669535230101,
          48.5158757825581,
          88.1916790521374,
          78.2031994306338,
          67.6128281593137,
          69.7384205359727,
          76.532844734648,
          79.955271692552,
          80.7052552640055,
          71.0301314371912,
          71.99373610264371,
          65.567192073493,
          73.4502470097266,
          80.54618441527721,
          75.6688861668034,
          62.1051518053263,
          88.5348518765271,
          89.6987112465777,
          74.3984425204668,
          80.33827288808399,
          50.9717269173202,
          80.1995400915593,
          81.4450690565856,
          70.6922421629006,
          79.9425763317258,
          80.2130849904147,
          72.1709854843993,
          69.6417901453764,
          80.4566963170155,
          87.47901635223491,
          98.3227094848808,
          77.84351079720051,
          79.9151110582625,
          78.2618476517426,
          73.0690702957918,
          83.91229631409671,
          75.99484744753,
          75.0500696717787,
          68.92004719319709,
          64.1767474121198,
          77.8268452905381,
          64.56753105280279,
          80.4854361588277,
          67.9120920604355,
          66.1780001881374,
          61.4029738349624,
          70.2455768241,
          71.9016958336764,
          73.6578850225114,
          78.1704433913274,
          73.0611390634932,
          80.0140721095145,
          77.4980694939367,
          84.0563946838403,
          61.33915641209011,
          73.5224790084333,
          78.0876763753813,
          71.9049309833861,
          78.0307243845666,
          85.7001048857953,
          69.9262067513947,
          75.3896845300285,
          76.9087005273364,
          73.2515868307796,
          69.2560344839051,
          80.385663605864,
          74.9841811668645,
          65.280520173386,
          75.6266046856898,
          54.2068919459098,
          76.7638788092457,
          84.48395065884361,
          70.26060239540999,
          79.6165220727656,
          80.43984981073869,
          69.6908718348877,
          78.0365791194352,
          79.1096014120575,
          82.3074745677657,
          74.2579432846159,
          59.5753572648721,
          69.7653001877517,
          71.0784169568147,
          88.1389466859913,
          82.83546447047699,
          74.62501493071781,
          72.248872011767,
          81.8404728149514,
          72.3628624954689,
          60.33533453504251,
          80.7032565333671,
          59.702189554463,
          74.8867767989023,
          71.77474554643949,
          81.2912942943443,
          67.316780557881,
          70.5441355584246,
          70.7204430077799,
          67.575933286592,
          83.33204499906509,
          90.52889712349427,
          80.227044000097,
          89.03416942897121,
          62.4147356140061,
          75.7029674424026,
          64.0805277504625,
          74.8340546435655,
          83.73787838409311,
          70.3892753917233,
          61.5233554884335,
          80.3387123938502,
          76.8799140891971,
          77.2544174903729,
          88.23884959660501,
          70.7100905105428,
          55.8537987087393,
          56.7000341718371,
          70.0090570267178,
          78.1236706862268,
          52.0309003475172,
          76.1090103018016,
          87.5639268251195,
          75.4290762216,
          66.95945794750399,
          61.2597644614189,
          80.9747964310037,
          67.57138252664019,
          75.8775358756553,
          76.5930682113346,
          66.44675617545471,
          64.8275178160113,
          71.23590739921451,
          64.3556332826999,
          66.7330199901036,
          73.5207605764806,
          98.72410525809,
          52.5475643804071,
          71.5679378223472,
          75.741447866076,
          82.4006405207229,
          58.5649933299809,
          66.9715302855375,
          77.39209607628139,
          85.640153308956,
          85.6937596149815,
          89.66293240188261,
          79.6669228064418,
          70.4156483709284,
          77.9160230462344,
          74.11541098596311,
          81.1788142471608,
          81.9461478693755,
          94.51045200356648,
          72.7452128063253,
          65.7295279443975,
          77.8858805544935,
          76.2060006431315,
          62.5864870166555,
          70.03960425024731,
          71.3974463844856,
          75.2225931927692,
          79.2359674584021,
          77.2256715908052,
          72.4781351525861,
          74.5491276065444,
          69.4363529932142,
          70.8015345264307,
          75.3990782686202,
          70.100571294369,
          78.9668115683275,
          66.00136670370941,
          64.1730041668926,
          79.7832525839081,
          88.9348496033646,
          84.96777908013581,
          79.7878370821873,
          80.5215761377718,
          76.36473136307531,
          80.3289628335552,
          72.7676155682226,
          80.12123833007699,
          82.19268169276519,
          77.85732615259471,
          85.0916267044488,
          69.9276812726373,
          73.0513309787539,
          80.9822559835356,
          57.0006280967468,
          90.6907241808389,
          85.6842139894767,
          73.2515945811072,
          67.181833084891,
          57.98263163841671,
          69.2737971269461,
          70.7133452894499,
          72.1942029245501,
          68.6036129095636,
          68.44493731563689,
          71.909721338403,
          84.04368317894199,
          72.1497779280805,
          28.307138019449,
          76.5974846274645,
          67.56642569796111,
          59.9501811798835,
          79.23921590823569,
          79.1009151818417,
          70.2500287570408,
          85.78240739632051,
          79.7033614849456,
          61.549542160853,
          46.4921834824321,
          78.8987804555575,
          75.9181918497539,
          70.1242770190796,
          72.5095458499248,
          70.7698580335504,
          59.67735800966391,
          72.2259049956436,
          73.8815350632961,
          70.5768125687546,
          40.3992112240673,
          61.8360039610111,
          79.526829401894,
          62.5861314041078,
          70.1434200342164,
          78.1033841037271,
          88.0102215281126,
          59.4492191305674,
          78.7455425841582,
          80.3273723293561,
          77.8710259042442,
          80.5385279616042,
          73.9315362242126,
          67.0837417501033,
          88.0974938677312,
          87.3624483875802,
          87.28761310072761,
          89.0491076008191,
          76.5634543412272,
          77.982572593326,
          48.1760393930048,
          63.379465050431,
          81.9745502774256,
          89.93171302585569,
          75.5315623185135,
          89.6031999911217,
          79.5559005687598,
          90.1419089168542,
          77.2024035299455,
          68.4116757757648,
          80.8387102172364,
          65.8396812498894,
          79.3002760022436,
          85.5541988848903,
          79.92632903446571,
          78.6053035886696,
          78.5799833632052,
          73.1261952043105,
          61.1783153514385,
          52.1722795204239,
          69.2622985843765,
          73.3599691107906,
          65.3981225261799,
          87.70895958777629,
          74.3145367600379,
          75.196850954186,
          88.0856707241948,
          89.3083019179297,
          84.4183683846882,
          56.8872289755719,
          76.3158162162193,
          89.0863890673093,
          66.76650340050071,
          77.33017814953959,
          69.3865927716415,
          72.4219972312165,
          84.1806667687693,
          84.40648492239751,
          70.9990403288385,
          68.03368028892281,
          81.34511975635901,
          56.7961101602083,
          69.3540929018917,
          64.55629516656509,
          74.95830389149,
          72.3143443452726,
          87.0136112106732,
          60.8918430453532,
          75.11420402284651,
          75.4204343977626,
          56.8423674498512,
          81.6167311380594,
          56.4981906178436,
          76.8031020858618,
          86.85786821914141,
          70.0710738982,
          80.00915786108409,
          51.5138447460582,
          56.6909836678421,
          73.4924231439118,
          59.9113383361306,
          64.7867141357799,
          82.30268766202119,
          86.3209856395533,
          66.6606571798632,
          85.2757075763773,
          70.33814993308769,
          74.4425765739903,
          69.9013818197899,
          77.097454068373,
          41.1051608456048,
          69.8859176704225,
          77.8506128260696,
          79.0506818794842,
          74.67801167797501,
          80.64520758211181,
          90.78646892624788,
          75.09284869598349,
          37.028224519857,
          94.7826086956522,
          86.67667376913441,
          73.6735486411457,
          69.5610927418028,
          60.0246394259126,
          39.3165639151552,
          74.3334766317514,
          86.9952502000905,
          61.9489100688016,
          70.2277610416139,
          80.07905970371141,
          69.65059808522619,
          86.46204635410241,
          63.8048525959463,
          80.2577645721268,
          69.7382350243697,
          80.47677751113801,
          73.4025107848716,
          58.2005515532322,
          71.6017263786876,
          81.3756822148703,
          78.4355095970803,
          77.7557016121266,
          80.2394954659859,
          71.3163987704423,
          69.9797150658899,
          72.9631149121987,
          70.3950196977547,
          81.4117647886436,
          67.3440071053376,
          79.9380446835067,
          81.6618782210586,
          43.2450170279683,
          71.76459855824919,
          79.1314076785825,
          84.641724850771,
          51.4851808176385,
          62.6810474094801,
          81.4846304135132,
          79.12794544549311,
          59.7560127355691,
          70.9684549924707,
          78.96705436113619,
          79.6876217333881,
          73.2045530451411,
          71.22746312023389,
          77.3985472360309,
          69.7278530880648,
          79.4796985159232,
          60.3017393638057,
          70.4862333396329,
          61.2358963812775,
          69.9476078799032,
          45.8259242534867,
          29.0861214766801,
          91.4916570871985,
          87.4848605463404,
          72.8286080190715,
          80.6453152893101,
          74.9984280196444,
          78.1534115350342,
          82.185006044117,
          66.57834900520369,
          76.7087949447483,
          12.8016746717881,
          76.5564838313558,
          80.04398482498371,
          73.3938415221477,
          86.8313625767646,
          90.1963304951592,
          68.853415346117,
          73.6445099479912,
          75.1794579308777,
          79.788140184622,
          70.395461324992,
          27.6864955036468,
          74.9575078213723,
          81.96794367107181,
          75.9600542489722,
          62.7420632911841,
          69.6007658551911,
          70.5075678110481,
          69.2580719204027,
          70.3051816067128,
          69.6954329094302,
          60.6234849197436,
          77.8097782820694,
          75.7735005201296,
          68.6843545574428,
          76.8738826736996,
          70.1690790840974,
          79.8017111063815,
          75.4575230378957,
          67.5495947775955,
          71.4444204491947,
          67.1283088927081,
          78.347333403901,
          80.9135071653294,
          82.0256569152732,
          66.79007587734131,
          70.6745719215116,
          79.8525779498278,
          81.0739535342308,
          75.2431755879037,
          60.4654619848883,
          69.8098447463294,
          71.929597646406,
          59.0236397722171,
          71.0558713465826,
          85.38260893942089,
          77.2069339208559,
          68.5187199452137,
          79.8951197822461,
          60.68483868402321,
          81.3336345523939,
          70.30896837871501,
          70.9834441301832,
          85.15035823547761,
          69.45379880861739,
          70.0539990052999,
          83.1816887865175,
          80.13728390143041,
          79.3158029242663,
          92.1731875476078,
          75.25916034891,
          60.1304546516479,
          82.23302980899801,
          69.6983246740286,
          65.5268952558201,
          66.2105083567279,
          75.56252469482631,
          75.2411410363319,
          84.4520885454621,
          73.94106821157439,
          84.2271144063151,
          58.6975015439376,
          81.4263904017362,
          73.7254406299742,
          71.4642659369074,
          65.115420946907,
          70.16062093581229,
          76.8471747448401,
          76.7159007281304,
          63.39669219513,
          80.6839973000408,
          69.4343862444586,
          89.7309539922727,
          79.5814882744713,
          63.28257566365559,
          83.36348226742841,
          69.5625930273958,
          76.9902103676942,
          76.6268551975747,
          78.3864768498484,
          65.3714294551973,
          64.15029099551761,
          80.75334960268779,
          61.0300267586763,
          73.6835939649953,
          83.9033011591035,
          64.7643354161198,
          67.48215225197251,
          58.09793425816139,
          68.7739558733528,
          83.0941760198699,
          78.70679521484439,
          78.6699501052791,
          87.7408596182498,
          75.9547722852488,
          81.3834950066937,
          79.4986636648474,
          76.3938170124533,
          74.3078265862028,
          63.41226012255839,
          60.66011234439139,
          73.8663458821381,
          79.9957967605866,
          64.3582877829383,
          74.71647652485841,
          67.1597772398011,
          67.5849227455643,
          73.229586587705,
          70.7000421565997,
          88.90208298610301,
          73.3705100658876,
          71.0511162517462,
          73.4955892755418,
          94.5325779036827,
          70.0694288820946,
          82.0661713931763,
          74.1054115808373,
          78.82683934043851,
          77.83938204952351,
          68.7660768113717,
          69.9932116975276,
          76.1347963434321,
          56.1923029184244,
          79.7436681931443,
          69.7497819764432,
          77.6246964240228,
          73.05680212831379,
          78.0204005586522,
          87.1521645381122,
          86.23309224972371,
          71.69229938825029,
          92.4938066057979,
          66.0325686766473,
          77.6959570333198,
          80.2159534674114,
          73.4039103386537,
          70.4206625803705,
          68.9247805923936,
          89.8673956876473,
          70.29388336863511,
          79.8869869031209,
          73.7739215898261,
          56.4085068430553,
          80.8024844542006,
          78.28106536293271,
          75.52012982749831,
          70.46255173473159,
          75.91447912706289,
          84.7907628253758,
          75.9500658237972,
          74.5373155939815,
          64.7352695114111,
          62.9453749806182,
          77.3798437268398,
          75.3516063962974,
          89.50492780962429,
          76.17436027516,
          68.0401394882584,
          74.9867125627394,
          60.1286982431147,
          81.2079837074789,
          75.91689955595099,
          67.3621147321301,
          72.64568013364129,
          63.3787211760452,
          72.5455597873003,
          81.8325204097959,
          83.9469260682229,
          68.7547204763016,
          57.316551702109,
          70.7250097877328,
          58.9105167538571,
          78.1742200682859,
          75.2511298070944,
          62.97682612956429,
          71.0631968873173,
          71.60171811422441,
          74.0503042001224,
          60.7141349054649,
          69.46835594968961,
          80.9732434900776,
          63.5317814488405,
          37.1553603486371,
          74.69928401975041,
          67.412569802315,
          76.286935718625,
          65.2850681653214,
          79.874431314036,
          18.8370652024442,
          54.1232236945519,
          80.150358065521,
          79.9792490538037,
          60.298431783414,
          79.9207644491044,
          81.4509207209076,
          77.3728191079499,
          71.49347080085201,
          83.4111054148593,
          72.6981970442521,
          69.2832489415841,
          80.7336379331722,
          82.4520243078583,
          70.0570091597291,
          70.48691392523361,
          70.8245998204647,
          79.2842162180486,
          79.2828194991941,
          82.6527064160243,
          48.958970434662,
          81.11609395012721,
          82.129272755117,
          65.9680784907792,
          95.21064488473311,
          75.3711089171432,
          86.12349409850052,
          79.9733838530052,
          69.8043408528828,
          79.7168355109737,
          78.4993152731343,
          87.1578317557025,
          70.8861253236934,
          69.7849740963636,
          59.8760523889678,
          65.7899518741543,
          66.8075627628894,
          79.7875046741631,
          84.52403515921279,
          89.7375431542175,
          76.4086812804081,
          84.5607456217547,
          79.320689020229,
          78.41787455744979,
          69.5335587362737,
          65.9441778157194,
          74.0124441363483,
          77.7727695963224,
          74.0414254649828,
          78.1870384370906,
          69.6100765551679,
          82.96517201632801,
          33.2910406850189,
          53.1196954650874,
          80.63114096634409,
          59.91367265213511,
          74.1463428765897,
          57.8327456011811,
          79.8785716922711,
          69.42901410165109,
          74.91902148253689,
          77.6827483758196,
          74.89761801500501,
          65.47974927071431,
          71.8111646392541,
          70.13196701084351,
          69.97132704735941,
          79.9154122049614,
          89.8331091133438,
          70.2463467246739,
          83.32853519297579,
          69.2498620301539,
          71.7703356030522,
          82.2688395693026,
          87.67719713192241,
          73.4337243587003,
          60.49457775964331,
          94.95842281406708,
          60.4974909875626,
          80.550831403221,
          73.883980943866,
          83.22051293353111,
          79.0112984916068,
          75.3082573216823,
          76.7641252007615,
          89.0759503446969,
          44.5254281195864,
          76.9095420042365,
          63.9100145258534,
          79.8304562683962,
          75.1202224104933,
          66.4994166818897,
          61.2048859452261,
          53.8397696892156,
          64.44974838198141,
          64.77312336670009,
          84.06728529214871,
          69.1869566466297,
          79.84719850929369,
          62.6945805571819,
          72.8183441745895,
          80.85677452451341,
          74.9321406053813,
          65.9427055962806,
          60.1485760481787,
          70.8012280061463,
          67.985999777356,
          55.8252457273981,
          71.78361625537579,
          74.6216592581081,
          86.75981520607439,
          64.2971164717452,
          50.1313055050268,
          77.7549874328185,
          48.7008897927818,
          65.2199862899231,
          90.078481649451,
          70.630715092362,
          59.8881533472333,
          61.6003060125209,
          68.4733363782913,
          81.10166687031439,
          76.5849069621006,
          70.5770041967705,
          65.8929423244538,
          61.7517352767215,
          52.2757041814293,
          81.47658411725101,
          67.0908368840267,
          79.8027964813393,
          74.3441917719925,
          68.1980076942246,
          54.76581595439499,
          71.1138797438126,
          79.6264621318529,
          69.4256007973913,
          61.9514116544968,
          74.7193504056611,
          72.9190619224525,
          97.09090909090912,
          70.1033473397825,
          69.4469127690617,
          65.9802445223616,
          74.64223642422971,
          97.8762103347032,
          77.6985367294011,
          68.28515063655901,
          74.9869414494986,
          78.26438213488001,
          84.49138003106731,
          70.2892179015205,
          73.9249078525923,
          70.1888272477933,
          45.1063878498461,
          85.6281963446421,
          59.7314960360358,
          79.8005122054975,
          74.19583981856421,
          69.850755558726,
          81.43418608508419,
          75.693848238574,
          79.8921029366678,
          61.9327404563315,
          72.4882503020228,
          70.4199113331915,
          80.143882136908,
          78.494157128384,
          85.77089266018919,
          68.8672733352916,
          59.9757143481847,
          68.2681221283456,
          88.9605562750144,
          69.1683037553822,
          75.7909559174898,
          76.4532911726845,
          71.8909576269616,
          77.58601389165679,
          63.9000855426847,
          66.19581798211141,
          76.3096278602402,
          82.37644893884051,
          71.8317687922614,
          50.5716417917495,
          79.9578261170751,
          66.4519437047334,
          26.5936924617864,
          70.056588401451,
          60.4748713230494,
          87.7281260812007,
          58.8104105766238,
          79.94989478012559,
          80.84001903849159,
          49.9880916073907,
          70.384842688858,
          89.87463049144961,
          83.6494623420343,
          82.3343946061341,
          75.4126114452806,
          79.8923633932434,
          73.0804584234606,
          63.400482962085,
          90.8599922210002,
          70.8267949509108,
          74.53608725153549,
          60.6891641834109,
          61.2148181891054,
          62.4035608308605,
          63.2349536004521,
          10.8460613591259,
          52.496339146529,
          75.0684834268788,
          70.1032574480185,
          50.8922104250853,
          79.9257094223416,
          73.32196580341031,
          74.0727795677117,
          62.9224935691562,
          75.2747399609039,
          68.9635953810509,
          69.2505245507871,
          60.020886049179,
          60.3427161409622,
          79.9353300580409,
          73.2291455219521,
          84.4840607329629,
          79.6681336455552,
          70.4233752829443,
          69.30670956565831,
          62.8053268524658,
          82.1615902533111,
          69.9002279500607,
          60.8936807943772,
          74.7104234812202,
          79.5875413547674,
          91.2158303540766,
          69.6023839219637,
          83.670398939624,
          94.05552499813368,
          85.0711684660027,
          73.316780368445,
          63.38162271420509,
          71.0987875685085,
          82.9666273841604,
          80.02124042910151,
          71.81543738478669,
          47.63216769320849,
          82.4001883682255,
          79.9020108831739,
          90.4637199098719,
          63.1510564686872,
          85.97815989860139,
          59.7300820267122,
          79.9977062432347,
          60.0585066783778,
          79.4121457006449,
          79.0826986785923,
          79.3333597231088,
          70.0520401911208,
          65.226304599455,
          79.5793260482331,
          52.056104866628,
          71.4187967447783,
          69.9233203052066,
          73.2465198179506,
          80.1967625249322,
          71.7161610786025,
          80.3066437994709,
          75.2602202490973,
          67.8663608954536,
          76.042880056231,
          66.78339261910091,
          80.33312157778781,
          82.1329442904751,
          70.4286458360004,
          55.8947724650908,
          81.5713468166727,
          83.2377843902295,
          57.3239782012603,
          78.8248315244433,
          88.68336189950159,
          59.0903658309006,
          65.6168903296483,
          75.5407996528634,
          79.8880346583017,
          69.2606785807606,
          70.0819225996226,
          88.8526436623229,
          69.3009757974504,
          76.7662220181375,
          72.4524259947992,
          41.3708844110799,
          80.02879950937731,
          78.5214638356141,
          71.9442764043598,
          68.4319841191592,
          70.0072240827441,
          71.6936377818292,
          75.6064743701688,
          80.83868216783429,
          70.0455437173833,
          50.3039162229247,
          69.5148351328177,
          65.007049690341,
          78.09797199516791,
          79.79583786623989,
          75.5504130336432,
          62.65384907560161,
          70.4121009858973,
          79.68492753236819,
          78.4048429851187,
          72.7668968247653,
          77.8775325208878,
          83.6036937418649,
          70.2689564562222,
          68.0752758634168,
          80.30189366772291,
          70.1790202343649,
          66.7851841367098,
          70.1256183714237,
          75.52040991698371,
          69.73045064767871,
          62.1662884603266,
          80.02431881487331,
          59.5106317337224,
          84.8533943245255,
          76.6543405960967,
          70.8620171987323,
          72.1235832662954,
          56.0411015526294,
          61.8535669996307,
          50.25119532016,
          70.3841306957503,
          79.9845461932102,
          70.1744756747672,
          72.9976157173432,
          68.5175862631332,
          71.67426135246319,
          80.6640989970494,
          67.3546736900229,
          40.5064349942019,
          73.40420849439509,
          60.6245137803607,
          69.8875982139663,
          69.4351114854781,
          76.4073671621655,
          73.407746009306,
          62.5240262603932,
          68.1434899745552,
          78.1384654145825,
          53.8266523045846,
          74.706828384538,
          80.0867672587954,
          77.8327715532129,
          60.20375809273,
          70.8194439186192,
          56.0092818826169,
          69.9074318981969,
          90.05261689522999,
          62.81985189941081,
          79.6517430269895,
          89.35517031594219,
          75.9535592097321,
          84.97617346193691,
          65.4292579511903,
          78.4065364838339,
          73.9848568496152,
          78.70534493648721,
          70.8966000654413,
          54.47444474112289,
          65.0986388748611,
          89.45701289283579,
          82.4816137469832,
          77.225018983703,
          83.7283223231766,
          48.77200603317939,
          71.0839635422075,
          83.3762316157867,
          69.9803615266909,
          88.4877092426653,
          74.85055394179119,
          82.3216370026209,
          89.4243457119179,
          81.46037332462569,
          84.00385276754159,
          80.8772811708501,
          86.8499291055737,
          79.0700111952475,
          66.905217020859,
          76.1162382185757,
          73.0011308311422,
          74.8696793428884,
          76.2600219836545,
          53.9831378088628,
          76.0053958274317,
          78.2724991168563,
          79.35748218943209,
          63.43914811206641,
          59.6115114817818,
          88.3894231081118,
          59.011847424679,
          73.179639095777,
          69.8078275792964,
          80.16507326034811,
          63.6645688295473,
          89.12969046049311,
          79.7373809720997,
          76.8178522690293,
          89.27859985242532,
          78.0485776514171,
          69.2281914578351,
          79.1356214286428,
          64.6215311637803,
          76.5150195426567,
          55.0495389282056,
          58.5744060258148,
          70.3915332626058,
          68.8585016625468,
          66.4031142174306,
          88.6615020844963,
          75.67393474967331,
          76.4669157391801,
          60.9099348248497,
          61.1565331292046,
          77.8172649436961,
          69.7093932545917,
          80.625995206755,
          66.7409531854058,
          78.6911667287952,
          77.8634957524435,
          70.2835149353482,
          59.96189533683381,
          81.2363519982975,
          79.7239415452984,
          79.6126723932257,
          80.73889527646,
          69.4858307074889,
          56.4579755164797,
          83.2350651206215,
          73.89922197314749,
          75.7350139952748,
          76.79672298530049,
          82.10684640252809,
          84.3464033663205,
          76.1985658700888,
          45.8887930621123,
          77.572549037138,
          65.93950926705679,
          79.4936617156925,
          64.3749449936796,
          75.86163839993189,
          70.6181045050409,
          60.59194675407731,
          60.85591982938161,
          71.1362394787057,
          84.0568612105219,
          70.4475302412129,
          86.8089832294322,
          65.4987143755894,
          73.28086267970801,
          70.3928686457369,
          79.8420472636257,
          74.0917923731482,
          92.32422430795,
          52.0605732724536,
          81.2465323160269,
          60.7222276073606,
          76.8637773648062,
          77.4430479684478,
          64.839332088863,
          50.27843476046159,
          77.1587274160095,
          70.1230859109679,
          76.7388578488516,
          62.8303027452571,
          77.3147577114639,
          64.8507763273598,
          87.38227110871611,
          70.4739301913165,
          53.2781192106909,
          70.9130463322233,
          76.3137419557287,
          79.4802559482963,
          56.3680148653832,
          93.6558211564134,
          60.1817689212794,
          69.703328851105,
          86.46416664402439,
          66.0891237807558,
          59.9456725326569,
          60.4248834163235,
          70.27929321986531,
          75.7837803304396,
          71.4926840007471,
          69.9642085118072,
          77.8179812073447,
          69.848639344514,
          59.6052104679448,
          60.4469629830243,
          79.5781472768397,
          69.5449009521637,
          70.1952374896497,
          65.29755236127839,
          78.0827411376458,
          71.441009605465,
          80.3119684128265,
          72.1435351314186,
          88.5005306489481,
          75.67963287871011,
          62.3055526371093,
          78.779927863621,
          53.6083136981814,
          79.5431286123422,
          86.7817963406951,
          81.4195350999689,
          73.04284917744441,
          62.767497419169,
          67.7409162167755,
          73.20415227377511,
          69.8767743916273,
          72.9461797873018,
          77.0347226249832,
          79.1506632784364,
          76.5964484596814,
          70.3384700788481,
          74.84558002362961,
          60.2328696351578,
          49.4949206446409,
          79.9056456111978,
          72.01340822291411,
          83.4229186247206,
          78.8921408598634,
          35.1610609586445,
          70.9625337857661,
          76.6523912411817,
          60.0713045811011,
          71.0755297444652,
          62.32794514759789,
          68.8049236614709,
          89.55867220549561,
          75.1923535352542,
          94.8969997736227,
          62.9704758136242,
          69.95745603602779,
          69.8603691181886,
          91.3716319589744,
          79.7060738531818,
          74.0390135132537,
          74.07162637246981,
          79.8180759770503,
          70.1939994000012,
          71.751750433776,
          73.844605137117,
          64.78706099531679,
          69.7170571121361,
          70.0887133656233,
          78.9750103264632,
          54.5055330267339,
          73.3884487109881,
          70.5088631637023,
          85.42122680299389,
          74.4332778574719,
          78.2951503544483,
          80.0870490902463,
          58.76643800598629,
          66.2979168260583,
          61.7365736587779,
          73.5182081227688,
          75.2981356251876,
          63.6616844066202,
          75.1467934487537,
          59.9348868791751,
          69.4623358538406,
          84.2731968261272,
          71.9599392264306,
          86.313560497395,
          76.7235549503348,
          83.50663745931828,
          42.89234712425461,
          63.5429462403605,
          77.5485398321655,
          79.50248545193989,
          68.9303572104937,
          66.8384902109479,
          79.4891794825709,
          71.2138027771105,
          73.18258841378861,
          69.5600361270683,
          69.1113111880223,
          78.8992090391705,
          71.8114233191387,
          95.573025700102,
          75.7584268020916,
          59.8093294074205,
          65.1665830155106,
          61.6925464221437,
          79.17864705147599,
          87.7054569019822,
          79.5144600729796,
          72.5927239257445,
          79.9259063846483,
          80.0737257175838,
          67.25764912499051,
          68.99799467250931,
          81.3050909752033,
          80.4414751584639,
          83.50360006884,
          71.6703205305206,
          89.24042397475971,
          70.573929727025,
          78.0153269800316,
          64.2265657898868,
          84.34797018569199,
          64.6268419083353,
          78.8138164405537,
          79.1769543042716,
          68.8157002246,
          71.2456852859725,
          71.2644298343926,
          54.672752773846,
          68.7902611298117,
          69.8497335546488,
          43.0258464239091,
          70.15904612769239,
          79.4995630952311,
          66.9805904327744,
          73.1868888498905,
          85.3618271376055,
          85.7911733334298,
          67.9664043315173,
          69.8347616490916,
          82.67962769719381,
          49.6232468236655,
          77.73439471842751,
          60.7105152656933,
          72.3439915974035,
          61.4386089563001,
          61.6464496850493,
          79.0000817444283,
          70.1330451662938,
          81.60947605058149,
          77.1686083769533,
          59.7993056617903,
          61.7535832060512,
          75.6917855127264,
          63.816430425986,
          82.4499082797599,
          89.6352474199046,
          73.8056429068979,
          78.74273857698691,
          66.0452609033481,
          63.3314548954509,
          89.9207180954693,
          70.3297987545255,
          62.8486956858825,
          69.82483409032591,
          75.2427062859945,
          56.7086160270454,
          51.1535978683968,
          53.34213146430579,
          69.4118500630336,
          77.48426997344781,
          70.6014378866639,
          69.9498534321762,
          70.8474717361946,
          46.3312250232117,
          73.61020603057901,
          65.5670870404967,
          30.353864282246,
          70.3708159195307,
          75.5323374315352,
          59.77017158187999,
          63.23101374480571,
          70.22814095267181,
          70.381569906037,
          55.5069787600162,
          89.8469933616112,
          59.4496432836127,
          79.98647462682,
          78.1176261070059,
          70.49170786135521,
          79.8749144322704,
          63.1952981113351,
          72.27562416911711,
          89.6949347934659,
          73.93252542292531,
          86.377358490566,
          79.8529939060775,
          74.8729161329267,
          72.7456359421364,
          82.7803306406085,
          70.0242393616507,
          77.97982006942749,
          70.1711565531615,
          73.3060867102962,
          83.8216374857531,
          80.1632292046998,
          84.6166028112409,
          69.9396457315313,
          71.4149935086425,
          99.087270032905,
          53.7646366229651,
          69.7985758465942,
          64.6132675382371,
          49.935400226436,
          69.8889189250419,
          87.9515609316087,
          78.63833555518,
          87.45865691211259,
          60.3706523948315,
          69.456124324933,
          60.1494726706551,
          80.3180902000433,
          67.1446854758923,
          70.7203265106468,
          67.1560554992659,
          75.4925206645502,
          80.2918407649743,
          53.8590134127268,
          70.110709267513,
          72.3585628389404,
          71.15908236437521,
          89.7951045849541,
          74.3454185438429,
          73.64387981447871,
          31.737217384909,
          75.80251832747561,
          88.4330895152128,
          80.07829563897269,
          67.6472325772184,
          79.6250991100479,
          68.8767629126225,
          68.0018865411529,
          79.0860074905975,
          69.8546490519939,
          69.8390499362591,
          70.1042382324207,
          75.4135514726418,
          78.105039109168,
          56.32342387318879,
          68.3024865805998,
          89.9077748128376,
          69.54514775596719,
          61.5931551440789,
          79.4984047185189,
          67.9350539978397,
          71.645671860164,
          69.7226471850958,
          71.9375000670988,
          89.7379737040046,
          70.00641905155389,
          80.45371379296981,
          65.73741020531399,
          70.4410245034791,
          71.301923524338,
          70.7097033283938,
          72.44995155942479,
          81.1321776351145,
          82.2384321499907,
          78.4836355176815,
          69.1616429702798,
          76.4540353689908,
          67.0531747416869,
          60.284388966977,
          70.7767349500994,
          83.6351748146676,
          70.55593285125559,
          69.9093432528596,
          73.3695555804929,
          73.9726576071896,
          71.95457802259129,
          70.7790440331767,
          69.2298095046788,
          86.27906976744191,
          70.0603755105326,
          69.7224289036981,
          61.1964070740724,
          62.98213568500579,
          70.2188962817979,
          83.7763324327293,
          70.1070943746812,
          79.54887392061819,
          34.4401271910444,
          79.5848085421356,
          76.8645130717393,
          70.2051562052298,
          75.5198048125711,
          65.4022823896385,
          77.1322892320907,
          84.73621933187349,
          70.2355958742524,
          63.1507571504017,
          69.06963322927561,
          89.932070496495,
          70.0770116205544,
          88.76491313598359,
          42.5978263742556,
          50.8600337268128,
          66.1586948693799,
          79.8479544999681,
          79.8535705801946,
          79.33244093988901,
          49.9996053254229,
          72.7198664128581,
          60.339639665216,
          85.11843354755611,
          57.2007077337609,
          71.4009460641227,
          79.7777836562028,
          65.4914203087604,
          52.8985129306284,
          80.2273114019388,
          58.8200259891522,
          76.62481993364361,
          89.29256338383061,
          57.5393296885236,
          78.3885217426964,
          71.878870257369,
          69.636200090062,
          60.0211644964441,
          60.3501052710137,
          59.7740008148222,
          69.9577680426562,
          54.9688993100625,
          67.6444914775501,
          65.4149299476947,
          64.3067782761007,
          68.1284787254304,
          60.70353206737401,
          69.6142192669093,
          66.3981570759876,
          51.3953169994712,
          88.5959702283992,
          63.2756613454411,
          70.0041694192217,
          83.4833347415074,
          70.1935735186541,
          65.1723171431731,
          67.8765869948729,
          81.6294383336605,
          69.3963537278496,
          63.59689247818839,
          72.1463550998942,
          66.5444276275464,
          78.70430845898281,
          59.7032768995334,
          57.6678149743698,
          79.888614240869,
          77.3665727241419,
          71.38618065687331,
          65.9849916178227,
          64.4201272541415,
          79.7780328798159,
          79.6434298410702,
          71.5930623239482,
          84.30595531137459,
          56.0315659874394,
          76.1226491345532,
          69.115749830242,
          78.38150706225309,
          74.8416328788256,
          63.1245158182805,
          63.350200522509,
          76.0371230954805,
          60.3730897826717,
          85.43806768695349,
          68.38004776514,
          87.5273740302286,
          85.8365208366329,
          79.6210544648862,
          63.82769935686419,
          71.2571722578366,
          75.4603131907974,
          62.4397908147162,
          79.86288508465181,
          68.0168281196088,
          47.0017090618162,
          53.1587904858681,
          60.4305425721727,
          71.3971501639521,
          71.9243902420227,
          74.8147730324547,
          53.4093726754277,
          74.9967105472585,
          70.57868307603519,
          73.6346070293534,
          67.9065705147565,
          67.1105915119392,
          79.0321995201724,
          79.8550914913403,
          73.2397225738398,
          64.3062570436971,
          70.2578250190595,
          80.19313910172019,
          78.62603407403111,
          66.237358415787,
          79.3457419224552,
          85.7541219328308,
          79.6784350364318,
          60.137420126557,
          59.37038899600829,
          50.8572145988586,
          85.8389556414188,
          72.73443752471229,
          79.7958970448894,
          70.2747884989991,
          69.86724015245579,
          50.0859623652449,
          57.135032552227,
          77.3726330142478,
          89.2464103429071,
          60.48341918429421,
          63.0791896996321,
          75.8225690202737,
          82.1949790685561,
          57.1217867940425,
          73.5294859193183,
          65.421133733689,
          59.00804972913939,
          71.6461680906737,
          61.4256918883512,
          68.1123755306842,
          80.3215392944977,
          68.1238672174814,
          79.3687087855821,
          63.1672977608499,
          72.492194043391,
          65.8870485771037,
          92.9040088769512,
          89.7316716002735,
          80.27012501420049,
          87.5828223594524,
          75.1986163948087,
          73.8293623178556,
          73.3801143137538,
          60.0346146500263,
          73.5836235805622,
          69.8364231394596,
          64.7776409391071,
          62.3148445079251,
          69.5352640875723,
          70.246438291863,
          66.2150156933552,
          77.9658397682572,
          79.5761150755383,
          80.4059434710298,
          37.3810450639348,
          80.1138582403456,
          76.3099913232634,
          79.9645771108914,
          79.611789519425,
          60.1723372582247,
          70.1896665632549,
          11.1896645078587,
          85.0269787597506,
          52.4394501179631,
          73.5075623759352,
          79.3623602409336,
          82.3957893178595,
          74.65280463172421,
          62.5714342718825,
          60.060611050871,
          59.3035105920865,
          76.1462117919254,
          70.3319502469101,
          67.3475808398715,
          73.4536195799961,
          71.1404042088771,
          59.9743774039397,
          68.8180143564738,
          61.7142307082137,
          68.2899484079549,
          55.6821102890423,
          86.3163084614122,
          61.453575817064,
          72.71748228241479,
          79.4992178867627,
          69.8191256255607,
          37.0268404295898,
          62.4196620136095,
          60.4622337286452,
          70.7234210303606,
          76.7553768202353,
          79.9894589424355,
          69.547267202876,
          70.3562409151402,
          69.5724818616322,
          79.1146709244219,
          80.3574992422459,
          60.2784199077496,
          76.72628288605421,
          75.5612561516371,
          77.5236121896533,
          79.9134686478629,
          78.6601244956356,
          89.08893665750011,
          70.0112047249577,
          72.51816910352,
          60.0262961130606,
          71.869926893144,
          66.9246004554192,
          84.8516356476152,
          64.5191888644575,
          70.2832743823556,
          68.7758633949496,
          76.2577833000307,
          60.21835683220129,
          79.3040240129966,
          79.9428009437082,
          87.5911225180754,
          70.1719399236323,
          79.7355784139231,
          40.0451625841289,
          85.3944730964917,
          70.667929736752,
          69.9812954249627,
          69.6892287147001,
          87.7541811446723,
          47.8937778121322,
          59.1932330994857,
          68.6383839945871,
          69.9514553253911,
          80.11231102163039,
          63.3810899856195,
          74.49093872369241,
          60.0848257593022,
          78.9385570316927,
          70.1980310340366,
          70.2447746295056,
          51.1383014322947,
          65.4442868378281,
          66.0171219762312,
          69.1948684043558,
          70.7464503237816,
          48.4481956912116,
          72.8792031366866,
          75.33956425386519,
          11.9233761253641,
          61.582633081296,
          68.8607380621548,
          78.9827924684972,
          60.35082832685,
          77.3266643441655,
          64.42638632984439,
          77.1295787023306,
          59.7074707285082,
          68.8345266597835,
          89.5001698534105,
          75.9440753554707,
          79.6198065546263,
          77.1085471339157,
          62.4749481232413,
          85.9047755421777,
          80.82610932629599,
          73.02350359504361,
          71.5084583112129,
          60.8340771723455,
          56.2118817045795,
          82.0640712986168,
          82.3166038567015,
          60.7144759334403,
          62.2962539404699,
          78.0028071648254,
          47.31506460607329,
          68.29363454982379,
          66.8870835710049,
          79.6051805488534,
          76.37406972512329,
          80.0482608437683,
          69.5540373911055,
          73.2868709027395,
          69.8671151769379,
          87.2708952322875,
          55.5291898719898,
          79.07335345903971,
          81.56877704739051,
          79.75387176231601,
          79.9519692410162,
          60.3223945073705,
          64.3244048760317,
          69.8763654088618,
          69.9064957502428,
          79.9533327503595,
          95.4091757156836,
          70.1143191078074,
          59.267920765455,
          76.1764208174588,
          71.1223633659612,
          55.1768135416928,
          89.5879410669016,
          57.0970399127474,
          57.0212289283957,
          79.72330331634579,
          60.3578006045983,
          80.06465094263379,
          74.4583747597948,
          97.7524192117358,
          53.4583969747501,
          69.83360219503939,
          66.2237181192273,
          54.8,
          44.2714271266292,
          20.6471573658458,
          77.9908902189502,
          50.5641001702806,
          58.4615384615385,
          60.1482889589263,
          68.1603804856202,
          76.7554356434818,
          73.3243523154407,
          79.9763644678853,
          71.3496897765068,
          70.824450855515,
          85.6739764136065,
          66.5356446954645,
          91.528384279476,
          90.004226494424,
          90.5725222898712,
          69.796155118893,
          53.3092207802393,
          74.37802995690029,
          81.1415196727929,
          81.8623936068862,
          87.45532059395771,
          67.4783679315828,
          69.7327600836167,
          69.8794040761283,
          70.14817922936379,
          80.425145150177,
          64.5245088316732,
          86.9049826354523,
          70.0280939768151,
          88.8635911543024,
          87.51313096300169,
          68.2878535228806,
          84.1716823413274,
          69.411246461586,
          79.1097440630854,
          78.7412279965051,
          78.720504687044,
          66.1809752157066,
          56.9640069140316,
          80.03872241949891,
          80.87374402225609,
          89.6493874848933,
          65.33457200537791,
          75.55895796887759,
          79.6955136713265,
          69.1272679691901,
          60.3364668858579,
          79.9259795410553,
          83.1256733228085,
          82.90158316502699,
          69.6589407400162,
          69.080667413836,
          89.73488334841919,
          75.7594283366539,
          71.2712590449018,
          74.6587638278008,
          58.4908657944709,
          84.1459092443923,
          69.826506177254,
          20.5995093449856,
          79.9936692750284,
          78.67086264801071,
          41.45775731584141,
          64.5453818309206,
          74.57146892357929,
          87.45010759396979,
          70.3354242557866,
          75.5405937856427,
          74.05931745558371,
          67.685197054718,
          61.3464002754342,
          77.9456608172115,
          79.62470894122761,
          79.9752759806056,
          38.6708595814426,
          89.2616194698299,
          70.2116766495614,
          69.9057896276227,
          69.8356477197652,
          52.1173911639203,
          79.697781812861,
          69.8965964817462,
          87.26803357337539,
          72.465107899896,
          80.0052843254785,
          79.9584482417394,
          33.6370848471691,
          84.8298872787289,
          79.5778226308437,
          66.0218290668077,
          78.8338976164842,
          64.9015686202849,
          71.4255803660626,
          78.98917856311999,
          63.18285475944599,
          60.2746092947413,
          76.912659680327,
          64.4199150260277,
          84.7651010513039,
          63.04231814774261,
          75.3289800853853,
          69.9305437797389,
          80.04602781195891,
          67.4953078324734,
          79.1171104252384,
          81.26299673531409,
          79.50778208242329,
          66.13066869694731,
          64.419612300758,
          79.8280479234185,
          79.38413417221281,
          69.2237588305902,
          67.8555461198909,
          70.1827387599328,
          60.3010914975941,
          75.2679808946489,
          99.6721267421952,
          67.7350686668523,
          70.1080968248117,
          80.0151505395483,
          68.5920496109686,
          71.4567434683518,
          69.9293802568685,
          68.8434941016986,
          58.5240478027768,
          59.8065277384284,
          69.9769872441205,
          66.1865634699286,
          73.1241998911928,
          64.4481334072124,
          84.6757983053607,
          72.5595522578722,
          67.0898735455243,
          85.5972778929235,
          66.9739608097816,
          60.3669990854294,
          67.2908804081544,
          87.7088873923156,
          58.0278730518633,
          59.5143911090636,
          81.8853582682023,
          77.9218985818086,
          88.2559285724575,
          70.0863209439458,
          70.738082092025,
          85.96751165363409,
          73.2738611298936,
          61.5507910902345,
          72.4536171171373,
          59.1789884075403,
          70.1973646453543,
          70.584039765589,
          51.8276624419725,
          78.2769459077408,
          61.96758988075131,
          89.2667599259184,
          69.9714302324616,
          87.02199389585991,
          43.6149342720358,
          88.9034022045092,
          84.75050567316,
          80.0086631946207,
          78.5132646987207,
          40.4333116581719,
          69.3733886203822,
          68.6261301428891,
          88.97186242709321,
          74.5027391487569,
          72.2337041355674,
          79.236992429342,
          81.4885735601571,
          60.414600121465,
          62.8384863092915,
          50.7741786812343,
          63.7104903864676,
          65.882985738673,
          72.14230103752621,
          79.6634859272592,
          71.1335467304524,
          82.56731212312211,
          73.6498623253616,
          88.1284838187996,
          84.2087035786406,
          68.02279625987781,
          63.5242690935874,
          70.0423296849272,
          76.41800756339191,
          70.0790772672897,
          86.0716671322575,
          77.91596594837989,
          93.7155963302752,
          72.0516378551238,
          52.7150122122453,
          79.7840264400388,
          80.0372709888591,
          74.233619619251,
          70.2456779524856,
          83.86768361833819,
          96.5649095021633,
          87.88250832007449,
          70.1181670345516,
          67.858194362744,
          67.4878319987269,
          73.5913496043346,
          57.73176392189831,
          71.7298432217959,
          50.8477217913392,
          70.43815185208001,
          59.3458239774972,
          90.82523154530932,
          70.03595650417991,
          96.8282161887846,
          55.5173815754469,
          79.27578796656191,
          82.6032814378336,
          82.5180584652226,
          68.9278220168161,
          79.8454371095366,
          52.0525054125702,
          70.1755717900195,
          67.3727810650888,
          63.1812703502219,
          83.69377550622741,
          74.03793291877909,
          70.1819431069271,
          53.48185514789441,
          67.4572845176796,
          72.4364479421724,
          69.736403984711,
          68.6795034401524,
          45.0664554624928,
          79.0959088116203,
          79.9557103643732,
          69.1767197091173,
          89.44395805814301,
          62.7680317807674,
          80.1028248615446,
          88.64725081433279,
          69.5695281599989,
          67.535108808873,
          84.732683149278,
          70.39323400676051,
          85.1175811870101,
          44.5467545202775,
          77.5327933649975,
          66.4625341316103,
          79.9767740882095,
          79.75805822061831,
          59.9865366043522,
          87.41092636579569,
          59.9449555663817,
          67.923406865458,
          89.2720927696913,
          63.3559588356505,
          79.56545355245589,
          81.8666934227514,
          46.5784627300092,
          70.1436634717759,
          70.59434750463039,
          66.7502016400229,
          70.5109444642442,
          61.80340681550619,
          48.3852448424792,
          86.8109723714455,
          54.2277675191027,
          70.2036487031433,
          72.6480339497498,
          61.0134848459636,
          58.17081350511189,
          85.9371346734941,
          74.1613596532216,
          80.7091031098406,
          69.9651848599901,
          60.1375427402455,
          70.1880064351115,
          80.0455143035966,
          72.1281068193407,
          85.09604263676239,
          69.91679960635099,
          77.1212205980851,
          79.182667032093,
          69.60380344498941,
          72.1788244575188,
          75.5607051984105,
          89.6406768978425,
          89.8854769888012,
          73.4666749175762,
          60.347729824398,
          61.3416011867831,
          41.37632128501789,
          76.4968010297344,
          73.2926883124927,
          77.1338349727804,
          69.9020113769972,
          82.3004281465158,
          78.539647487248,
          73.2032779730649,
          66.8201550674671,
          81.68813879752321,
          51.81102049875,
          80.35162461439799,
          77.2953871524349,
          64.9119458155217,
          56.83486662445041,
          78.5603119808187,
          73.8320455158877,
          69.9640951348219,
          75.0993129091671,
          21.3271333908624,
          79.2233322705896,
          50.469255400863,
          60.8428200311392,
          88.8867850719765,
          58.1772539548017,
          46.1879086546945,
          80.2251338936034,
          70.37195152565741,
          43.6103271853322,
          89.68785182178941,
          75.3060142260949,
          90.3108659525492,
          67.561959077617,
          74.1742604270475,
          60.9355321779913,
          60.3650781379232,
          43.5803690852542,
          52.1027907059528,
          60.0002794334436,
          56.9950070026874,
          63.6789234551163,
          65.5089577216399,
          60.4018741405694,
          80.0123192650544,
          70.8294637342568,
          69.48537034833069,
          88.78413736718059,
          62.2011150628236,
          70.1642470345265,
          69.80133769061611,
          79.595667896558,
          61.7374887681021,
          64.27624565044769,
          70.37455498649669,
          73.6799925690767,
          73.8458023444412,
          58.1113369011046,
          69.7003259120286,
          53.92391851030531,
          87.68930328476341,
          69.9275420361134,
          71.09513051104119,
          70.0205707904215,
          56.8972122975493,
          77.53155776615219,
          31.0068616618909,
          69.7649864211433,
          62.1320734207864,
          59.9915545294654,
          78.3521024196433,
          59.94277825839301,
          80.1302764811351,
          74.5276408764325,
          70.0070618233958,
          49.7397853197448,
          69.25430778720991,
          61.7908569989096,
          67.7478868172202,
          78.7001549622119,
          75.074462683274,
          70.3676788513242,
          10.2667478390445,
          80.0035151980995,
          69.2728419556924,
          36.0984081360959,
          70.9571366825014,
          76.5562587551085,
          73.5652398748495,
          54.93945070953021,
          72.295112572951,
          86.486602357985,
          24.9817444394254,
          79.2554078123494,
          65.2662469885424,
          65.9349758764218,
          74.72928298130489,
          60.539482470359,
          71.6292808377809,
          69.8553519598458,
          62.4025313412788,
          79.5641725043951,
          39.8329057781906,
          60.0124744491636,
          62.5679651267729,
          68.58603713684501,
          73.8765813182331,
          74.7030476742367,
          68.5851928290606,
          64.950738957307,
          70.1152068644145,
          74.8986191639868,
          85.1720143258777,
          78.91344986489881,
          90.15251973306007,
          60.4235658834162,
          84.0330505003306,
          79.8539129096192,
          75.4532851011359,
          81.4158169367188,
          75.3392783429645,
          95.546249607958,
          73.4691246609722,
          54.16632320706501,
          66.0525521467722,
          78.0889784862944,
          53.753319186725,
          92.5925925925926,
          90.6878306878307,
          55.67273135971939,
          86.24569268726431,
          92.8571428571429,
          69.9978292211803,
          40.0931257312287,
          86.4035122529274,
          69.95752097664939,
          72.9728801959463,
          79.9780052464248,
          73.0792651078731,
          72.2414182346439,
          69.9470661905089,
          68.5613922955568,
          75.6633766707655,
          65.178844063095,
          89.77339273959339,
          74.326570710237,
          95.88587726328328,
          79.8345323948717,
          70.11623214970909,
          75.3116950407959,
          68.8351319615694,
          70.1014006502152,
          68.9458535005687,
          58.1116384862453,
          78.8897047249974,
          68.17936110346609,
          83.16143636541901,
          69.8974105432297,
          69.9050806686698,
          79.7117830675886,
          72.6436016429259,
          69.67634194210379,
          88.9009362012747,
          79.9128330556756,
          31.6577488768507,
          80.4188042331439,
          82.07091282713529,
          89.88081237201641,
          78.3065843761075,
          81.37661420175061,
          69.9950962036735,
          80.7392742446627,
          69.9927832904734,
          68.2600204037733,
          78.5372978899308,
          59.27102557628339,
          73.6456740234148,
          66.9790679206213,
          58.7229136476718,
          71.5294344913866,
          60.154256408309,
          78.9093315738933,
          60.235868512365,
          53.2380531952803,
          97.4110465704804,
          84.72121283367511,
          79.9067486125549,
          69.7010521483333,
          80.02802803002609,
          79.9231557277462,
          71.59567305947161,
          80.0746560453281,
          89.6861425003499,
          59.82899461971819,
          59.5625391228554,
          55.7532520364688,
          66.0718181437705,
          71.28368478124341,
          85.65491926552599,
          80.3874581786551,
          66.9428197879285,
          80.114062884009,
          70.8251554685057,
          43.0918549411096,
          69.8840379372576,
          69.0289189129287,
          77.83576043439669,
          69.99846105939,
          52.7332819304771,
          70.0016619672642,
          70.35024078514,
          72.1862739453919,
          68.168139190837,
          62.5037717165994,
          40.0489946059566,
          79.2213934192086,
          56.46769769771601,
          70.3642339241603,
          64.1228306799026,
          82.3196931131284,
          70.10617246281831,
          60.0730337588853,
          72.8015406471104,
          60.6039574012819,
          78.6716150727937,
          73.5238382276858,
          59.1226069785583,
          67.14565084199491,
          74.7699165570506,
          50.5161752969703,
          25.776313573099,
          70.51753644880901,
          82.66666666666669,
          69.801056879478,
          75.6451848993115,
          66.6109777589547,
          60.6296850521076,
          43.2399421451245,
          88.05642102435581,
          53.1570162173714,
          49.2940923804887,
          80.0646534681062,
          64.290126703941,
          81.963771860378,
          79.4459414784531,
          84.8779584676098,
          70.4253443792164,
          78.6789513963677,
          70.48153411849461,
          85.148181434055,
          79.74975692812029,
          79.6451207321284,
          69.0238718354026,
          54.1660709375859,
          80.8364639638045,
          79.9286433207168,
          71.8986934356187,
          69.656207366985,
          71.1109708801408,
          75.3673744379111,
          70.5240575440511,
          80.72250324712729,
          69.8298038771738,
          70.6070598854303,
          97.9305953551328,
          79.4866123577475,
          74.9319672304038,
          75.0445945528121,
          59.6824363637412,
          64.92177856608001,
          75.51362561392969,
          50.9466703678243,
          72.4513431779184,
          67.3429894835845,
          89.8590889602851,
          50.2177922378672,
          69.7959282990004,
          69.8391176032371,
          71.21427234468581,
          61.14794630145681,
          54.8295475866193,
          59.91503469545101,
          74.2435461096023,
          61.9389463357487,
          55.9881489952201,
          64.2032454935421,
          72.1594767638018,
          54.9006982041706,
          64.1690066125067,
          69.2131214307828,
          72.6609644123464,
          62.06898213327661,
          89.2219139469131,
          50.0886472911787,
          84.1942220892078,
          54.7097119391589,
          63.87543632737511,
          73.3623499772261,
          42.37481473760479,
          69.879270242871,
          74.6254927910806,
          65.0603774480998,
          84.1015563951951,
          43.4427716847344,
          60.6683152174699,
          71.37509860906749,
          72.5790321050645,
          20.1195121553256,
          60.369463540511,
          73.9747389463437,
          99.3660835558789,
          60.5071396677603,
          70.561370742815,
          75.031940196185,
          64.36469249595649,
          71.1907415837225,
          78.9555491219826,
          79.8562590551367,
          84.83889146782451,
          65.2552717987332,
          73.5225979723842,
          69.9860567807861,
          79.3734954176963,
          80.0463101938771,
          58.47515240733691,
          62.33624367790451,
          44.4983453901041,
          64.9522846141673,
          69.9842732808681,
          79.6873579311668,
          84.13932568014401,
          89.5364830975714,
          79.916333639657,
          60.3372665291113,
          73.5296761162317,
          72.1251893329576,
          59.8404609297833,
          80.0653070863627,
          69.7906109743814,
          71.1680797005436,
          80.0815654644824,
          68.9696444161054,
          79.598769638544,
          50.6613076717958,
          72.87997124776341,
          63.1523219237158,
          74.1601202395073,
          72.2222835451668,
          58.9312357955808,
          60.5561127120999,
          66.65710571893379,
          57.7928013931344,
          59.2060533094683,
          65.5428758627759,
          69.7894130172926,
          69.7507520665278,
          50.6071701820173,
          70.3070115291155,
          79.8939972321604,
          71.1141184259789,
          88.08466450676329,
          55.34849238609311,
          55.9386323566298,
          77.5429831436595,
          62.0210854847266,
          96.88514085375672,
          81.8221560380634,
          77.4813410414,
          70.219204521102,
          60.3556128495544,
          80.53565982310539,
          72.2465380840461,
          78.0516144185761,
          74.9820019041182,
          57.5223721815095,
          60.4244453226469,
          59.5955142318068,
          86.27969338285939,
          72.56553532454289,
          89.8701895418023,
          71.34315667886091,
          69.8061903440212,
          71.09512005377239,
          88.55424723535981,
          46.3629502545389,
          79.9353154878259,
          89.4083307212859,
          69.0408333764061,
          78.9616771399571,
          72.8933933298248,
          89.242573178757,
          64.3575634264771,
          63.1268464515298,
          59.5415518255024,
          70.1302484765243,
          83.1248728491051,
          69.319299607493,
          77.7121496283882,
          79.94632933907779,
          43.9206273223165,
          63.7883898912102,
          61.3827427758319,
          68.8443150870185,
          62.4251657623702,
          73.7147788761874,
          63.84027187765511,
          70.1673831255521,
          55.0184433028577,
          60.8076142052482,
          78.840480641845,
          70.3272679811998,
          77.6880504853593,
          79.8916439525826,
          78.4899336671703,
          89.93351182313401,
          76.80809864861389,
          87.89819176511119,
          89.0681749596998,
          80.09355122711581
         ],
         "xaxis": "x",
         "yaxis": "y"
        }
       ],
       "layout": {
        "barmode": "relative",
        "legend": {
         "tracegroupgap": 0
        },
        "template": {
         "data": {
          "bar": [
           {
            "error_x": {
             "color": "#2a3f5f"
            },
            "error_y": {
             "color": "#2a3f5f"
            },
            "marker": {
             "line": {
              "color": "#E5ECF6",
              "width": 0.5
             },
             "pattern": {
              "fillmode": "overlay",
              "size": 10,
              "solidity": 0.2
             }
            },
            "type": "bar"
           }
          ],
          "barpolar": [
           {
            "marker": {
             "line": {
              "color": "#E5ECF6",
              "width": 0.5
             },
             "pattern": {
              "fillmode": "overlay",
              "size": 10,
              "solidity": 0.2
             }
            },
            "type": "barpolar"
           }
          ],
          "carpet": [
           {
            "aaxis": {
             "endlinecolor": "#2a3f5f",
             "gridcolor": "white",
             "linecolor": "white",
             "minorgridcolor": "white",
             "startlinecolor": "#2a3f5f"
            },
            "baxis": {
             "endlinecolor": "#2a3f5f",
             "gridcolor": "white",
             "linecolor": "white",
             "minorgridcolor": "white",
             "startlinecolor": "#2a3f5f"
            },
            "type": "carpet"
           }
          ],
          "choropleth": [
           {
            "colorbar": {
             "outlinewidth": 0,
             "ticks": ""
            },
            "type": "choropleth"
           }
          ],
          "contour": [
           {
            "colorbar": {
             "outlinewidth": 0,
             "ticks": ""
            },
            "colorscale": [
             [
              0,
              "#0d0887"
             ],
             [
              0.1111111111111111,
              "#46039f"
             ],
             [
              0.2222222222222222,
              "#7201a8"
             ],
             [
              0.3333333333333333,
              "#9c179e"
             ],
             [
              0.4444444444444444,
              "#bd3786"
             ],
             [
              0.5555555555555556,
              "#d8576b"
             ],
             [
              0.6666666666666666,
              "#ed7953"
             ],
             [
              0.7777777777777778,
              "#fb9f3a"
             ],
             [
              0.8888888888888888,
              "#fdca26"
             ],
             [
              1,
              "#f0f921"
             ]
            ],
            "type": "contour"
           }
          ],
          "contourcarpet": [
           {
            "colorbar": {
             "outlinewidth": 0,
             "ticks": ""
            },
            "type": "contourcarpet"
           }
          ],
          "heatmap": [
           {
            "colorbar": {
             "outlinewidth": 0,
             "ticks": ""
            },
            "colorscale": [
             [
              0,
              "#0d0887"
             ],
             [
              0.1111111111111111,
              "#46039f"
             ],
             [
              0.2222222222222222,
              "#7201a8"
             ],
             [
              0.3333333333333333,
              "#9c179e"
             ],
             [
              0.4444444444444444,
              "#bd3786"
             ],
             [
              0.5555555555555556,
              "#d8576b"
             ],
             [
              0.6666666666666666,
              "#ed7953"
             ],
             [
              0.7777777777777778,
              "#fb9f3a"
             ],
             [
              0.8888888888888888,
              "#fdca26"
             ],
             [
              1,
              "#f0f921"
             ]
            ],
            "type": "heatmap"
           }
          ],
          "heatmapgl": [
           {
            "colorbar": {
             "outlinewidth": 0,
             "ticks": ""
            },
            "colorscale": [
             [
              0,
              "#0d0887"
             ],
             [
              0.1111111111111111,
              "#46039f"
             ],
             [
              0.2222222222222222,
              "#7201a8"
             ],
             [
              0.3333333333333333,
              "#9c179e"
             ],
             [
              0.4444444444444444,
              "#bd3786"
             ],
             [
              0.5555555555555556,
              "#d8576b"
             ],
             [
              0.6666666666666666,
              "#ed7953"
             ],
             [
              0.7777777777777778,
              "#fb9f3a"
             ],
             [
              0.8888888888888888,
              "#fdca26"
             ],
             [
              1,
              "#f0f921"
             ]
            ],
            "type": "heatmapgl"
           }
          ],
          "histogram": [
           {
            "marker": {
             "pattern": {
              "fillmode": "overlay",
              "size": 10,
              "solidity": 0.2
             }
            },
            "type": "histogram"
           }
          ],
          "histogram2d": [
           {
            "colorbar": {
             "outlinewidth": 0,
             "ticks": ""
            },
            "colorscale": [
             [
              0,
              "#0d0887"
             ],
             [
              0.1111111111111111,
              "#46039f"
             ],
             [
              0.2222222222222222,
              "#7201a8"
             ],
             [
              0.3333333333333333,
              "#9c179e"
             ],
             [
              0.4444444444444444,
              "#bd3786"
             ],
             [
              0.5555555555555556,
              "#d8576b"
             ],
             [
              0.6666666666666666,
              "#ed7953"
             ],
             [
              0.7777777777777778,
              "#fb9f3a"
             ],
             [
              0.8888888888888888,
              "#fdca26"
             ],
             [
              1,
              "#f0f921"
             ]
            ],
            "type": "histogram2d"
           }
          ],
          "histogram2dcontour": [
           {
            "colorbar": {
             "outlinewidth": 0,
             "ticks": ""
            },
            "colorscale": [
             [
              0,
              "#0d0887"
             ],
             [
              0.1111111111111111,
              "#46039f"
             ],
             [
              0.2222222222222222,
              "#7201a8"
             ],
             [
              0.3333333333333333,
              "#9c179e"
             ],
             [
              0.4444444444444444,
              "#bd3786"
             ],
             [
              0.5555555555555556,
              "#d8576b"
             ],
             [
              0.6666666666666666,
              "#ed7953"
             ],
             [
              0.7777777777777778,
              "#fb9f3a"
             ],
             [
              0.8888888888888888,
              "#fdca26"
             ],
             [
              1,
              "#f0f921"
             ]
            ],
            "type": "histogram2dcontour"
           }
          ],
          "mesh3d": [
           {
            "colorbar": {
             "outlinewidth": 0,
             "ticks": ""
            },
            "type": "mesh3d"
           }
          ],
          "parcoords": [
           {
            "line": {
             "colorbar": {
              "outlinewidth": 0,
              "ticks": ""
             }
            },
            "type": "parcoords"
           }
          ],
          "pie": [
           {
            "automargin": true,
            "type": "pie"
           }
          ],
          "scatter": [
           {
            "marker": {
             "colorbar": {
              "outlinewidth": 0,
              "ticks": ""
             }
            },
            "type": "scatter"
           }
          ],
          "scatter3d": [
           {
            "line": {
             "colorbar": {
              "outlinewidth": 0,
              "ticks": ""
             }
            },
            "marker": {
             "colorbar": {
              "outlinewidth": 0,
              "ticks": ""
             }
            },
            "type": "scatter3d"
           }
          ],
          "scattercarpet": [
           {
            "marker": {
             "colorbar": {
              "outlinewidth": 0,
              "ticks": ""
             }
            },
            "type": "scattercarpet"
           }
          ],
          "scattergeo": [
           {
            "marker": {
             "colorbar": {
              "outlinewidth": 0,
              "ticks": ""
             }
            },
            "type": "scattergeo"
           }
          ],
          "scattergl": [
           {
            "marker": {
             "colorbar": {
              "outlinewidth": 0,
              "ticks": ""
             }
            },
            "type": "scattergl"
           }
          ],
          "scattermapbox": [
           {
            "marker": {
             "colorbar": {
              "outlinewidth": 0,
              "ticks": ""
             }
            },
            "type": "scattermapbox"
           }
          ],
          "scatterpolar": [
           {
            "marker": {
             "colorbar": {
              "outlinewidth": 0,
              "ticks": ""
             }
            },
            "type": "scatterpolar"
           }
          ],
          "scatterpolargl": [
           {
            "marker": {
             "colorbar": {
              "outlinewidth": 0,
              "ticks": ""
             }
            },
            "type": "scatterpolargl"
           }
          ],
          "scatterternary": [
           {
            "marker": {
             "colorbar": {
              "outlinewidth": 0,
              "ticks": ""
             }
            },
            "type": "scatterternary"
           }
          ],
          "surface": [
           {
            "colorbar": {
             "outlinewidth": 0,
             "ticks": ""
            },
            "colorscale": [
             [
              0,
              "#0d0887"
             ],
             [
              0.1111111111111111,
              "#46039f"
             ],
             [
              0.2222222222222222,
              "#7201a8"
             ],
             [
              0.3333333333333333,
              "#9c179e"
             ],
             [
              0.4444444444444444,
              "#bd3786"
             ],
             [
              0.5555555555555556,
              "#d8576b"
             ],
             [
              0.6666666666666666,
              "#ed7953"
             ],
             [
              0.7777777777777778,
              "#fb9f3a"
             ],
             [
              0.8888888888888888,
              "#fdca26"
             ],
             [
              1,
              "#f0f921"
             ]
            ],
            "type": "surface"
           }
          ],
          "table": [
           {
            "cells": {
             "fill": {
              "color": "#EBF0F8"
             },
             "line": {
              "color": "white"
             }
            },
            "header": {
             "fill": {
              "color": "#C8D4E3"
             },
             "line": {
              "color": "white"
             }
            },
            "type": "table"
           }
          ]
         },
         "layout": {
          "annotationdefaults": {
           "arrowcolor": "#2a3f5f",
           "arrowhead": 0,
           "arrowwidth": 1
          },
          "autotypenumbers": "strict",
          "coloraxis": {
           "colorbar": {
            "outlinewidth": 0,
            "ticks": ""
           }
          },
          "colorscale": {
           "diverging": [
            [
             0,
             "#8e0152"
            ],
            [
             0.1,
             "#c51b7d"
            ],
            [
             0.2,
             "#de77ae"
            ],
            [
             0.3,
             "#f1b6da"
            ],
            [
             0.4,
             "#fde0ef"
            ],
            [
             0.5,
             "#f7f7f7"
            ],
            [
             0.6,
             "#e6f5d0"
            ],
            [
             0.7,
             "#b8e186"
            ],
            [
             0.8,
             "#7fbc41"
            ],
            [
             0.9,
             "#4d9221"
            ],
            [
             1,
             "#276419"
            ]
           ],
           "sequential": [
            [
             0,
             "#0d0887"
            ],
            [
             0.1111111111111111,
             "#46039f"
            ],
            [
             0.2222222222222222,
             "#7201a8"
            ],
            [
             0.3333333333333333,
             "#9c179e"
            ],
            [
             0.4444444444444444,
             "#bd3786"
            ],
            [
             0.5555555555555556,
             "#d8576b"
            ],
            [
             0.6666666666666666,
             "#ed7953"
            ],
            [
             0.7777777777777778,
             "#fb9f3a"
            ],
            [
             0.8888888888888888,
             "#fdca26"
            ],
            [
             1,
             "#f0f921"
            ]
           ],
           "sequentialminus": [
            [
             0,
             "#0d0887"
            ],
            [
             0.1111111111111111,
             "#46039f"
            ],
            [
             0.2222222222222222,
             "#7201a8"
            ],
            [
             0.3333333333333333,
             "#9c179e"
            ],
            [
             0.4444444444444444,
             "#bd3786"
            ],
            [
             0.5555555555555556,
             "#d8576b"
            ],
            [
             0.6666666666666666,
             "#ed7953"
            ],
            [
             0.7777777777777778,
             "#fb9f3a"
            ],
            [
             0.8888888888888888,
             "#fdca26"
            ],
            [
             1,
             "#f0f921"
            ]
           ]
          },
          "colorway": [
           "#636efa",
           "#EF553B",
           "#00cc96",
           "#ab63fa",
           "#FFA15A",
           "#19d3f3",
           "#FF6692",
           "#B6E880",
           "#FF97FF",
           "#FECB52"
          ],
          "font": {
           "color": "#2a3f5f"
          },
          "geo": {
           "bgcolor": "white",
           "lakecolor": "white",
           "landcolor": "#E5ECF6",
           "showlakes": true,
           "showland": true,
           "subunitcolor": "white"
          },
          "hoverlabel": {
           "align": "left"
          },
          "hovermode": "closest",
          "mapbox": {
           "style": "light"
          },
          "paper_bgcolor": "white",
          "plot_bgcolor": "#E5ECF6",
          "polar": {
           "angularaxis": {
            "gridcolor": "white",
            "linecolor": "white",
            "ticks": ""
           },
           "bgcolor": "#E5ECF6",
           "radialaxis": {
            "gridcolor": "white",
            "linecolor": "white",
            "ticks": ""
           }
          },
          "scene": {
           "xaxis": {
            "backgroundcolor": "#E5ECF6",
            "gridcolor": "white",
            "gridwidth": 2,
            "linecolor": "white",
            "showbackground": true,
            "ticks": "",
            "zerolinecolor": "white"
           },
           "yaxis": {
            "backgroundcolor": "#E5ECF6",
            "gridcolor": "white",
            "gridwidth": 2,
            "linecolor": "white",
            "showbackground": true,
            "ticks": "",
            "zerolinecolor": "white"
           },
           "zaxis": {
            "backgroundcolor": "#E5ECF6",
            "gridcolor": "white",
            "gridwidth": 2,
            "linecolor": "white",
            "showbackground": true,
            "ticks": "",
            "zerolinecolor": "white"
           }
          },
          "shapedefaults": {
           "line": {
            "color": "#2a3f5f"
           }
          },
          "ternary": {
           "aaxis": {
            "gridcolor": "white",
            "linecolor": "white",
            "ticks": ""
           },
           "baxis": {
            "gridcolor": "white",
            "linecolor": "white",
            "ticks": ""
           },
           "bgcolor": "#E5ECF6",
           "caxis": {
            "gridcolor": "white",
            "linecolor": "white",
            "ticks": ""
           }
          },
          "title": {
           "x": 0.05
          },
          "xaxis": {
           "automargin": true,
           "gridcolor": "white",
           "linecolor": "white",
           "ticks": "",
           "title": {
            "standoff": 15
           },
           "zerolinecolor": "white",
           "zerolinewidth": 2
          },
          "yaxis": {
           "automargin": true,
           "gridcolor": "white",
           "linecolor": "white",
           "ticks": "",
           "title": {
            "standoff": 15
           },
           "zerolinecolor": "white",
           "zerolinewidth": 2
          }
         }
        },
        "title": {
         "text": "User score distribution"
        },
        "xaxis": {
         "anchor": "y",
         "domain": [
          0,
          1
         ],
         "title": {
          "text": "user_score"
         }
        },
        "yaxis": {
         "anchor": "x",
         "domain": [
          0,
          1
         ],
         "title": {
          "text": "count"
         }
        }
       }
      }
     },
     "metadata": {},
     "output_type": "display_data"
    }
   ],
   "source": [
    "px.histogram(df, x='user_score', nbins=20,\n",
    "            title='User score distribution',\n",
    "            labels={\n",
    "                'count': 'Amount'\n",
    "})"
   ]
  },
  {
   "cell_type": "code",
   "execution_count": 309,
   "metadata": {},
   "outputs": [
    {
     "data": {
      "application/vnd.plotly.v1+json": {
       "config": {
        "plotlyServerURL": "https://plot.ly"
       },
       "data": [
        {
         "alignmentgroup": "True",
         "hovertemplate": "in_franchise=%{x}<br>Amount=%{y}<extra></extra>",
         "legendgroup": "",
         "marker": {
          "color": "#636efa",
          "pattern": {
           "shape": ""
          }
         },
         "name": "",
         "offsetgroup": "",
         "orientation": "v",
         "showlegend": false,
         "textposition": "auto",
         "type": "bar",
         "x": [
          true,
          false
         ],
         "xaxis": "x",
         "y": [
          1968,
          2963
         ],
         "yaxis": "y"
        }
       ],
       "layout": {
        "barmode": "relative",
        "legend": {
         "tracegroupgap": 0
        },
        "template": {
         "data": {
          "bar": [
           {
            "error_x": {
             "color": "#2a3f5f"
            },
            "error_y": {
             "color": "#2a3f5f"
            },
            "marker": {
             "line": {
              "color": "#E5ECF6",
              "width": 0.5
             },
             "pattern": {
              "fillmode": "overlay",
              "size": 10,
              "solidity": 0.2
             }
            },
            "type": "bar"
           }
          ],
          "barpolar": [
           {
            "marker": {
             "line": {
              "color": "#E5ECF6",
              "width": 0.5
             },
             "pattern": {
              "fillmode": "overlay",
              "size": 10,
              "solidity": 0.2
             }
            },
            "type": "barpolar"
           }
          ],
          "carpet": [
           {
            "aaxis": {
             "endlinecolor": "#2a3f5f",
             "gridcolor": "white",
             "linecolor": "white",
             "minorgridcolor": "white",
             "startlinecolor": "#2a3f5f"
            },
            "baxis": {
             "endlinecolor": "#2a3f5f",
             "gridcolor": "white",
             "linecolor": "white",
             "minorgridcolor": "white",
             "startlinecolor": "#2a3f5f"
            },
            "type": "carpet"
           }
          ],
          "choropleth": [
           {
            "colorbar": {
             "outlinewidth": 0,
             "ticks": ""
            },
            "type": "choropleth"
           }
          ],
          "contour": [
           {
            "colorbar": {
             "outlinewidth": 0,
             "ticks": ""
            },
            "colorscale": [
             [
              0,
              "#0d0887"
             ],
             [
              0.1111111111111111,
              "#46039f"
             ],
             [
              0.2222222222222222,
              "#7201a8"
             ],
             [
              0.3333333333333333,
              "#9c179e"
             ],
             [
              0.4444444444444444,
              "#bd3786"
             ],
             [
              0.5555555555555556,
              "#d8576b"
             ],
             [
              0.6666666666666666,
              "#ed7953"
             ],
             [
              0.7777777777777778,
              "#fb9f3a"
             ],
             [
              0.8888888888888888,
              "#fdca26"
             ],
             [
              1,
              "#f0f921"
             ]
            ],
            "type": "contour"
           }
          ],
          "contourcarpet": [
           {
            "colorbar": {
             "outlinewidth": 0,
             "ticks": ""
            },
            "type": "contourcarpet"
           }
          ],
          "heatmap": [
           {
            "colorbar": {
             "outlinewidth": 0,
             "ticks": ""
            },
            "colorscale": [
             [
              0,
              "#0d0887"
             ],
             [
              0.1111111111111111,
              "#46039f"
             ],
             [
              0.2222222222222222,
              "#7201a8"
             ],
             [
              0.3333333333333333,
              "#9c179e"
             ],
             [
              0.4444444444444444,
              "#bd3786"
             ],
             [
              0.5555555555555556,
              "#d8576b"
             ],
             [
              0.6666666666666666,
              "#ed7953"
             ],
             [
              0.7777777777777778,
              "#fb9f3a"
             ],
             [
              0.8888888888888888,
              "#fdca26"
             ],
             [
              1,
              "#f0f921"
             ]
            ],
            "type": "heatmap"
           }
          ],
          "heatmapgl": [
           {
            "colorbar": {
             "outlinewidth": 0,
             "ticks": ""
            },
            "colorscale": [
             [
              0,
              "#0d0887"
             ],
             [
              0.1111111111111111,
              "#46039f"
             ],
             [
              0.2222222222222222,
              "#7201a8"
             ],
             [
              0.3333333333333333,
              "#9c179e"
             ],
             [
              0.4444444444444444,
              "#bd3786"
             ],
             [
              0.5555555555555556,
              "#d8576b"
             ],
             [
              0.6666666666666666,
              "#ed7953"
             ],
             [
              0.7777777777777778,
              "#fb9f3a"
             ],
             [
              0.8888888888888888,
              "#fdca26"
             ],
             [
              1,
              "#f0f921"
             ]
            ],
            "type": "heatmapgl"
           }
          ],
          "histogram": [
           {
            "marker": {
             "pattern": {
              "fillmode": "overlay",
              "size": 10,
              "solidity": 0.2
             }
            },
            "type": "histogram"
           }
          ],
          "histogram2d": [
           {
            "colorbar": {
             "outlinewidth": 0,
             "ticks": ""
            },
            "colorscale": [
             [
              0,
              "#0d0887"
             ],
             [
              0.1111111111111111,
              "#46039f"
             ],
             [
              0.2222222222222222,
              "#7201a8"
             ],
             [
              0.3333333333333333,
              "#9c179e"
             ],
             [
              0.4444444444444444,
              "#bd3786"
             ],
             [
              0.5555555555555556,
              "#d8576b"
             ],
             [
              0.6666666666666666,
              "#ed7953"
             ],
             [
              0.7777777777777778,
              "#fb9f3a"
             ],
             [
              0.8888888888888888,
              "#fdca26"
             ],
             [
              1,
              "#f0f921"
             ]
            ],
            "type": "histogram2d"
           }
          ],
          "histogram2dcontour": [
           {
            "colorbar": {
             "outlinewidth": 0,
             "ticks": ""
            },
            "colorscale": [
             [
              0,
              "#0d0887"
             ],
             [
              0.1111111111111111,
              "#46039f"
             ],
             [
              0.2222222222222222,
              "#7201a8"
             ],
             [
              0.3333333333333333,
              "#9c179e"
             ],
             [
              0.4444444444444444,
              "#bd3786"
             ],
             [
              0.5555555555555556,
              "#d8576b"
             ],
             [
              0.6666666666666666,
              "#ed7953"
             ],
             [
              0.7777777777777778,
              "#fb9f3a"
             ],
             [
              0.8888888888888888,
              "#fdca26"
             ],
             [
              1,
              "#f0f921"
             ]
            ],
            "type": "histogram2dcontour"
           }
          ],
          "mesh3d": [
           {
            "colorbar": {
             "outlinewidth": 0,
             "ticks": ""
            },
            "type": "mesh3d"
           }
          ],
          "parcoords": [
           {
            "line": {
             "colorbar": {
              "outlinewidth": 0,
              "ticks": ""
             }
            },
            "type": "parcoords"
           }
          ],
          "pie": [
           {
            "automargin": true,
            "type": "pie"
           }
          ],
          "scatter": [
           {
            "marker": {
             "colorbar": {
              "outlinewidth": 0,
              "ticks": ""
             }
            },
            "type": "scatter"
           }
          ],
          "scatter3d": [
           {
            "line": {
             "colorbar": {
              "outlinewidth": 0,
              "ticks": ""
             }
            },
            "marker": {
             "colorbar": {
              "outlinewidth": 0,
              "ticks": ""
             }
            },
            "type": "scatter3d"
           }
          ],
          "scattercarpet": [
           {
            "marker": {
             "colorbar": {
              "outlinewidth": 0,
              "ticks": ""
             }
            },
            "type": "scattercarpet"
           }
          ],
          "scattergeo": [
           {
            "marker": {
             "colorbar": {
              "outlinewidth": 0,
              "ticks": ""
             }
            },
            "type": "scattergeo"
           }
          ],
          "scattergl": [
           {
            "marker": {
             "colorbar": {
              "outlinewidth": 0,
              "ticks": ""
             }
            },
            "type": "scattergl"
           }
          ],
          "scattermapbox": [
           {
            "marker": {
             "colorbar": {
              "outlinewidth": 0,
              "ticks": ""
             }
            },
            "type": "scattermapbox"
           }
          ],
          "scatterpolar": [
           {
            "marker": {
             "colorbar": {
              "outlinewidth": 0,
              "ticks": ""
             }
            },
            "type": "scatterpolar"
           }
          ],
          "scatterpolargl": [
           {
            "marker": {
             "colorbar": {
              "outlinewidth": 0,
              "ticks": ""
             }
            },
            "type": "scatterpolargl"
           }
          ],
          "scatterternary": [
           {
            "marker": {
             "colorbar": {
              "outlinewidth": 0,
              "ticks": ""
             }
            },
            "type": "scatterternary"
           }
          ],
          "surface": [
           {
            "colorbar": {
             "outlinewidth": 0,
             "ticks": ""
            },
            "colorscale": [
             [
              0,
              "#0d0887"
             ],
             [
              0.1111111111111111,
              "#46039f"
             ],
             [
              0.2222222222222222,
              "#7201a8"
             ],
             [
              0.3333333333333333,
              "#9c179e"
             ],
             [
              0.4444444444444444,
              "#bd3786"
             ],
             [
              0.5555555555555556,
              "#d8576b"
             ],
             [
              0.6666666666666666,
              "#ed7953"
             ],
             [
              0.7777777777777778,
              "#fb9f3a"
             ],
             [
              0.8888888888888888,
              "#fdca26"
             ],
             [
              1,
              "#f0f921"
             ]
            ],
            "type": "surface"
           }
          ],
          "table": [
           {
            "cells": {
             "fill": {
              "color": "#EBF0F8"
             },
             "line": {
              "color": "white"
             }
            },
            "header": {
             "fill": {
              "color": "#C8D4E3"
             },
             "line": {
              "color": "white"
             }
            },
            "type": "table"
           }
          ]
         },
         "layout": {
          "annotationdefaults": {
           "arrowcolor": "#2a3f5f",
           "arrowhead": 0,
           "arrowwidth": 1
          },
          "autotypenumbers": "strict",
          "coloraxis": {
           "colorbar": {
            "outlinewidth": 0,
            "ticks": ""
           }
          },
          "colorscale": {
           "diverging": [
            [
             0,
             "#8e0152"
            ],
            [
             0.1,
             "#c51b7d"
            ],
            [
             0.2,
             "#de77ae"
            ],
            [
             0.3,
             "#f1b6da"
            ],
            [
             0.4,
             "#fde0ef"
            ],
            [
             0.5,
             "#f7f7f7"
            ],
            [
             0.6,
             "#e6f5d0"
            ],
            [
             0.7,
             "#b8e186"
            ],
            [
             0.8,
             "#7fbc41"
            ],
            [
             0.9,
             "#4d9221"
            ],
            [
             1,
             "#276419"
            ]
           ],
           "sequential": [
            [
             0,
             "#0d0887"
            ],
            [
             0.1111111111111111,
             "#46039f"
            ],
            [
             0.2222222222222222,
             "#7201a8"
            ],
            [
             0.3333333333333333,
             "#9c179e"
            ],
            [
             0.4444444444444444,
             "#bd3786"
            ],
            [
             0.5555555555555556,
             "#d8576b"
            ],
            [
             0.6666666666666666,
             "#ed7953"
            ],
            [
             0.7777777777777778,
             "#fb9f3a"
            ],
            [
             0.8888888888888888,
             "#fdca26"
            ],
            [
             1,
             "#f0f921"
            ]
           ],
           "sequentialminus": [
            [
             0,
             "#0d0887"
            ],
            [
             0.1111111111111111,
             "#46039f"
            ],
            [
             0.2222222222222222,
             "#7201a8"
            ],
            [
             0.3333333333333333,
             "#9c179e"
            ],
            [
             0.4444444444444444,
             "#bd3786"
            ],
            [
             0.5555555555555556,
             "#d8576b"
            ],
            [
             0.6666666666666666,
             "#ed7953"
            ],
            [
             0.7777777777777778,
             "#fb9f3a"
            ],
            [
             0.8888888888888888,
             "#fdca26"
            ],
            [
             1,
             "#f0f921"
            ]
           ]
          },
          "colorway": [
           "#636efa",
           "#EF553B",
           "#00cc96",
           "#ab63fa",
           "#FFA15A",
           "#19d3f3",
           "#FF6692",
           "#B6E880",
           "#FF97FF",
           "#FECB52"
          ],
          "font": {
           "color": "#2a3f5f"
          },
          "geo": {
           "bgcolor": "white",
           "lakecolor": "white",
           "landcolor": "#E5ECF6",
           "showlakes": true,
           "showland": true,
           "subunitcolor": "white"
          },
          "hoverlabel": {
           "align": "left"
          },
          "hovermode": "closest",
          "mapbox": {
           "style": "light"
          },
          "paper_bgcolor": "white",
          "plot_bgcolor": "#E5ECF6",
          "polar": {
           "angularaxis": {
            "gridcolor": "white",
            "linecolor": "white",
            "ticks": ""
           },
           "bgcolor": "#E5ECF6",
           "radialaxis": {
            "gridcolor": "white",
            "linecolor": "white",
            "ticks": ""
           }
          },
          "scene": {
           "xaxis": {
            "backgroundcolor": "#E5ECF6",
            "gridcolor": "white",
            "gridwidth": 2,
            "linecolor": "white",
            "showbackground": true,
            "ticks": "",
            "zerolinecolor": "white"
           },
           "yaxis": {
            "backgroundcolor": "#E5ECF6",
            "gridcolor": "white",
            "gridwidth": 2,
            "linecolor": "white",
            "showbackground": true,
            "ticks": "",
            "zerolinecolor": "white"
           },
           "zaxis": {
            "backgroundcolor": "#E5ECF6",
            "gridcolor": "white",
            "gridwidth": 2,
            "linecolor": "white",
            "showbackground": true,
            "ticks": "",
            "zerolinecolor": "white"
           }
          },
          "shapedefaults": {
           "line": {
            "color": "#2a3f5f"
           }
          },
          "ternary": {
           "aaxis": {
            "gridcolor": "white",
            "linecolor": "white",
            "ticks": ""
           },
           "baxis": {
            "gridcolor": "white",
            "linecolor": "white",
            "ticks": ""
           },
           "bgcolor": "#E5ECF6",
           "caxis": {
            "gridcolor": "white",
            "linecolor": "white",
            "ticks": ""
           }
          },
          "title": {
           "x": 0.05
          },
          "xaxis": {
           "automargin": true,
           "gridcolor": "white",
           "linecolor": "white",
           "ticks": "",
           "title": {
            "standoff": 15
           },
           "zerolinecolor": "white",
           "zerolinewidth": 2
          },
          "yaxis": {
           "automargin": true,
           "gridcolor": "white",
           "linecolor": "white",
           "ticks": "",
           "title": {
            "standoff": 15
           },
           "zerolinecolor": "white",
           "zerolinewidth": 2
          }
         }
        },
        "title": {
         "text": "In franchise distribution"
        },
        "xaxis": {
         "anchor": "y",
         "domain": [
          0,
          1
         ],
         "title": {
          "text": "in_franchise"
         }
        },
        "yaxis": {
         "anchor": "x",
         "domain": [
          0,
          1
         ],
         "title": {
          "text": "Amount"
         }
        }
       }
      }
     },
     "metadata": {},
     "output_type": "display_data"
    }
   ],
   "source": [
    "plot_df = pd.DataFrame(df['in_franchise'].value_counts()).reset_index()\n",
    "plot_df = plot_df.reindex(index=plot_df.index[::-1])\n",
    "\n",
    "px.bar(plot_df, x='index', y='in_franchise',\n",
    "        title='In franchise distribution',\n",
    "        labels={\n",
    "            'index': 'in_franchise',\n",
    "            'in_franchise': 'Amount'\n",
    "},)"
   ]
  },
  {
   "attachments": {},
   "cell_type": "markdown",
   "metadata": {},
   "source": [
    "Genres"
   ]
  },
  {
   "cell_type": "code",
   "execution_count": 310,
   "metadata": {},
   "outputs": [
    {
     "data": {
      "application/vnd.plotly.v1+json": {
       "config": {
        "plotlyServerURL": "https://plot.ly"
       },
       "data": [
        {
         "alignmentgroup": "True",
         "hovertemplate": "genre=%{x}<br>Amount=%{y}<extra></extra>",
         "legendgroup": "",
         "marker": {
          "color": "#636efa",
          "pattern": {
           "shape": ""
          }
         },
         "name": "",
         "offsetgroup": "",
         "orientation": "v",
         "showlegend": false,
         "textposition": "auto",
         "type": "bar",
         "x": [
          "MOBA",
          "Pinball",
          "Quiz/Trivia",
          "Card&BoardGame",
          "VisualNovel",
          "Music",
          "RealTimeStrategy(RTS)",
          "Tactical",
          "Turn-basedstrategy(TBS)",
          "Point-and-click",
          "Racing",
          "Fighting",
          "Hackandslash/Beat'emup",
          "Sport",
          "Arcade",
          "Puzzle",
          "Simulator",
          "Strategy",
          "Platform",
          "Indie",
          "Role-playing(RPG)",
          "Shooter",
          "Adventure"
         ],
         "xaxis": "x",
         "y": [
          10,
          15,
          16,
          68,
          71,
          97,
          196,
          234,
          237,
          241,
          356,
          383,
          384,
          401,
          449,
          687,
          725,
          880,
          905,
          1064,
          1066,
          1110,
          2291
         ],
         "yaxis": "y"
        }
       ],
       "layout": {
        "barmode": "relative",
        "legend": {
         "tracegroupgap": 0
        },
        "template": {
         "data": {
          "bar": [
           {
            "error_x": {
             "color": "#2a3f5f"
            },
            "error_y": {
             "color": "#2a3f5f"
            },
            "marker": {
             "line": {
              "color": "#E5ECF6",
              "width": 0.5
             },
             "pattern": {
              "fillmode": "overlay",
              "size": 10,
              "solidity": 0.2
             }
            },
            "type": "bar"
           }
          ],
          "barpolar": [
           {
            "marker": {
             "line": {
              "color": "#E5ECF6",
              "width": 0.5
             },
             "pattern": {
              "fillmode": "overlay",
              "size": 10,
              "solidity": 0.2
             }
            },
            "type": "barpolar"
           }
          ],
          "carpet": [
           {
            "aaxis": {
             "endlinecolor": "#2a3f5f",
             "gridcolor": "white",
             "linecolor": "white",
             "minorgridcolor": "white",
             "startlinecolor": "#2a3f5f"
            },
            "baxis": {
             "endlinecolor": "#2a3f5f",
             "gridcolor": "white",
             "linecolor": "white",
             "minorgridcolor": "white",
             "startlinecolor": "#2a3f5f"
            },
            "type": "carpet"
           }
          ],
          "choropleth": [
           {
            "colorbar": {
             "outlinewidth": 0,
             "ticks": ""
            },
            "type": "choropleth"
           }
          ],
          "contour": [
           {
            "colorbar": {
             "outlinewidth": 0,
             "ticks": ""
            },
            "colorscale": [
             [
              0,
              "#0d0887"
             ],
             [
              0.1111111111111111,
              "#46039f"
             ],
             [
              0.2222222222222222,
              "#7201a8"
             ],
             [
              0.3333333333333333,
              "#9c179e"
             ],
             [
              0.4444444444444444,
              "#bd3786"
             ],
             [
              0.5555555555555556,
              "#d8576b"
             ],
             [
              0.6666666666666666,
              "#ed7953"
             ],
             [
              0.7777777777777778,
              "#fb9f3a"
             ],
             [
              0.8888888888888888,
              "#fdca26"
             ],
             [
              1,
              "#f0f921"
             ]
            ],
            "type": "contour"
           }
          ],
          "contourcarpet": [
           {
            "colorbar": {
             "outlinewidth": 0,
             "ticks": ""
            },
            "type": "contourcarpet"
           }
          ],
          "heatmap": [
           {
            "colorbar": {
             "outlinewidth": 0,
             "ticks": ""
            },
            "colorscale": [
             [
              0,
              "#0d0887"
             ],
             [
              0.1111111111111111,
              "#46039f"
             ],
             [
              0.2222222222222222,
              "#7201a8"
             ],
             [
              0.3333333333333333,
              "#9c179e"
             ],
             [
              0.4444444444444444,
              "#bd3786"
             ],
             [
              0.5555555555555556,
              "#d8576b"
             ],
             [
              0.6666666666666666,
              "#ed7953"
             ],
             [
              0.7777777777777778,
              "#fb9f3a"
             ],
             [
              0.8888888888888888,
              "#fdca26"
             ],
             [
              1,
              "#f0f921"
             ]
            ],
            "type": "heatmap"
           }
          ],
          "heatmapgl": [
           {
            "colorbar": {
             "outlinewidth": 0,
             "ticks": ""
            },
            "colorscale": [
             [
              0,
              "#0d0887"
             ],
             [
              0.1111111111111111,
              "#46039f"
             ],
             [
              0.2222222222222222,
              "#7201a8"
             ],
             [
              0.3333333333333333,
              "#9c179e"
             ],
             [
              0.4444444444444444,
              "#bd3786"
             ],
             [
              0.5555555555555556,
              "#d8576b"
             ],
             [
              0.6666666666666666,
              "#ed7953"
             ],
             [
              0.7777777777777778,
              "#fb9f3a"
             ],
             [
              0.8888888888888888,
              "#fdca26"
             ],
             [
              1,
              "#f0f921"
             ]
            ],
            "type": "heatmapgl"
           }
          ],
          "histogram": [
           {
            "marker": {
             "pattern": {
              "fillmode": "overlay",
              "size": 10,
              "solidity": 0.2
             }
            },
            "type": "histogram"
           }
          ],
          "histogram2d": [
           {
            "colorbar": {
             "outlinewidth": 0,
             "ticks": ""
            },
            "colorscale": [
             [
              0,
              "#0d0887"
             ],
             [
              0.1111111111111111,
              "#46039f"
             ],
             [
              0.2222222222222222,
              "#7201a8"
             ],
             [
              0.3333333333333333,
              "#9c179e"
             ],
             [
              0.4444444444444444,
              "#bd3786"
             ],
             [
              0.5555555555555556,
              "#d8576b"
             ],
             [
              0.6666666666666666,
              "#ed7953"
             ],
             [
              0.7777777777777778,
              "#fb9f3a"
             ],
             [
              0.8888888888888888,
              "#fdca26"
             ],
             [
              1,
              "#f0f921"
             ]
            ],
            "type": "histogram2d"
           }
          ],
          "histogram2dcontour": [
           {
            "colorbar": {
             "outlinewidth": 0,
             "ticks": ""
            },
            "colorscale": [
             [
              0,
              "#0d0887"
             ],
             [
              0.1111111111111111,
              "#46039f"
             ],
             [
              0.2222222222222222,
              "#7201a8"
             ],
             [
              0.3333333333333333,
              "#9c179e"
             ],
             [
              0.4444444444444444,
              "#bd3786"
             ],
             [
              0.5555555555555556,
              "#d8576b"
             ],
             [
              0.6666666666666666,
              "#ed7953"
             ],
             [
              0.7777777777777778,
              "#fb9f3a"
             ],
             [
              0.8888888888888888,
              "#fdca26"
             ],
             [
              1,
              "#f0f921"
             ]
            ],
            "type": "histogram2dcontour"
           }
          ],
          "mesh3d": [
           {
            "colorbar": {
             "outlinewidth": 0,
             "ticks": ""
            },
            "type": "mesh3d"
           }
          ],
          "parcoords": [
           {
            "line": {
             "colorbar": {
              "outlinewidth": 0,
              "ticks": ""
             }
            },
            "type": "parcoords"
           }
          ],
          "pie": [
           {
            "automargin": true,
            "type": "pie"
           }
          ],
          "scatter": [
           {
            "marker": {
             "colorbar": {
              "outlinewidth": 0,
              "ticks": ""
             }
            },
            "type": "scatter"
           }
          ],
          "scatter3d": [
           {
            "line": {
             "colorbar": {
              "outlinewidth": 0,
              "ticks": ""
             }
            },
            "marker": {
             "colorbar": {
              "outlinewidth": 0,
              "ticks": ""
             }
            },
            "type": "scatter3d"
           }
          ],
          "scattercarpet": [
           {
            "marker": {
             "colorbar": {
              "outlinewidth": 0,
              "ticks": ""
             }
            },
            "type": "scattercarpet"
           }
          ],
          "scattergeo": [
           {
            "marker": {
             "colorbar": {
              "outlinewidth": 0,
              "ticks": ""
             }
            },
            "type": "scattergeo"
           }
          ],
          "scattergl": [
           {
            "marker": {
             "colorbar": {
              "outlinewidth": 0,
              "ticks": ""
             }
            },
            "type": "scattergl"
           }
          ],
          "scattermapbox": [
           {
            "marker": {
             "colorbar": {
              "outlinewidth": 0,
              "ticks": ""
             }
            },
            "type": "scattermapbox"
           }
          ],
          "scatterpolar": [
           {
            "marker": {
             "colorbar": {
              "outlinewidth": 0,
              "ticks": ""
             }
            },
            "type": "scatterpolar"
           }
          ],
          "scatterpolargl": [
           {
            "marker": {
             "colorbar": {
              "outlinewidth": 0,
              "ticks": ""
             }
            },
            "type": "scatterpolargl"
           }
          ],
          "scatterternary": [
           {
            "marker": {
             "colorbar": {
              "outlinewidth": 0,
              "ticks": ""
             }
            },
            "type": "scatterternary"
           }
          ],
          "surface": [
           {
            "colorbar": {
             "outlinewidth": 0,
             "ticks": ""
            },
            "colorscale": [
             [
              0,
              "#0d0887"
             ],
             [
              0.1111111111111111,
              "#46039f"
             ],
             [
              0.2222222222222222,
              "#7201a8"
             ],
             [
              0.3333333333333333,
              "#9c179e"
             ],
             [
              0.4444444444444444,
              "#bd3786"
             ],
             [
              0.5555555555555556,
              "#d8576b"
             ],
             [
              0.6666666666666666,
              "#ed7953"
             ],
             [
              0.7777777777777778,
              "#fb9f3a"
             ],
             [
              0.8888888888888888,
              "#fdca26"
             ],
             [
              1,
              "#f0f921"
             ]
            ],
            "type": "surface"
           }
          ],
          "table": [
           {
            "cells": {
             "fill": {
              "color": "#EBF0F8"
             },
             "line": {
              "color": "white"
             }
            },
            "header": {
             "fill": {
              "color": "#C8D4E3"
             },
             "line": {
              "color": "white"
             }
            },
            "type": "table"
           }
          ]
         },
         "layout": {
          "annotationdefaults": {
           "arrowcolor": "#2a3f5f",
           "arrowhead": 0,
           "arrowwidth": 1
          },
          "autotypenumbers": "strict",
          "coloraxis": {
           "colorbar": {
            "outlinewidth": 0,
            "ticks": ""
           }
          },
          "colorscale": {
           "diverging": [
            [
             0,
             "#8e0152"
            ],
            [
             0.1,
             "#c51b7d"
            ],
            [
             0.2,
             "#de77ae"
            ],
            [
             0.3,
             "#f1b6da"
            ],
            [
             0.4,
             "#fde0ef"
            ],
            [
             0.5,
             "#f7f7f7"
            ],
            [
             0.6,
             "#e6f5d0"
            ],
            [
             0.7,
             "#b8e186"
            ],
            [
             0.8,
             "#7fbc41"
            ],
            [
             0.9,
             "#4d9221"
            ],
            [
             1,
             "#276419"
            ]
           ],
           "sequential": [
            [
             0,
             "#0d0887"
            ],
            [
             0.1111111111111111,
             "#46039f"
            ],
            [
             0.2222222222222222,
             "#7201a8"
            ],
            [
             0.3333333333333333,
             "#9c179e"
            ],
            [
             0.4444444444444444,
             "#bd3786"
            ],
            [
             0.5555555555555556,
             "#d8576b"
            ],
            [
             0.6666666666666666,
             "#ed7953"
            ],
            [
             0.7777777777777778,
             "#fb9f3a"
            ],
            [
             0.8888888888888888,
             "#fdca26"
            ],
            [
             1,
             "#f0f921"
            ]
           ],
           "sequentialminus": [
            [
             0,
             "#0d0887"
            ],
            [
             0.1111111111111111,
             "#46039f"
            ],
            [
             0.2222222222222222,
             "#7201a8"
            ],
            [
             0.3333333333333333,
             "#9c179e"
            ],
            [
             0.4444444444444444,
             "#bd3786"
            ],
            [
             0.5555555555555556,
             "#d8576b"
            ],
            [
             0.6666666666666666,
             "#ed7953"
            ],
            [
             0.7777777777777778,
             "#fb9f3a"
            ],
            [
             0.8888888888888888,
             "#fdca26"
            ],
            [
             1,
             "#f0f921"
            ]
           ]
          },
          "colorway": [
           "#636efa",
           "#EF553B",
           "#00cc96",
           "#ab63fa",
           "#FFA15A",
           "#19d3f3",
           "#FF6692",
           "#B6E880",
           "#FF97FF",
           "#FECB52"
          ],
          "font": {
           "color": "#2a3f5f"
          },
          "geo": {
           "bgcolor": "white",
           "lakecolor": "white",
           "landcolor": "#E5ECF6",
           "showlakes": true,
           "showland": true,
           "subunitcolor": "white"
          },
          "hoverlabel": {
           "align": "left"
          },
          "hovermode": "closest",
          "mapbox": {
           "style": "light"
          },
          "paper_bgcolor": "white",
          "plot_bgcolor": "#E5ECF6",
          "polar": {
           "angularaxis": {
            "gridcolor": "white",
            "linecolor": "white",
            "ticks": ""
           },
           "bgcolor": "#E5ECF6",
           "radialaxis": {
            "gridcolor": "white",
            "linecolor": "white",
            "ticks": ""
           }
          },
          "scene": {
           "xaxis": {
            "backgroundcolor": "#E5ECF6",
            "gridcolor": "white",
            "gridwidth": 2,
            "linecolor": "white",
            "showbackground": true,
            "ticks": "",
            "zerolinecolor": "white"
           },
           "yaxis": {
            "backgroundcolor": "#E5ECF6",
            "gridcolor": "white",
            "gridwidth": 2,
            "linecolor": "white",
            "showbackground": true,
            "ticks": "",
            "zerolinecolor": "white"
           },
           "zaxis": {
            "backgroundcolor": "#E5ECF6",
            "gridcolor": "white",
            "gridwidth": 2,
            "linecolor": "white",
            "showbackground": true,
            "ticks": "",
            "zerolinecolor": "white"
           }
          },
          "shapedefaults": {
           "line": {
            "color": "#2a3f5f"
           }
          },
          "ternary": {
           "aaxis": {
            "gridcolor": "white",
            "linecolor": "white",
            "ticks": ""
           },
           "baxis": {
            "gridcolor": "white",
            "linecolor": "white",
            "ticks": ""
           },
           "bgcolor": "#E5ECF6",
           "caxis": {
            "gridcolor": "white",
            "linecolor": "white",
            "ticks": ""
           }
          },
          "title": {
           "x": 0.05
          },
          "xaxis": {
           "automargin": true,
           "gridcolor": "white",
           "linecolor": "white",
           "ticks": "",
           "title": {
            "standoff": 15
           },
           "zerolinecolor": "white",
           "zerolinewidth": 2
          },
          "yaxis": {
           "automargin": true,
           "gridcolor": "white",
           "linecolor": "white",
           "ticks": "",
           "title": {
            "standoff": 15
           },
           "zerolinecolor": "white",
           "zerolinewidth": 2
          }
         }
        },
        "title": {
         "text": "Distribution of the different genres"
        },
        "xaxis": {
         "anchor": "y",
         "domain": [
          0,
          1
         ],
         "title": {
          "text": "genre"
         }
        },
        "yaxis": {
         "anchor": "x",
         "domain": [
          0,
          1
         ],
         "title": {
          "text": "Amount"
         }
        }
       }
      }
     },
     "metadata": {},
     "output_type": "display_data"
    }
   ],
   "source": [
    "genres_dict = dict()\n",
    "for row in df['genres']:\n",
    "    for g in row.replace(' ', '').split(','):\n",
    "        if g in genres_dict.keys():\n",
    "            genres_dict[g] += 1\n",
    "        else:\n",
    "            genres_dict[g] = 1\n",
    "\n",
    "genres_df = pd.DataFrame({'genre': genres_dict.keys(), 'count': genres_dict.values()})\n",
    "genres_df = genres_df.sort_values('count')\n",
    "px.bar(genres_df, x='genre', y='count',\n",
    "        title='Distribution of the different genres',\n",
    "        labels={\n",
    "            'count': 'Amount',\n",
    "},)"
   ]
  },
  {
   "cell_type": "code",
   "execution_count": 311,
   "metadata": {},
   "outputs": [
    {
     "data": {
      "application/vnd.plotly.v1+json": {
       "config": {
        "plotlyServerURL": "https://plot.ly"
       },
       "data": [
        {
         "alignmentgroup": "True",
         "hovertemplate": "Amount=%{y}<extra></extra>",
         "legendgroup": "",
         "marker": {
          "color": "#636efa"
         },
         "name": "",
         "notched": false,
         "offsetgroup": "",
         "orientation": "v",
         "showlegend": false,
         "type": "box",
         "x0": " ",
         "xaxis": "x",
         "y": [
          10,
          15,
          16,
          68,
          71,
          97,
          196,
          234,
          237,
          241,
          356,
          383,
          384,
          401,
          449,
          687,
          725,
          880,
          905,
          1064,
          1066,
          1110,
          2291
         ],
         "y0": " ",
         "yaxis": "y"
        }
       ],
       "layout": {
        "boxmode": "group",
        "legend": {
         "tracegroupgap": 0
        },
        "template": {
         "data": {
          "bar": [
           {
            "error_x": {
             "color": "#2a3f5f"
            },
            "error_y": {
             "color": "#2a3f5f"
            },
            "marker": {
             "line": {
              "color": "#E5ECF6",
              "width": 0.5
             },
             "pattern": {
              "fillmode": "overlay",
              "size": 10,
              "solidity": 0.2
             }
            },
            "type": "bar"
           }
          ],
          "barpolar": [
           {
            "marker": {
             "line": {
              "color": "#E5ECF6",
              "width": 0.5
             },
             "pattern": {
              "fillmode": "overlay",
              "size": 10,
              "solidity": 0.2
             }
            },
            "type": "barpolar"
           }
          ],
          "carpet": [
           {
            "aaxis": {
             "endlinecolor": "#2a3f5f",
             "gridcolor": "white",
             "linecolor": "white",
             "minorgridcolor": "white",
             "startlinecolor": "#2a3f5f"
            },
            "baxis": {
             "endlinecolor": "#2a3f5f",
             "gridcolor": "white",
             "linecolor": "white",
             "minorgridcolor": "white",
             "startlinecolor": "#2a3f5f"
            },
            "type": "carpet"
           }
          ],
          "choropleth": [
           {
            "colorbar": {
             "outlinewidth": 0,
             "ticks": ""
            },
            "type": "choropleth"
           }
          ],
          "contour": [
           {
            "colorbar": {
             "outlinewidth": 0,
             "ticks": ""
            },
            "colorscale": [
             [
              0,
              "#0d0887"
             ],
             [
              0.1111111111111111,
              "#46039f"
             ],
             [
              0.2222222222222222,
              "#7201a8"
             ],
             [
              0.3333333333333333,
              "#9c179e"
             ],
             [
              0.4444444444444444,
              "#bd3786"
             ],
             [
              0.5555555555555556,
              "#d8576b"
             ],
             [
              0.6666666666666666,
              "#ed7953"
             ],
             [
              0.7777777777777778,
              "#fb9f3a"
             ],
             [
              0.8888888888888888,
              "#fdca26"
             ],
             [
              1,
              "#f0f921"
             ]
            ],
            "type": "contour"
           }
          ],
          "contourcarpet": [
           {
            "colorbar": {
             "outlinewidth": 0,
             "ticks": ""
            },
            "type": "contourcarpet"
           }
          ],
          "heatmap": [
           {
            "colorbar": {
             "outlinewidth": 0,
             "ticks": ""
            },
            "colorscale": [
             [
              0,
              "#0d0887"
             ],
             [
              0.1111111111111111,
              "#46039f"
             ],
             [
              0.2222222222222222,
              "#7201a8"
             ],
             [
              0.3333333333333333,
              "#9c179e"
             ],
             [
              0.4444444444444444,
              "#bd3786"
             ],
             [
              0.5555555555555556,
              "#d8576b"
             ],
             [
              0.6666666666666666,
              "#ed7953"
             ],
             [
              0.7777777777777778,
              "#fb9f3a"
             ],
             [
              0.8888888888888888,
              "#fdca26"
             ],
             [
              1,
              "#f0f921"
             ]
            ],
            "type": "heatmap"
           }
          ],
          "heatmapgl": [
           {
            "colorbar": {
             "outlinewidth": 0,
             "ticks": ""
            },
            "colorscale": [
             [
              0,
              "#0d0887"
             ],
             [
              0.1111111111111111,
              "#46039f"
             ],
             [
              0.2222222222222222,
              "#7201a8"
             ],
             [
              0.3333333333333333,
              "#9c179e"
             ],
             [
              0.4444444444444444,
              "#bd3786"
             ],
             [
              0.5555555555555556,
              "#d8576b"
             ],
             [
              0.6666666666666666,
              "#ed7953"
             ],
             [
              0.7777777777777778,
              "#fb9f3a"
             ],
             [
              0.8888888888888888,
              "#fdca26"
             ],
             [
              1,
              "#f0f921"
             ]
            ],
            "type": "heatmapgl"
           }
          ],
          "histogram": [
           {
            "marker": {
             "pattern": {
              "fillmode": "overlay",
              "size": 10,
              "solidity": 0.2
             }
            },
            "type": "histogram"
           }
          ],
          "histogram2d": [
           {
            "colorbar": {
             "outlinewidth": 0,
             "ticks": ""
            },
            "colorscale": [
             [
              0,
              "#0d0887"
             ],
             [
              0.1111111111111111,
              "#46039f"
             ],
             [
              0.2222222222222222,
              "#7201a8"
             ],
             [
              0.3333333333333333,
              "#9c179e"
             ],
             [
              0.4444444444444444,
              "#bd3786"
             ],
             [
              0.5555555555555556,
              "#d8576b"
             ],
             [
              0.6666666666666666,
              "#ed7953"
             ],
             [
              0.7777777777777778,
              "#fb9f3a"
             ],
             [
              0.8888888888888888,
              "#fdca26"
             ],
             [
              1,
              "#f0f921"
             ]
            ],
            "type": "histogram2d"
           }
          ],
          "histogram2dcontour": [
           {
            "colorbar": {
             "outlinewidth": 0,
             "ticks": ""
            },
            "colorscale": [
             [
              0,
              "#0d0887"
             ],
             [
              0.1111111111111111,
              "#46039f"
             ],
             [
              0.2222222222222222,
              "#7201a8"
             ],
             [
              0.3333333333333333,
              "#9c179e"
             ],
             [
              0.4444444444444444,
              "#bd3786"
             ],
             [
              0.5555555555555556,
              "#d8576b"
             ],
             [
              0.6666666666666666,
              "#ed7953"
             ],
             [
              0.7777777777777778,
              "#fb9f3a"
             ],
             [
              0.8888888888888888,
              "#fdca26"
             ],
             [
              1,
              "#f0f921"
             ]
            ],
            "type": "histogram2dcontour"
           }
          ],
          "mesh3d": [
           {
            "colorbar": {
             "outlinewidth": 0,
             "ticks": ""
            },
            "type": "mesh3d"
           }
          ],
          "parcoords": [
           {
            "line": {
             "colorbar": {
              "outlinewidth": 0,
              "ticks": ""
             }
            },
            "type": "parcoords"
           }
          ],
          "pie": [
           {
            "automargin": true,
            "type": "pie"
           }
          ],
          "scatter": [
           {
            "marker": {
             "colorbar": {
              "outlinewidth": 0,
              "ticks": ""
             }
            },
            "type": "scatter"
           }
          ],
          "scatter3d": [
           {
            "line": {
             "colorbar": {
              "outlinewidth": 0,
              "ticks": ""
             }
            },
            "marker": {
             "colorbar": {
              "outlinewidth": 0,
              "ticks": ""
             }
            },
            "type": "scatter3d"
           }
          ],
          "scattercarpet": [
           {
            "marker": {
             "colorbar": {
              "outlinewidth": 0,
              "ticks": ""
             }
            },
            "type": "scattercarpet"
           }
          ],
          "scattergeo": [
           {
            "marker": {
             "colorbar": {
              "outlinewidth": 0,
              "ticks": ""
             }
            },
            "type": "scattergeo"
           }
          ],
          "scattergl": [
           {
            "marker": {
             "colorbar": {
              "outlinewidth": 0,
              "ticks": ""
             }
            },
            "type": "scattergl"
           }
          ],
          "scattermapbox": [
           {
            "marker": {
             "colorbar": {
              "outlinewidth": 0,
              "ticks": ""
             }
            },
            "type": "scattermapbox"
           }
          ],
          "scatterpolar": [
           {
            "marker": {
             "colorbar": {
              "outlinewidth": 0,
              "ticks": ""
             }
            },
            "type": "scatterpolar"
           }
          ],
          "scatterpolargl": [
           {
            "marker": {
             "colorbar": {
              "outlinewidth": 0,
              "ticks": ""
             }
            },
            "type": "scatterpolargl"
           }
          ],
          "scatterternary": [
           {
            "marker": {
             "colorbar": {
              "outlinewidth": 0,
              "ticks": ""
             }
            },
            "type": "scatterternary"
           }
          ],
          "surface": [
           {
            "colorbar": {
             "outlinewidth": 0,
             "ticks": ""
            },
            "colorscale": [
             [
              0,
              "#0d0887"
             ],
             [
              0.1111111111111111,
              "#46039f"
             ],
             [
              0.2222222222222222,
              "#7201a8"
             ],
             [
              0.3333333333333333,
              "#9c179e"
             ],
             [
              0.4444444444444444,
              "#bd3786"
             ],
             [
              0.5555555555555556,
              "#d8576b"
             ],
             [
              0.6666666666666666,
              "#ed7953"
             ],
             [
              0.7777777777777778,
              "#fb9f3a"
             ],
             [
              0.8888888888888888,
              "#fdca26"
             ],
             [
              1,
              "#f0f921"
             ]
            ],
            "type": "surface"
           }
          ],
          "table": [
           {
            "cells": {
             "fill": {
              "color": "#EBF0F8"
             },
             "line": {
              "color": "white"
             }
            },
            "header": {
             "fill": {
              "color": "#C8D4E3"
             },
             "line": {
              "color": "white"
             }
            },
            "type": "table"
           }
          ]
         },
         "layout": {
          "annotationdefaults": {
           "arrowcolor": "#2a3f5f",
           "arrowhead": 0,
           "arrowwidth": 1
          },
          "autotypenumbers": "strict",
          "coloraxis": {
           "colorbar": {
            "outlinewidth": 0,
            "ticks": ""
           }
          },
          "colorscale": {
           "diverging": [
            [
             0,
             "#8e0152"
            ],
            [
             0.1,
             "#c51b7d"
            ],
            [
             0.2,
             "#de77ae"
            ],
            [
             0.3,
             "#f1b6da"
            ],
            [
             0.4,
             "#fde0ef"
            ],
            [
             0.5,
             "#f7f7f7"
            ],
            [
             0.6,
             "#e6f5d0"
            ],
            [
             0.7,
             "#b8e186"
            ],
            [
             0.8,
             "#7fbc41"
            ],
            [
             0.9,
             "#4d9221"
            ],
            [
             1,
             "#276419"
            ]
           ],
           "sequential": [
            [
             0,
             "#0d0887"
            ],
            [
             0.1111111111111111,
             "#46039f"
            ],
            [
             0.2222222222222222,
             "#7201a8"
            ],
            [
             0.3333333333333333,
             "#9c179e"
            ],
            [
             0.4444444444444444,
             "#bd3786"
            ],
            [
             0.5555555555555556,
             "#d8576b"
            ],
            [
             0.6666666666666666,
             "#ed7953"
            ],
            [
             0.7777777777777778,
             "#fb9f3a"
            ],
            [
             0.8888888888888888,
             "#fdca26"
            ],
            [
             1,
             "#f0f921"
            ]
           ],
           "sequentialminus": [
            [
             0,
             "#0d0887"
            ],
            [
             0.1111111111111111,
             "#46039f"
            ],
            [
             0.2222222222222222,
             "#7201a8"
            ],
            [
             0.3333333333333333,
             "#9c179e"
            ],
            [
             0.4444444444444444,
             "#bd3786"
            ],
            [
             0.5555555555555556,
             "#d8576b"
            ],
            [
             0.6666666666666666,
             "#ed7953"
            ],
            [
             0.7777777777777778,
             "#fb9f3a"
            ],
            [
             0.8888888888888888,
             "#fdca26"
            ],
            [
             1,
             "#f0f921"
            ]
           ]
          },
          "colorway": [
           "#636efa",
           "#EF553B",
           "#00cc96",
           "#ab63fa",
           "#FFA15A",
           "#19d3f3",
           "#FF6692",
           "#B6E880",
           "#FF97FF",
           "#FECB52"
          ],
          "font": {
           "color": "#2a3f5f"
          },
          "geo": {
           "bgcolor": "white",
           "lakecolor": "white",
           "landcolor": "#E5ECF6",
           "showlakes": true,
           "showland": true,
           "subunitcolor": "white"
          },
          "hoverlabel": {
           "align": "left"
          },
          "hovermode": "closest",
          "mapbox": {
           "style": "light"
          },
          "paper_bgcolor": "white",
          "plot_bgcolor": "#E5ECF6",
          "polar": {
           "angularaxis": {
            "gridcolor": "white",
            "linecolor": "white",
            "ticks": ""
           },
           "bgcolor": "#E5ECF6",
           "radialaxis": {
            "gridcolor": "white",
            "linecolor": "white",
            "ticks": ""
           }
          },
          "scene": {
           "xaxis": {
            "backgroundcolor": "#E5ECF6",
            "gridcolor": "white",
            "gridwidth": 2,
            "linecolor": "white",
            "showbackground": true,
            "ticks": "",
            "zerolinecolor": "white"
           },
           "yaxis": {
            "backgroundcolor": "#E5ECF6",
            "gridcolor": "white",
            "gridwidth": 2,
            "linecolor": "white",
            "showbackground": true,
            "ticks": "",
            "zerolinecolor": "white"
           },
           "zaxis": {
            "backgroundcolor": "#E5ECF6",
            "gridcolor": "white",
            "gridwidth": 2,
            "linecolor": "white",
            "showbackground": true,
            "ticks": "",
            "zerolinecolor": "white"
           }
          },
          "shapedefaults": {
           "line": {
            "color": "#2a3f5f"
           }
          },
          "ternary": {
           "aaxis": {
            "gridcolor": "white",
            "linecolor": "white",
            "ticks": ""
           },
           "baxis": {
            "gridcolor": "white",
            "linecolor": "white",
            "ticks": ""
           },
           "bgcolor": "#E5ECF6",
           "caxis": {
            "gridcolor": "white",
            "linecolor": "white",
            "ticks": ""
           }
          },
          "title": {
           "x": 0.05
          },
          "xaxis": {
           "automargin": true,
           "gridcolor": "white",
           "linecolor": "white",
           "ticks": "",
           "title": {
            "standoff": 15
           },
           "zerolinecolor": "white",
           "zerolinewidth": 2
          },
          "yaxis": {
           "automargin": true,
           "gridcolor": "white",
           "linecolor": "white",
           "ticks": "",
           "title": {
            "standoff": 15
           },
           "zerolinecolor": "white",
           "zerolinewidth": 2
          }
         }
        },
        "title": {
         "text": "Boxplot of the genre appearence count distribution"
        },
        "xaxis": {
         "anchor": "y",
         "domain": [
          0,
          1
         ]
        },
        "yaxis": {
         "anchor": "x",
         "domain": [
          0,
          1
         ],
         "title": {
          "text": "Amount"
         }
        }
       }
      }
     },
     "metadata": {},
     "output_type": "display_data"
    }
   ],
   "source": [
    "px.box(genres_df, y='count', title='Boxplot of the genre appearence count distribution',\n",
    "       labels={'count': 'Amount'})"
   ]
  },
  {
   "cell_type": "code",
   "execution_count": 312,
   "metadata": {},
   "outputs": [
    {
     "data": {
      "application/vnd.plotly.v1+json": {
       "config": {
        "plotlyServerURL": "https://plot.ly"
       },
       "data": [
        {
         "alignmentgroup": "True",
         "hovertemplate": "user_rating=mediocre<br>Genre=%{x}<br>Amount=%{y}<extra></extra>",
         "legendgroup": "mediocre",
         "marker": {
          "color": "#636efa",
          "pattern": {
           "shape": ""
          }
         },
         "name": "mediocre",
         "offsetgroup": "mediocre",
         "orientation": "v",
         "showlegend": true,
         "textposition": "auto",
         "type": "bar",
         "x": [
          "Fighting",
          "Hackandslash/Beat'emup",
          "Sport",
          "Arcade",
          "Puzzle",
          "Simulator",
          "Strategy",
          "Platform",
          "Indie",
          "Role-playing(RPG)",
          "Shooter",
          "Adventure"
         ],
         "xaxis": "x",
         "y": [
          13,
          9,
          4,
          6,
          9,
          5,
          12,
          15,
          21,
          20,
          27,
          40
         ],
         "yaxis": "y"
        },
        {
         "alignmentgroup": "True",
         "hovertemplate": "user_rating=bad<br>Genre=%{x}<br>Amount=%{y}<extra></extra>",
         "legendgroup": "bad",
         "marker": {
          "color": "#EF553B",
          "pattern": {
           "shape": ""
          }
         },
         "name": "bad",
         "offsetgroup": "bad",
         "orientation": "v",
         "showlegend": true,
         "textposition": "auto",
         "type": "bar",
         "x": [
          "Fighting",
          "Hackandslash/Beat'emup",
          "Sport",
          "Arcade",
          "Puzzle",
          "Simulator",
          "Strategy",
          "Platform",
          "Indie",
          "Role-playing(RPG)",
          "Shooter",
          "Adventure"
         ],
         "xaxis": "x",
         "y": [
          0,
          0,
          0,
          1,
          1,
          1,
          3,
          2,
          3,
          2,
          5,
          6
         ],
         "yaxis": "y"
        },
        {
         "alignmentgroup": "True",
         "hovertemplate": "user_rating=good<br>Genre=%{x}<br>Amount=%{y}<extra></extra>",
         "legendgroup": "good",
         "marker": {
          "color": "#00cc96",
          "pattern": {
           "shape": ""
          }
         },
         "name": "good",
         "offsetgroup": "good",
         "orientation": "v",
         "showlegend": true,
         "textposition": "auto",
         "type": "bar",
         "x": [
          "Fighting",
          "Hackandslash/Beat'emup",
          "Sport",
          "Arcade",
          "Puzzle",
          "Simulator",
          "Strategy",
          "Platform",
          "Indie",
          "Role-playing(RPG)",
          "Shooter",
          "Adventure"
         ],
         "xaxis": "x",
         "y": [
          205,
          194,
          194,
          219,
          317,
          343,
          381,
          430,
          533,
          409,
          529,
          1029
         ],
         "yaxis": "y"
        },
        {
         "alignmentgroup": "True",
         "hovertemplate": "user_rating=great<br>Genre=%{x}<br>Amount=%{y}<extra></extra>",
         "legendgroup": "great",
         "marker": {
          "color": "#ab63fa",
          "pattern": {
           "shape": ""
          }
         },
         "name": "great",
         "offsetgroup": "great",
         "orientation": "v",
         "showlegend": true,
         "textposition": "auto",
         "type": "bar",
         "x": [
          "Fighting",
          "Hackandslash/Beat'emup",
          "Sport",
          "Arcade",
          "Puzzle",
          "Simulator",
          "Strategy",
          "Platform",
          "Indie",
          "Role-playing(RPG)",
          "Shooter",
          "Adventure"
         ],
         "xaxis": "x",
         "y": [
          165,
          181,
          203,
          223,
          360,
          376,
          484,
          458,
          507,
          635,
          549,
          1216
         ],
         "yaxis": "y"
        }
       ],
       "layout": {
        "barmode": "group",
        "legend": {
         "title": {
          "text": "user_rating"
         },
         "tracegroupgap": 0
        },
        "template": {
         "data": {
          "bar": [
           {
            "error_x": {
             "color": "#2a3f5f"
            },
            "error_y": {
             "color": "#2a3f5f"
            },
            "marker": {
             "line": {
              "color": "#E5ECF6",
              "width": 0.5
             },
             "pattern": {
              "fillmode": "overlay",
              "size": 10,
              "solidity": 0.2
             }
            },
            "type": "bar"
           }
          ],
          "barpolar": [
           {
            "marker": {
             "line": {
              "color": "#E5ECF6",
              "width": 0.5
             },
             "pattern": {
              "fillmode": "overlay",
              "size": 10,
              "solidity": 0.2
             }
            },
            "type": "barpolar"
           }
          ],
          "carpet": [
           {
            "aaxis": {
             "endlinecolor": "#2a3f5f",
             "gridcolor": "white",
             "linecolor": "white",
             "minorgridcolor": "white",
             "startlinecolor": "#2a3f5f"
            },
            "baxis": {
             "endlinecolor": "#2a3f5f",
             "gridcolor": "white",
             "linecolor": "white",
             "minorgridcolor": "white",
             "startlinecolor": "#2a3f5f"
            },
            "type": "carpet"
           }
          ],
          "choropleth": [
           {
            "colorbar": {
             "outlinewidth": 0,
             "ticks": ""
            },
            "type": "choropleth"
           }
          ],
          "contour": [
           {
            "colorbar": {
             "outlinewidth": 0,
             "ticks": ""
            },
            "colorscale": [
             [
              0,
              "#0d0887"
             ],
             [
              0.1111111111111111,
              "#46039f"
             ],
             [
              0.2222222222222222,
              "#7201a8"
             ],
             [
              0.3333333333333333,
              "#9c179e"
             ],
             [
              0.4444444444444444,
              "#bd3786"
             ],
             [
              0.5555555555555556,
              "#d8576b"
             ],
             [
              0.6666666666666666,
              "#ed7953"
             ],
             [
              0.7777777777777778,
              "#fb9f3a"
             ],
             [
              0.8888888888888888,
              "#fdca26"
             ],
             [
              1,
              "#f0f921"
             ]
            ],
            "type": "contour"
           }
          ],
          "contourcarpet": [
           {
            "colorbar": {
             "outlinewidth": 0,
             "ticks": ""
            },
            "type": "contourcarpet"
           }
          ],
          "heatmap": [
           {
            "colorbar": {
             "outlinewidth": 0,
             "ticks": ""
            },
            "colorscale": [
             [
              0,
              "#0d0887"
             ],
             [
              0.1111111111111111,
              "#46039f"
             ],
             [
              0.2222222222222222,
              "#7201a8"
             ],
             [
              0.3333333333333333,
              "#9c179e"
             ],
             [
              0.4444444444444444,
              "#bd3786"
             ],
             [
              0.5555555555555556,
              "#d8576b"
             ],
             [
              0.6666666666666666,
              "#ed7953"
             ],
             [
              0.7777777777777778,
              "#fb9f3a"
             ],
             [
              0.8888888888888888,
              "#fdca26"
             ],
             [
              1,
              "#f0f921"
             ]
            ],
            "type": "heatmap"
           }
          ],
          "heatmapgl": [
           {
            "colorbar": {
             "outlinewidth": 0,
             "ticks": ""
            },
            "colorscale": [
             [
              0,
              "#0d0887"
             ],
             [
              0.1111111111111111,
              "#46039f"
             ],
             [
              0.2222222222222222,
              "#7201a8"
             ],
             [
              0.3333333333333333,
              "#9c179e"
             ],
             [
              0.4444444444444444,
              "#bd3786"
             ],
             [
              0.5555555555555556,
              "#d8576b"
             ],
             [
              0.6666666666666666,
              "#ed7953"
             ],
             [
              0.7777777777777778,
              "#fb9f3a"
             ],
             [
              0.8888888888888888,
              "#fdca26"
             ],
             [
              1,
              "#f0f921"
             ]
            ],
            "type": "heatmapgl"
           }
          ],
          "histogram": [
           {
            "marker": {
             "pattern": {
              "fillmode": "overlay",
              "size": 10,
              "solidity": 0.2
             }
            },
            "type": "histogram"
           }
          ],
          "histogram2d": [
           {
            "colorbar": {
             "outlinewidth": 0,
             "ticks": ""
            },
            "colorscale": [
             [
              0,
              "#0d0887"
             ],
             [
              0.1111111111111111,
              "#46039f"
             ],
             [
              0.2222222222222222,
              "#7201a8"
             ],
             [
              0.3333333333333333,
              "#9c179e"
             ],
             [
              0.4444444444444444,
              "#bd3786"
             ],
             [
              0.5555555555555556,
              "#d8576b"
             ],
             [
              0.6666666666666666,
              "#ed7953"
             ],
             [
              0.7777777777777778,
              "#fb9f3a"
             ],
             [
              0.8888888888888888,
              "#fdca26"
             ],
             [
              1,
              "#f0f921"
             ]
            ],
            "type": "histogram2d"
           }
          ],
          "histogram2dcontour": [
           {
            "colorbar": {
             "outlinewidth": 0,
             "ticks": ""
            },
            "colorscale": [
             [
              0,
              "#0d0887"
             ],
             [
              0.1111111111111111,
              "#46039f"
             ],
             [
              0.2222222222222222,
              "#7201a8"
             ],
             [
              0.3333333333333333,
              "#9c179e"
             ],
             [
              0.4444444444444444,
              "#bd3786"
             ],
             [
              0.5555555555555556,
              "#d8576b"
             ],
             [
              0.6666666666666666,
              "#ed7953"
             ],
             [
              0.7777777777777778,
              "#fb9f3a"
             ],
             [
              0.8888888888888888,
              "#fdca26"
             ],
             [
              1,
              "#f0f921"
             ]
            ],
            "type": "histogram2dcontour"
           }
          ],
          "mesh3d": [
           {
            "colorbar": {
             "outlinewidth": 0,
             "ticks": ""
            },
            "type": "mesh3d"
           }
          ],
          "parcoords": [
           {
            "line": {
             "colorbar": {
              "outlinewidth": 0,
              "ticks": ""
             }
            },
            "type": "parcoords"
           }
          ],
          "pie": [
           {
            "automargin": true,
            "type": "pie"
           }
          ],
          "scatter": [
           {
            "marker": {
             "colorbar": {
              "outlinewidth": 0,
              "ticks": ""
             }
            },
            "type": "scatter"
           }
          ],
          "scatter3d": [
           {
            "line": {
             "colorbar": {
              "outlinewidth": 0,
              "ticks": ""
             }
            },
            "marker": {
             "colorbar": {
              "outlinewidth": 0,
              "ticks": ""
             }
            },
            "type": "scatter3d"
           }
          ],
          "scattercarpet": [
           {
            "marker": {
             "colorbar": {
              "outlinewidth": 0,
              "ticks": ""
             }
            },
            "type": "scattercarpet"
           }
          ],
          "scattergeo": [
           {
            "marker": {
             "colorbar": {
              "outlinewidth": 0,
              "ticks": ""
             }
            },
            "type": "scattergeo"
           }
          ],
          "scattergl": [
           {
            "marker": {
             "colorbar": {
              "outlinewidth": 0,
              "ticks": ""
             }
            },
            "type": "scattergl"
           }
          ],
          "scattermapbox": [
           {
            "marker": {
             "colorbar": {
              "outlinewidth": 0,
              "ticks": ""
             }
            },
            "type": "scattermapbox"
           }
          ],
          "scatterpolar": [
           {
            "marker": {
             "colorbar": {
              "outlinewidth": 0,
              "ticks": ""
             }
            },
            "type": "scatterpolar"
           }
          ],
          "scatterpolargl": [
           {
            "marker": {
             "colorbar": {
              "outlinewidth": 0,
              "ticks": ""
             }
            },
            "type": "scatterpolargl"
           }
          ],
          "scatterternary": [
           {
            "marker": {
             "colorbar": {
              "outlinewidth": 0,
              "ticks": ""
             }
            },
            "type": "scatterternary"
           }
          ],
          "surface": [
           {
            "colorbar": {
             "outlinewidth": 0,
             "ticks": ""
            },
            "colorscale": [
             [
              0,
              "#0d0887"
             ],
             [
              0.1111111111111111,
              "#46039f"
             ],
             [
              0.2222222222222222,
              "#7201a8"
             ],
             [
              0.3333333333333333,
              "#9c179e"
             ],
             [
              0.4444444444444444,
              "#bd3786"
             ],
             [
              0.5555555555555556,
              "#d8576b"
             ],
             [
              0.6666666666666666,
              "#ed7953"
             ],
             [
              0.7777777777777778,
              "#fb9f3a"
             ],
             [
              0.8888888888888888,
              "#fdca26"
             ],
             [
              1,
              "#f0f921"
             ]
            ],
            "type": "surface"
           }
          ],
          "table": [
           {
            "cells": {
             "fill": {
              "color": "#EBF0F8"
             },
             "line": {
              "color": "white"
             }
            },
            "header": {
             "fill": {
              "color": "#C8D4E3"
             },
             "line": {
              "color": "white"
             }
            },
            "type": "table"
           }
          ]
         },
         "layout": {
          "annotationdefaults": {
           "arrowcolor": "#2a3f5f",
           "arrowhead": 0,
           "arrowwidth": 1
          },
          "autotypenumbers": "strict",
          "coloraxis": {
           "colorbar": {
            "outlinewidth": 0,
            "ticks": ""
           }
          },
          "colorscale": {
           "diverging": [
            [
             0,
             "#8e0152"
            ],
            [
             0.1,
             "#c51b7d"
            ],
            [
             0.2,
             "#de77ae"
            ],
            [
             0.3,
             "#f1b6da"
            ],
            [
             0.4,
             "#fde0ef"
            ],
            [
             0.5,
             "#f7f7f7"
            ],
            [
             0.6,
             "#e6f5d0"
            ],
            [
             0.7,
             "#b8e186"
            ],
            [
             0.8,
             "#7fbc41"
            ],
            [
             0.9,
             "#4d9221"
            ],
            [
             1,
             "#276419"
            ]
           ],
           "sequential": [
            [
             0,
             "#0d0887"
            ],
            [
             0.1111111111111111,
             "#46039f"
            ],
            [
             0.2222222222222222,
             "#7201a8"
            ],
            [
             0.3333333333333333,
             "#9c179e"
            ],
            [
             0.4444444444444444,
             "#bd3786"
            ],
            [
             0.5555555555555556,
             "#d8576b"
            ],
            [
             0.6666666666666666,
             "#ed7953"
            ],
            [
             0.7777777777777778,
             "#fb9f3a"
            ],
            [
             0.8888888888888888,
             "#fdca26"
            ],
            [
             1,
             "#f0f921"
            ]
           ],
           "sequentialminus": [
            [
             0,
             "#0d0887"
            ],
            [
             0.1111111111111111,
             "#46039f"
            ],
            [
             0.2222222222222222,
             "#7201a8"
            ],
            [
             0.3333333333333333,
             "#9c179e"
            ],
            [
             0.4444444444444444,
             "#bd3786"
            ],
            [
             0.5555555555555556,
             "#d8576b"
            ],
            [
             0.6666666666666666,
             "#ed7953"
            ],
            [
             0.7777777777777778,
             "#fb9f3a"
            ],
            [
             0.8888888888888888,
             "#fdca26"
            ],
            [
             1,
             "#f0f921"
            ]
           ]
          },
          "colorway": [
           "#636efa",
           "#EF553B",
           "#00cc96",
           "#ab63fa",
           "#FFA15A",
           "#19d3f3",
           "#FF6692",
           "#B6E880",
           "#FF97FF",
           "#FECB52"
          ],
          "font": {
           "color": "#2a3f5f"
          },
          "geo": {
           "bgcolor": "white",
           "lakecolor": "white",
           "landcolor": "#E5ECF6",
           "showlakes": true,
           "showland": true,
           "subunitcolor": "white"
          },
          "hoverlabel": {
           "align": "left"
          },
          "hovermode": "closest",
          "mapbox": {
           "style": "light"
          },
          "paper_bgcolor": "white",
          "plot_bgcolor": "#E5ECF6",
          "polar": {
           "angularaxis": {
            "gridcolor": "white",
            "linecolor": "white",
            "ticks": ""
           },
           "bgcolor": "#E5ECF6",
           "radialaxis": {
            "gridcolor": "white",
            "linecolor": "white",
            "ticks": ""
           }
          },
          "scene": {
           "xaxis": {
            "backgroundcolor": "#E5ECF6",
            "gridcolor": "white",
            "gridwidth": 2,
            "linecolor": "white",
            "showbackground": true,
            "ticks": "",
            "zerolinecolor": "white"
           },
           "yaxis": {
            "backgroundcolor": "#E5ECF6",
            "gridcolor": "white",
            "gridwidth": 2,
            "linecolor": "white",
            "showbackground": true,
            "ticks": "",
            "zerolinecolor": "white"
           },
           "zaxis": {
            "backgroundcolor": "#E5ECF6",
            "gridcolor": "white",
            "gridwidth": 2,
            "linecolor": "white",
            "showbackground": true,
            "ticks": "",
            "zerolinecolor": "white"
           }
          },
          "shapedefaults": {
           "line": {
            "color": "#2a3f5f"
           }
          },
          "ternary": {
           "aaxis": {
            "gridcolor": "white",
            "linecolor": "white",
            "ticks": ""
           },
           "baxis": {
            "gridcolor": "white",
            "linecolor": "white",
            "ticks": ""
           },
           "bgcolor": "#E5ECF6",
           "caxis": {
            "gridcolor": "white",
            "linecolor": "white",
            "ticks": ""
           }
          },
          "title": {
           "x": 0.05
          },
          "xaxis": {
           "automargin": true,
           "gridcolor": "white",
           "linecolor": "white",
           "ticks": "",
           "title": {
            "standoff": 15
           },
           "zerolinecolor": "white",
           "zerolinewidth": 2
          },
          "yaxis": {
           "automargin": true,
           "gridcolor": "white",
           "linecolor": "white",
           "ticks": "",
           "title": {
            "standoff": 15
           },
           "zerolinecolor": "white",
           "zerolinewidth": 2
          }
         }
        },
        "title": {
         "text": "User score distribution of the different genres (log y scale)"
        },
        "xaxis": {
         "anchor": "y",
         "domain": [
          0,
          1
         ],
         "title": {
          "text": "Genre"
         }
        },
        "yaxis": {
         "anchor": "x",
         "domain": [
          0,
          1
         ],
         "title": {
          "text": "Amount"
         },
         "type": "log"
        }
       }
      }
     },
     "metadata": {},
     "output_type": "display_data"
    }
   ],
   "source": [
    "genre_rating_dict = dict()\n",
    "for g in set(genres_dict.keys()):\n",
    "    genre_rating_dict[g] = dict()\n",
    "    for r in ['mediocre', 'bad', 'good', 'great']:\n",
    "        genre_rating_dict[g][r] = 0\n",
    "\n",
    "for row_genre, rating in zip(df['genres'], df['user_rating']):\n",
    "    for g in row_genre.replace(' ', '').split(','):\n",
    "        genre_rating_dict[g][rating] += 1\n",
    "\n",
    "plot_df_rows = []\n",
    "n_genres = 12\n",
    "iterable = reversed(sorted(genre_rating_dict.items(), key=lambda x: sum(x[1].values()), reverse=True)[:n_genres])\n",
    "for genre, ratings_dict in iterable:\n",
    "    for rating, count in ratings_dict.items():\n",
    "        plot_df_rows.append({'genre': genre, 'rating': rating, 'count': count})\n",
    "\n",
    "plot_df = pd.DataFrame(plot_df_rows)\n",
    "\n",
    "fig = px.bar(plot_df, x='genre', y='count', color='rating', barmode='group', log_y=True,\n",
    "             title='User score distribution of the different genres (log y scale)',\n",
    "        labels={\n",
    "            'genre': 'Genre',\n",
    "            'count': 'Amount',\n",
    "            'rating': 'user_rating',\n",
    "        },\n",
    ")\n",
    "fig.show()"
   ]
  },
  {
   "attachments": {},
   "cell_type": "markdown",
   "metadata": {},
   "source": [
    "Companies"
   ]
  },
  {
   "cell_type": "code",
   "execution_count": 313,
   "metadata": {},
   "outputs": [
    {
     "data": {
      "application/vnd.plotly.v1+json": {
       "config": {
        "plotlyServerURL": "https://plot.ly"
       },
       "data": [
        {
         "alignmentgroup": "True",
         "hovertemplate": "company=%{x}<br>Amount=%{y}<extra></extra>",
         "legendgroup": "",
         "marker": {
          "color": "#636efa",
          "pattern": {
           "shape": ""
          }
         },
         "name": "",
         "offsetgroup": "",
         "orientation": "v",
         "showlegend": false,
         "textposition": "auto",
         "type": "bar",
         "x": [
          "VisualConcepts",
          "ThePokémonCompany",
          "CurveDigital",
          "RavenSoftware",
          "SpikeChunSoft",
          "AbstractionGames",
          "NeversoftEntertainment",
          "Natsume",
          "ArcSystemWorks",
          "DimpsCorporation",
          "EpicGames",
          "BlitWorks",
          "Treyarch",
          "SumoDigital",
          "Mindscape",
          "CrystalDynamics",
          "TelltaleGames",
          "KoeiTecmoGames",
          "DaedalicEntertainment",
          "GameFreak",
          "DisneyInteractiveStudios",
          "Beenox",
          "GTInteractive",
          "OriginSystems",
          "IntelligentSystemsCo.",
          "SonyComputerEntertainmentEurope",
          "OceanSoftware",
          "NintendoR&D1",
          "InterplayEntertainment",
          "MidwayGames",
          "ValveCorporation",
          "Square",
          "RockstarGames",
          "SierraOn-Line",
          "Rare",
          "U.S.Gold",
          "SonicTeam",
          "idSoftware",
          "505Games",
          "ParadoxInteractive",
          "HALLaboratory",
          "Infogrames",
          "Team17",
          "Bandai",
          "AcclaimEntertainment",
          "Traveller'sTales",
          "SonyInteractiveEntertainment",
          "2KGames",
          "NintendoEAD",
          "VicariousVisions",
          "SNK",
          "BethesdaSoftworks",
          "FocusHomeInteractive",
          "VirginInteractiveEntertainment(Europe)Ltd.",
          "SierraEntertainment",
          "HudsonSoft",
          "UbisoftMontreal",
          "DeepSilver",
          "DevolverDigital",
          "EASports",
          "MicrosoftStudios",
          "Atlus",
          "Take-TwoInteractive",
          "Ubisoft",
          "WBGames",
          "Namco",
          "Codemasters",
          "FeralInteractive",
          "SegaEnterprises",
          "AspyrMedia",
          "EidosInteractive",
          "EACanada",
          "LucasArts",
          "MicrosoftGameStudios",
          "BandaiNamcoEntertainment",
          "THQ",
          "Inc.",
          "Atari",
          "Ltd.",
          "UbisoftEntertainment",
          "SquareEnix",
          "Inc.(SCEI)",
          "SonyComputerEntertainment",
          "Konami",
          "Activision",
          "Sega",
          "Capcom",
          "ElectronicArts",
          "Nintendo"
         ],
         "xaxis": "x",
         "y": [
          20,
          20,
          20,
          21,
          21,
          21,
          21,
          21,
          21,
          21,
          22,
          22,
          22,
          22,
          23,
          23,
          23,
          23,
          24,
          24,
          24,
          25,
          25,
          25,
          25,
          25,
          26,
          26,
          27,
          28,
          28,
          28,
          29,
          30,
          31,
          33,
          33,
          33,
          33,
          33,
          34,
          35,
          35,
          36,
          36,
          37,
          38,
          39,
          39,
          40,
          41,
          42,
          42,
          42,
          43,
          44,
          46,
          47,
          49,
          49,
          49,
          52,
          53,
          54,
          55,
          55,
          58,
          60,
          61,
          63,
          68,
          69,
          69,
          72,
          79,
          88,
          97,
          102,
          103,
          138,
          140,
          154,
          171,
          179,
          186,
          223,
          248,
          295,
          447
         ],
         "yaxis": "y"
        }
       ],
       "layout": {
        "barmode": "relative",
        "legend": {
         "tracegroupgap": 0
        },
        "template": {
         "data": {
          "bar": [
           {
            "error_x": {
             "color": "#2a3f5f"
            },
            "error_y": {
             "color": "#2a3f5f"
            },
            "marker": {
             "line": {
              "color": "#E5ECF6",
              "width": 0.5
             },
             "pattern": {
              "fillmode": "overlay",
              "size": 10,
              "solidity": 0.2
             }
            },
            "type": "bar"
           }
          ],
          "barpolar": [
           {
            "marker": {
             "line": {
              "color": "#E5ECF6",
              "width": 0.5
             },
             "pattern": {
              "fillmode": "overlay",
              "size": 10,
              "solidity": 0.2
             }
            },
            "type": "barpolar"
           }
          ],
          "carpet": [
           {
            "aaxis": {
             "endlinecolor": "#2a3f5f",
             "gridcolor": "white",
             "linecolor": "white",
             "minorgridcolor": "white",
             "startlinecolor": "#2a3f5f"
            },
            "baxis": {
             "endlinecolor": "#2a3f5f",
             "gridcolor": "white",
             "linecolor": "white",
             "minorgridcolor": "white",
             "startlinecolor": "#2a3f5f"
            },
            "type": "carpet"
           }
          ],
          "choropleth": [
           {
            "colorbar": {
             "outlinewidth": 0,
             "ticks": ""
            },
            "type": "choropleth"
           }
          ],
          "contour": [
           {
            "colorbar": {
             "outlinewidth": 0,
             "ticks": ""
            },
            "colorscale": [
             [
              0,
              "#0d0887"
             ],
             [
              0.1111111111111111,
              "#46039f"
             ],
             [
              0.2222222222222222,
              "#7201a8"
             ],
             [
              0.3333333333333333,
              "#9c179e"
             ],
             [
              0.4444444444444444,
              "#bd3786"
             ],
             [
              0.5555555555555556,
              "#d8576b"
             ],
             [
              0.6666666666666666,
              "#ed7953"
             ],
             [
              0.7777777777777778,
              "#fb9f3a"
             ],
             [
              0.8888888888888888,
              "#fdca26"
             ],
             [
              1,
              "#f0f921"
             ]
            ],
            "type": "contour"
           }
          ],
          "contourcarpet": [
           {
            "colorbar": {
             "outlinewidth": 0,
             "ticks": ""
            },
            "type": "contourcarpet"
           }
          ],
          "heatmap": [
           {
            "colorbar": {
             "outlinewidth": 0,
             "ticks": ""
            },
            "colorscale": [
             [
              0,
              "#0d0887"
             ],
             [
              0.1111111111111111,
              "#46039f"
             ],
             [
              0.2222222222222222,
              "#7201a8"
             ],
             [
              0.3333333333333333,
              "#9c179e"
             ],
             [
              0.4444444444444444,
              "#bd3786"
             ],
             [
              0.5555555555555556,
              "#d8576b"
             ],
             [
              0.6666666666666666,
              "#ed7953"
             ],
             [
              0.7777777777777778,
              "#fb9f3a"
             ],
             [
              0.8888888888888888,
              "#fdca26"
             ],
             [
              1,
              "#f0f921"
             ]
            ],
            "type": "heatmap"
           }
          ],
          "heatmapgl": [
           {
            "colorbar": {
             "outlinewidth": 0,
             "ticks": ""
            },
            "colorscale": [
             [
              0,
              "#0d0887"
             ],
             [
              0.1111111111111111,
              "#46039f"
             ],
             [
              0.2222222222222222,
              "#7201a8"
             ],
             [
              0.3333333333333333,
              "#9c179e"
             ],
             [
              0.4444444444444444,
              "#bd3786"
             ],
             [
              0.5555555555555556,
              "#d8576b"
             ],
             [
              0.6666666666666666,
              "#ed7953"
             ],
             [
              0.7777777777777778,
              "#fb9f3a"
             ],
             [
              0.8888888888888888,
              "#fdca26"
             ],
             [
              1,
              "#f0f921"
             ]
            ],
            "type": "heatmapgl"
           }
          ],
          "histogram": [
           {
            "marker": {
             "pattern": {
              "fillmode": "overlay",
              "size": 10,
              "solidity": 0.2
             }
            },
            "type": "histogram"
           }
          ],
          "histogram2d": [
           {
            "colorbar": {
             "outlinewidth": 0,
             "ticks": ""
            },
            "colorscale": [
             [
              0,
              "#0d0887"
             ],
             [
              0.1111111111111111,
              "#46039f"
             ],
             [
              0.2222222222222222,
              "#7201a8"
             ],
             [
              0.3333333333333333,
              "#9c179e"
             ],
             [
              0.4444444444444444,
              "#bd3786"
             ],
             [
              0.5555555555555556,
              "#d8576b"
             ],
             [
              0.6666666666666666,
              "#ed7953"
             ],
             [
              0.7777777777777778,
              "#fb9f3a"
             ],
             [
              0.8888888888888888,
              "#fdca26"
             ],
             [
              1,
              "#f0f921"
             ]
            ],
            "type": "histogram2d"
           }
          ],
          "histogram2dcontour": [
           {
            "colorbar": {
             "outlinewidth": 0,
             "ticks": ""
            },
            "colorscale": [
             [
              0,
              "#0d0887"
             ],
             [
              0.1111111111111111,
              "#46039f"
             ],
             [
              0.2222222222222222,
              "#7201a8"
             ],
             [
              0.3333333333333333,
              "#9c179e"
             ],
             [
              0.4444444444444444,
              "#bd3786"
             ],
             [
              0.5555555555555556,
              "#d8576b"
             ],
             [
              0.6666666666666666,
              "#ed7953"
             ],
             [
              0.7777777777777778,
              "#fb9f3a"
             ],
             [
              0.8888888888888888,
              "#fdca26"
             ],
             [
              1,
              "#f0f921"
             ]
            ],
            "type": "histogram2dcontour"
           }
          ],
          "mesh3d": [
           {
            "colorbar": {
             "outlinewidth": 0,
             "ticks": ""
            },
            "type": "mesh3d"
           }
          ],
          "parcoords": [
           {
            "line": {
             "colorbar": {
              "outlinewidth": 0,
              "ticks": ""
             }
            },
            "type": "parcoords"
           }
          ],
          "pie": [
           {
            "automargin": true,
            "type": "pie"
           }
          ],
          "scatter": [
           {
            "marker": {
             "colorbar": {
              "outlinewidth": 0,
              "ticks": ""
             }
            },
            "type": "scatter"
           }
          ],
          "scatter3d": [
           {
            "line": {
             "colorbar": {
              "outlinewidth": 0,
              "ticks": ""
             }
            },
            "marker": {
             "colorbar": {
              "outlinewidth": 0,
              "ticks": ""
             }
            },
            "type": "scatter3d"
           }
          ],
          "scattercarpet": [
           {
            "marker": {
             "colorbar": {
              "outlinewidth": 0,
              "ticks": ""
             }
            },
            "type": "scattercarpet"
           }
          ],
          "scattergeo": [
           {
            "marker": {
             "colorbar": {
              "outlinewidth": 0,
              "ticks": ""
             }
            },
            "type": "scattergeo"
           }
          ],
          "scattergl": [
           {
            "marker": {
             "colorbar": {
              "outlinewidth": 0,
              "ticks": ""
             }
            },
            "type": "scattergl"
           }
          ],
          "scattermapbox": [
           {
            "marker": {
             "colorbar": {
              "outlinewidth": 0,
              "ticks": ""
             }
            },
            "type": "scattermapbox"
           }
          ],
          "scatterpolar": [
           {
            "marker": {
             "colorbar": {
              "outlinewidth": 0,
              "ticks": ""
             }
            },
            "type": "scatterpolar"
           }
          ],
          "scatterpolargl": [
           {
            "marker": {
             "colorbar": {
              "outlinewidth": 0,
              "ticks": ""
             }
            },
            "type": "scatterpolargl"
           }
          ],
          "scatterternary": [
           {
            "marker": {
             "colorbar": {
              "outlinewidth": 0,
              "ticks": ""
             }
            },
            "type": "scatterternary"
           }
          ],
          "surface": [
           {
            "colorbar": {
             "outlinewidth": 0,
             "ticks": ""
            },
            "colorscale": [
             [
              0,
              "#0d0887"
             ],
             [
              0.1111111111111111,
              "#46039f"
             ],
             [
              0.2222222222222222,
              "#7201a8"
             ],
             [
              0.3333333333333333,
              "#9c179e"
             ],
             [
              0.4444444444444444,
              "#bd3786"
             ],
             [
              0.5555555555555556,
              "#d8576b"
             ],
             [
              0.6666666666666666,
              "#ed7953"
             ],
             [
              0.7777777777777778,
              "#fb9f3a"
             ],
             [
              0.8888888888888888,
              "#fdca26"
             ],
             [
              1,
              "#f0f921"
             ]
            ],
            "type": "surface"
           }
          ],
          "table": [
           {
            "cells": {
             "fill": {
              "color": "#EBF0F8"
             },
             "line": {
              "color": "white"
             }
            },
            "header": {
             "fill": {
              "color": "#C8D4E3"
             },
             "line": {
              "color": "white"
             }
            },
            "type": "table"
           }
          ]
         },
         "layout": {
          "annotationdefaults": {
           "arrowcolor": "#2a3f5f",
           "arrowhead": 0,
           "arrowwidth": 1
          },
          "autotypenumbers": "strict",
          "coloraxis": {
           "colorbar": {
            "outlinewidth": 0,
            "ticks": ""
           }
          },
          "colorscale": {
           "diverging": [
            [
             0,
             "#8e0152"
            ],
            [
             0.1,
             "#c51b7d"
            ],
            [
             0.2,
             "#de77ae"
            ],
            [
             0.3,
             "#f1b6da"
            ],
            [
             0.4,
             "#fde0ef"
            ],
            [
             0.5,
             "#f7f7f7"
            ],
            [
             0.6,
             "#e6f5d0"
            ],
            [
             0.7,
             "#b8e186"
            ],
            [
             0.8,
             "#7fbc41"
            ],
            [
             0.9,
             "#4d9221"
            ],
            [
             1,
             "#276419"
            ]
           ],
           "sequential": [
            [
             0,
             "#0d0887"
            ],
            [
             0.1111111111111111,
             "#46039f"
            ],
            [
             0.2222222222222222,
             "#7201a8"
            ],
            [
             0.3333333333333333,
             "#9c179e"
            ],
            [
             0.4444444444444444,
             "#bd3786"
            ],
            [
             0.5555555555555556,
             "#d8576b"
            ],
            [
             0.6666666666666666,
             "#ed7953"
            ],
            [
             0.7777777777777778,
             "#fb9f3a"
            ],
            [
             0.8888888888888888,
             "#fdca26"
            ],
            [
             1,
             "#f0f921"
            ]
           ],
           "sequentialminus": [
            [
             0,
             "#0d0887"
            ],
            [
             0.1111111111111111,
             "#46039f"
            ],
            [
             0.2222222222222222,
             "#7201a8"
            ],
            [
             0.3333333333333333,
             "#9c179e"
            ],
            [
             0.4444444444444444,
             "#bd3786"
            ],
            [
             0.5555555555555556,
             "#d8576b"
            ],
            [
             0.6666666666666666,
             "#ed7953"
            ],
            [
             0.7777777777777778,
             "#fb9f3a"
            ],
            [
             0.8888888888888888,
             "#fdca26"
            ],
            [
             1,
             "#f0f921"
            ]
           ]
          },
          "colorway": [
           "#636efa",
           "#EF553B",
           "#00cc96",
           "#ab63fa",
           "#FFA15A",
           "#19d3f3",
           "#FF6692",
           "#B6E880",
           "#FF97FF",
           "#FECB52"
          ],
          "font": {
           "color": "#2a3f5f"
          },
          "geo": {
           "bgcolor": "white",
           "lakecolor": "white",
           "landcolor": "#E5ECF6",
           "showlakes": true,
           "showland": true,
           "subunitcolor": "white"
          },
          "hoverlabel": {
           "align": "left"
          },
          "hovermode": "closest",
          "mapbox": {
           "style": "light"
          },
          "paper_bgcolor": "white",
          "plot_bgcolor": "#E5ECF6",
          "polar": {
           "angularaxis": {
            "gridcolor": "white",
            "linecolor": "white",
            "ticks": ""
           },
           "bgcolor": "#E5ECF6",
           "radialaxis": {
            "gridcolor": "white",
            "linecolor": "white",
            "ticks": ""
           }
          },
          "scene": {
           "xaxis": {
            "backgroundcolor": "#E5ECF6",
            "gridcolor": "white",
            "gridwidth": 2,
            "linecolor": "white",
            "showbackground": true,
            "ticks": "",
            "zerolinecolor": "white"
           },
           "yaxis": {
            "backgroundcolor": "#E5ECF6",
            "gridcolor": "white",
            "gridwidth": 2,
            "linecolor": "white",
            "showbackground": true,
            "ticks": "",
            "zerolinecolor": "white"
           },
           "zaxis": {
            "backgroundcolor": "#E5ECF6",
            "gridcolor": "white",
            "gridwidth": 2,
            "linecolor": "white",
            "showbackground": true,
            "ticks": "",
            "zerolinecolor": "white"
           }
          },
          "shapedefaults": {
           "line": {
            "color": "#2a3f5f"
           }
          },
          "ternary": {
           "aaxis": {
            "gridcolor": "white",
            "linecolor": "white",
            "ticks": ""
           },
           "baxis": {
            "gridcolor": "white",
            "linecolor": "white",
            "ticks": ""
           },
           "bgcolor": "#E5ECF6",
           "caxis": {
            "gridcolor": "white",
            "linecolor": "white",
            "ticks": ""
           }
          },
          "title": {
           "x": 0.05
          },
          "xaxis": {
           "automargin": true,
           "gridcolor": "white",
           "linecolor": "white",
           "ticks": "",
           "title": {
            "standoff": 15
           },
           "zerolinecolor": "white",
           "zerolinewidth": 2
          },
          "yaxis": {
           "automargin": true,
           "gridcolor": "white",
           "linecolor": "white",
           "ticks": "",
           "title": {
            "standoff": 15
           },
           "zerolinecolor": "white",
           "zerolinewidth": 2
          }
         }
        },
        "title": {
         "text": "Distribution of the different companies<br>that appear more than 20 times in the dataset"
        },
        "xaxis": {
         "anchor": "y",
         "domain": [
          0,
          1
         ],
         "title": {
          "text": "company"
         }
        },
        "yaxis": {
         "anchor": "x",
         "domain": [
          0,
          1
         ],
         "title": {
          "text": "Amount"
         }
        }
       }
      }
     },
     "metadata": {},
     "output_type": "display_data"
    }
   ],
   "source": [
    "companies_dict = dict()\n",
    "for row in df['companies']:\n",
    "    for c in row.replace(' ', '').split(','):\n",
    "        if c in companies_dict.keys():\n",
    "            companies_dict[c] += 1\n",
    "        else:\n",
    "            companies_dict[c] = 1\n",
    "\n",
    "companies_df = pd.DataFrame({'company': companies_dict.keys(), 'count': companies_dict.values()})\n",
    "companies_df = companies_df.sort_values('count')\n",
    "px.bar(companies_df[companies_df['count'] >= 20], x='company', y='count',\n",
    "       title='Distribution of the different companies<br>that appear more than 20 times in the dataset',\n",
    "        labels={'count': 'Amount'}\n",
    ")"
   ]
  },
  {
   "cell_type": "code",
   "execution_count": 314,
   "metadata": {},
   "outputs": [
    {
     "data": {
      "application/vnd.plotly.v1+json": {
       "config": {
        "plotlyServerURL": "https://plot.ly"
       },
       "data": [
        {
         "alignmentgroup": "True",
         "hovertemplate": "Amount=%{y}<extra></extra>",
         "legendgroup": "",
         "marker": {
          "color": "#636efa"
         },
         "name": "",
         "notched": false,
         "offsetgroup": "",
         "orientation": "v",
         "showlegend": false,
         "type": "box",
         "x0": " ",
         "xaxis": "x",
         "y": [
          1,
          1,
          1,
          1,
          1,
          1,
          1,
          1,
          1,
          1,
          1,
          1,
          1,
          1,
          1,
          1,
          1,
          1,
          1,
          1,
          1,
          1,
          1,
          1,
          1,
          1,
          1,
          1,
          1,
          1,
          1,
          1,
          1,
          1,
          1,
          1,
          1,
          1,
          1,
          1,
          1,
          1,
          1,
          1,
          1,
          1,
          1,
          1,
          1,
          1,
          1,
          1,
          1,
          1,
          1,
          1,
          1,
          1,
          1,
          1,
          1,
          1,
          1,
          1,
          1,
          1,
          1,
          1,
          1,
          1,
          1,
          1,
          1,
          1,
          1,
          1,
          1,
          1,
          1,
          1,
          1,
          1,
          1,
          1,
          1,
          1,
          1,
          1,
          1,
          1,
          1,
          1,
          1,
          1,
          1,
          1,
          1,
          1,
          1,
          1,
          1,
          1,
          1,
          1,
          1,
          1,
          1,
          1,
          1,
          1,
          1,
          1,
          1,
          1,
          1,
          1,
          1,
          1,
          1,
          1,
          1,
          1,
          1,
          1,
          1,
          1,
          1,
          1,
          1,
          1,
          1,
          1,
          1,
          1,
          1,
          1,
          1,
          1,
          1,
          1,
          1,
          1,
          1,
          1,
          1,
          1,
          1,
          1,
          1,
          1,
          1,
          1,
          1,
          1,
          1,
          1,
          1,
          1,
          1,
          1,
          1,
          1,
          1,
          1,
          1,
          1,
          1,
          1,
          1,
          1,
          1,
          1,
          1,
          1,
          1,
          1,
          1,
          1,
          1,
          1,
          1,
          1,
          1,
          1,
          1,
          1,
          1,
          1,
          1,
          1,
          1,
          1,
          1,
          1,
          1,
          1,
          1,
          1,
          1,
          1,
          1,
          1,
          1,
          1,
          1,
          1,
          1,
          1,
          1,
          1,
          1,
          1,
          1,
          1,
          1,
          1,
          1,
          1,
          1,
          1,
          1,
          1,
          1,
          1,
          1,
          1,
          1,
          1,
          1,
          1,
          1,
          1,
          1,
          1,
          1,
          1,
          1,
          1,
          1,
          1,
          1,
          1,
          1,
          1,
          1,
          1,
          1,
          1,
          1,
          1,
          1,
          1,
          1,
          1,
          1,
          1,
          1,
          1,
          1,
          1,
          1,
          1,
          1,
          1,
          1,
          1,
          1,
          1,
          1,
          1,
          1,
          1,
          1,
          1,
          1,
          1,
          1,
          1,
          1,
          1,
          1,
          1,
          1,
          1,
          1,
          1,
          1,
          1,
          1,
          1,
          1,
          1,
          1,
          1,
          1,
          1,
          1,
          1,
          1,
          1,
          1,
          1,
          1,
          1,
          1,
          1,
          1,
          1,
          1,
          1,
          1,
          1,
          1,
          1,
          1,
          1,
          1,
          1,
          1,
          1,
          1,
          1,
          1,
          1,
          1,
          1,
          1,
          1,
          1,
          1,
          1,
          1,
          1,
          1,
          1,
          1,
          1,
          1,
          1,
          1,
          1,
          1,
          1,
          1,
          1,
          1,
          1,
          1,
          1,
          1,
          1,
          1,
          1,
          1,
          1,
          1,
          1,
          1,
          1,
          1,
          1,
          1,
          1,
          1,
          1,
          1,
          1,
          1,
          1,
          1,
          1,
          1,
          1,
          1,
          1,
          1,
          1,
          1,
          1,
          1,
          1,
          1,
          1,
          1,
          1,
          1,
          1,
          1,
          1,
          1,
          1,
          1,
          1,
          1,
          1,
          1,
          1,
          1,
          1,
          1,
          1,
          1,
          1,
          1,
          1,
          1,
          1,
          1,
          1,
          1,
          1,
          1,
          1,
          1,
          1,
          1,
          1,
          1,
          1,
          1,
          1,
          1,
          1,
          1,
          1,
          1,
          1,
          1,
          1,
          1,
          1,
          1,
          1,
          1,
          1,
          1,
          1,
          1,
          1,
          1,
          1,
          1,
          1,
          1,
          1,
          1,
          1,
          1,
          1,
          1,
          1,
          1,
          1,
          1,
          1,
          1,
          1,
          1,
          1,
          1,
          1,
          1,
          1,
          1,
          1,
          1,
          1,
          1,
          1,
          1,
          1,
          1,
          1,
          1,
          1,
          1,
          1,
          1,
          1,
          1,
          1,
          1,
          1,
          1,
          1,
          1,
          1,
          1,
          1,
          1,
          1,
          1,
          1,
          1,
          1,
          1,
          1,
          1,
          1,
          1,
          1,
          1,
          1,
          1,
          1,
          1,
          1,
          1,
          1,
          1,
          1,
          1,
          1,
          1,
          1,
          1,
          1,
          1,
          1,
          1,
          1,
          1,
          1,
          1,
          1,
          1,
          1,
          1,
          1,
          1,
          1,
          1,
          1,
          1,
          1,
          1,
          1,
          1,
          1,
          1,
          1,
          1,
          1,
          1,
          1,
          1,
          1,
          1,
          1,
          1,
          1,
          1,
          1,
          1,
          1,
          1,
          1,
          1,
          1,
          1,
          1,
          1,
          1,
          1,
          1,
          1,
          1,
          1,
          1,
          1,
          1,
          1,
          1,
          1,
          1,
          1,
          1,
          1,
          1,
          1,
          1,
          1,
          1,
          1,
          1,
          1,
          1,
          1,
          1,
          1,
          1,
          1,
          1,
          1,
          1,
          1,
          1,
          1,
          1,
          1,
          1,
          1,
          1,
          1,
          1,
          1,
          1,
          1,
          1,
          1,
          1,
          1,
          1,
          1,
          1,
          1,
          1,
          1,
          1,
          1,
          1,
          1,
          1,
          1,
          1,
          1,
          1,
          1,
          1,
          1,
          1,
          1,
          1,
          1,
          1,
          1,
          1,
          1,
          1,
          1,
          1,
          1,
          1,
          1,
          1,
          1,
          1,
          1,
          1,
          1,
          1,
          1,
          1,
          1,
          1,
          1,
          1,
          1,
          1,
          1,
          1,
          1,
          1,
          1,
          1,
          1,
          1,
          1,
          1,
          1,
          1,
          1,
          1,
          1,
          1,
          1,
          1,
          1,
          1,
          1,
          1,
          1,
          1,
          1,
          1,
          1,
          1,
          1,
          1,
          1,
          1,
          1,
          1,
          1,
          1,
          1,
          1,
          1,
          1,
          1,
          1,
          1,
          1,
          1,
          1,
          1,
          1,
          1,
          1,
          1,
          1,
          1,
          1,
          1,
          1,
          1,
          1,
          1,
          1,
          1,
          1,
          1,
          1,
          1,
          1,
          1,
          1,
          1,
          1,
          1,
          1,
          1,
          1,
          1,
          1,
          1,
          1,
          1,
          1,
          1,
          1,
          1,
          1,
          1,
          1,
          1,
          1,
          1,
          1,
          1,
          1,
          1,
          1,
          1,
          1,
          1,
          1,
          1,
          1,
          1,
          1,
          1,
          1,
          1,
          1,
          1,
          1,
          1,
          1,
          1,
          1,
          1,
          1,
          1,
          1,
          1,
          1,
          1,
          1,
          1,
          1,
          1,
          1,
          1,
          1,
          1,
          1,
          1,
          1,
          1,
          1,
          1,
          1,
          1,
          1,
          1,
          1,
          1,
          1,
          1,
          1,
          1,
          1,
          1,
          1,
          1,
          1,
          1,
          1,
          1,
          1,
          1,
          1,
          1,
          1,
          1,
          1,
          1,
          1,
          1,
          1,
          1,
          1,
          1,
          1,
          1,
          1,
          1,
          1,
          1,
          1,
          1,
          1,
          1,
          1,
          1,
          1,
          1,
          1,
          1,
          1,
          1,
          1,
          1,
          1,
          1,
          1,
          1,
          1,
          1,
          1,
          1,
          1,
          1,
          1,
          1,
          1,
          1,
          1,
          1,
          1,
          1,
          1,
          1,
          1,
          1,
          1,
          1,
          1,
          1,
          1,
          1,
          1,
          1,
          1,
          1,
          1,
          1,
          1,
          1,
          1,
          1,
          1,
          1,
          1,
          1,
          1,
          1,
          1,
          1,
          1,
          1,
          1,
          1,
          1,
          1,
          1,
          1,
          1,
          1,
          1,
          1,
          1,
          1,
          1,
          1,
          1,
          1,
          1,
          1,
          1,
          1,
          1,
          1,
          1,
          1,
          1,
          1,
          1,
          1,
          1,
          1,
          1,
          1,
          1,
          1,
          1,
          1,
          1,
          1,
          1,
          1,
          1,
          1,
          1,
          1,
          1,
          1,
          1,
          1,
          1,
          1,
          1,
          1,
          1,
          1,
          1,
          1,
          1,
          1,
          1,
          1,
          1,
          1,
          1,
          1,
          1,
          1,
          1,
          1,
          1,
          1,
          1,
          1,
          1,
          1,
          1,
          1,
          1,
          1,
          1,
          1,
          1,
          1,
          1,
          1,
          1,
          1,
          1,
          1,
          1,
          1,
          1,
          1,
          1,
          1,
          1,
          1,
          1,
          1,
          1,
          1,
          1,
          1,
          1,
          1,
          1,
          1,
          1,
          1,
          1,
          1,
          1,
          1,
          1,
          1,
          1,
          1,
          1,
          1,
          1,
          1,
          1,
          1,
          1,
          1,
          1,
          1,
          1,
          1,
          1,
          1,
          1,
          1,
          1,
          1,
          1,
          1,
          1,
          1,
          1,
          1,
          1,
          1,
          1,
          1,
          1,
          1,
          1,
          1,
          1,
          1,
          1,
          1,
          1,
          1,
          1,
          1,
          1,
          1,
          1,
          1,
          1,
          1,
          1,
          1,
          1,
          1,
          1,
          1,
          1,
          1,
          1,
          1,
          1,
          1,
          1,
          1,
          1,
          1,
          1,
          1,
          1,
          1,
          1,
          1,
          1,
          1,
          1,
          1,
          1,
          1,
          1,
          1,
          1,
          1,
          1,
          1,
          1,
          1,
          1,
          1,
          1,
          1,
          1,
          1,
          1,
          1,
          1,
          1,
          1,
          1,
          1,
          1,
          1,
          1,
          1,
          1,
          1,
          1,
          1,
          1,
          1,
          1,
          1,
          1,
          1,
          1,
          1,
          1,
          1,
          1,
          1,
          1,
          1,
          1,
          1,
          1,
          1,
          1,
          1,
          1,
          1,
          1,
          1,
          1,
          1,
          1,
          1,
          1,
          1,
          1,
          1,
          1,
          1,
          1,
          1,
          1,
          1,
          1,
          1,
          1,
          1,
          1,
          1,
          1,
          1,
          1,
          1,
          1,
          1,
          1,
          1,
          1,
          1,
          1,
          1,
          1,
          1,
          1,
          1,
          1,
          1,
          1,
          1,
          1,
          1,
          1,
          1,
          1,
          1,
          1,
          1,
          1,
          1,
          1,
          1,
          1,
          1,
          1,
          1,
          1,
          1,
          1,
          1,
          1,
          1,
          1,
          1,
          1,
          1,
          1,
          1,
          1,
          1,
          1,
          1,
          1,
          1,
          1,
          1,
          1,
          1,
          1,
          1,
          1,
          1,
          1,
          1,
          1,
          1,
          1,
          1,
          1,
          1,
          1,
          1,
          1,
          1,
          1,
          1,
          1,
          1,
          1,
          1,
          1,
          1,
          1,
          1,
          1,
          1,
          1,
          1,
          1,
          1,
          1,
          1,
          1,
          1,
          1,
          1,
          1,
          1,
          1,
          1,
          1,
          1,
          1,
          1,
          1,
          1,
          1,
          1,
          1,
          1,
          1,
          1,
          1,
          1,
          1,
          1,
          1,
          1,
          1,
          1,
          1,
          1,
          1,
          1,
          1,
          1,
          1,
          1,
          1,
          1,
          1,
          1,
          1,
          1,
          1,
          1,
          1,
          1,
          1,
          1,
          1,
          1,
          1,
          1,
          1,
          1,
          1,
          1,
          1,
          1,
          1,
          1,
          1,
          1,
          1,
          1,
          1,
          1,
          1,
          1,
          1,
          1,
          1,
          1,
          1,
          1,
          1,
          1,
          1,
          1,
          1,
          1,
          1,
          1,
          1,
          1,
          1,
          1,
          1,
          1,
          1,
          1,
          1,
          1,
          1,
          1,
          1,
          1,
          1,
          1,
          1,
          1,
          1,
          1,
          1,
          1,
          1,
          1,
          1,
          1,
          1,
          1,
          1,
          1,
          1,
          1,
          1,
          1,
          1,
          1,
          1,
          1,
          1,
          1,
          1,
          1,
          1,
          1,
          1,
          1,
          1,
          1,
          1,
          1,
          1,
          1,
          1,
          1,
          1,
          1,
          1,
          1,
          1,
          1,
          1,
          1,
          1,
          1,
          1,
          1,
          1,
          1,
          1,
          1,
          1,
          1,
          1,
          1,
          1,
          1,
          1,
          1,
          1,
          1,
          1,
          1,
          1,
          1,
          1,
          1,
          1,
          1,
          1,
          1,
          1,
          1,
          1,
          1,
          1,
          1,
          1,
          1,
          1,
          1,
          1,
          1,
          1,
          1,
          1,
          1,
          1,
          1,
          1,
          1,
          1,
          1,
          1,
          1,
          1,
          1,
          1,
          1,
          1,
          1,
          1,
          1,
          1,
          1,
          1,
          1,
          1,
          1,
          1,
          1,
          1,
          1,
          1,
          1,
          1,
          1,
          1,
          1,
          1,
          1,
          1,
          1,
          1,
          1,
          1,
          1,
          1,
          1,
          1,
          1,
          1,
          1,
          1,
          1,
          1,
          1,
          1,
          1,
          1,
          1,
          1,
          1,
          1,
          1,
          1,
          1,
          1,
          1,
          1,
          1,
          1,
          1,
          1,
          1,
          1,
          1,
          1,
          1,
          1,
          1,
          1,
          1,
          1,
          1,
          1,
          1,
          1,
          1,
          1,
          1,
          1,
          1,
          1,
          1,
          1,
          1,
          1,
          1,
          1,
          1,
          1,
          1,
          1,
          1,
          1,
          1,
          1,
          1,
          1,
          1,
          1,
          1,
          1,
          1,
          1,
          1,
          1,
          1,
          1,
          1,
          1,
          1,
          1,
          1,
          1,
          1,
          1,
          1,
          1,
          1,
          1,
          1,
          1,
          1,
          1,
          1,
          1,
          1,
          1,
          1,
          1,
          1,
          1,
          1,
          1,
          1,
          1,
          1,
          1,
          1,
          1,
          1,
          1,
          1,
          1,
          1,
          1,
          1,
          1,
          1,
          1,
          1,
          1,
          1,
          1,
          1,
          1,
          1,
          1,
          1,
          1,
          1,
          1,
          1,
          1,
          1,
          1,
          1,
          1,
          1,
          1,
          1,
          1,
          1,
          1,
          1,
          1,
          1,
          1,
          1,
          1,
          1,
          1,
          1,
          1,
          1,
          1,
          1,
          1,
          1,
          1,
          1,
          1,
          1,
          1,
          1,
          1,
          1,
          1,
          1,
          1,
          1,
          1,
          1,
          1,
          1,
          1,
          1,
          1,
          1,
          1,
          1,
          1,
          1,
          1,
          1,
          1,
          1,
          1,
          1,
          1,
          1,
          1,
          1,
          1,
          1,
          1,
          1,
          1,
          1,
          1,
          1,
          1,
          1,
          1,
          1,
          1,
          1,
          1,
          1,
          1,
          1,
          1,
          1,
          1,
          1,
          1,
          1,
          1,
          1,
          1,
          1,
          1,
          1,
          1,
          1,
          1,
          1,
          1,
          1,
          1,
          1,
          1,
          1,
          1,
          1,
          1,
          1,
          1,
          1,
          1,
          1,
          1,
          1,
          1,
          1,
          1,
          1,
          1,
          1,
          1,
          1,
          1,
          1,
          1,
          1,
          1,
          1,
          1,
          1,
          1,
          1,
          1,
          1,
          1,
          1,
          1,
          1,
          1,
          1,
          1,
          1,
          1,
          1,
          1,
          1,
          1,
          1,
          1,
          1,
          1,
          1,
          1,
          1,
          1,
          1,
          1,
          1,
          1,
          1,
          1,
          1,
          1,
          1,
          1,
          1,
          1,
          1,
          1,
          1,
          1,
          1,
          1,
          1,
          1,
          1,
          1,
          1,
          1,
          1,
          1,
          1,
          1,
          1,
          1,
          1,
          1,
          1,
          1,
          2,
          2,
          2,
          2,
          2,
          2,
          2,
          2,
          2,
          2,
          2,
          2,
          2,
          2,
          2,
          2,
          2,
          2,
          2,
          2,
          2,
          2,
          2,
          2,
          2,
          2,
          2,
          2,
          2,
          2,
          2,
          2,
          2,
          2,
          2,
          2,
          2,
          2,
          2,
          2,
          2,
          2,
          2,
          2,
          2,
          2,
          2,
          2,
          2,
          2,
          2,
          2,
          2,
          2,
          2,
          2,
          2,
          2,
          2,
          2,
          2,
          2,
          2,
          2,
          2,
          2,
          2,
          2,
          2,
          2,
          2,
          2,
          2,
          2,
          2,
          2,
          2,
          2,
          2,
          2,
          2,
          2,
          2,
          2,
          2,
          2,
          2,
          2,
          2,
          2,
          2,
          2,
          2,
          2,
          2,
          2,
          2,
          2,
          2,
          2,
          2,
          2,
          2,
          2,
          2,
          2,
          2,
          2,
          2,
          2,
          2,
          2,
          2,
          2,
          2,
          2,
          2,
          2,
          2,
          2,
          2,
          2,
          2,
          2,
          2,
          2,
          2,
          2,
          2,
          2,
          2,
          2,
          2,
          2,
          2,
          2,
          2,
          2,
          2,
          2,
          2,
          2,
          2,
          2,
          2,
          2,
          2,
          2,
          2,
          2,
          2,
          2,
          2,
          2,
          2,
          2,
          2,
          2,
          2,
          2,
          2,
          2,
          2,
          2,
          2,
          2,
          2,
          2,
          2,
          2,
          2,
          2,
          2,
          2,
          2,
          2,
          2,
          2,
          2,
          2,
          2,
          2,
          2,
          2,
          2,
          2,
          2,
          2,
          2,
          2,
          2,
          2,
          2,
          2,
          2,
          2,
          2,
          2,
          2,
          2,
          2,
          2,
          2,
          2,
          2,
          2,
          2,
          2,
          2,
          2,
          2,
          2,
          2,
          2,
          2,
          2,
          2,
          2,
          2,
          2,
          2,
          2,
          2,
          2,
          2,
          2,
          2,
          2,
          2,
          2,
          2,
          2,
          2,
          2,
          2,
          2,
          2,
          2,
          2,
          2,
          2,
          2,
          2,
          2,
          2,
          2,
          2,
          2,
          2,
          2,
          2,
          2,
          2,
          2,
          2,
          2,
          2,
          2,
          2,
          2,
          2,
          2,
          2,
          2,
          2,
          2,
          2,
          2,
          2,
          2,
          2,
          2,
          2,
          2,
          2,
          2,
          2,
          2,
          2,
          2,
          2,
          2,
          2,
          2,
          2,
          2,
          2,
          2,
          2,
          2,
          2,
          2,
          2,
          2,
          2,
          2,
          2,
          2,
          2,
          2,
          2,
          2,
          2,
          2,
          2,
          2,
          2,
          2,
          2,
          2,
          2,
          2,
          2,
          2,
          2,
          2,
          2,
          2,
          2,
          2,
          2,
          2,
          2,
          2,
          2,
          2,
          2,
          2,
          2,
          2,
          2,
          2,
          2,
          2,
          2,
          2,
          2,
          2,
          2,
          2,
          2,
          2,
          2,
          2,
          2,
          2,
          2,
          2,
          2,
          2,
          2,
          2,
          2,
          2,
          2,
          2,
          2,
          2,
          2,
          2,
          2,
          2,
          2,
          2,
          2,
          2,
          2,
          2,
          2,
          2,
          2,
          2,
          2,
          2,
          2,
          2,
          2,
          2,
          2,
          2,
          2,
          2,
          2,
          2,
          2,
          2,
          2,
          2,
          2,
          2,
          2,
          2,
          2,
          2,
          2,
          2,
          2,
          2,
          2,
          2,
          2,
          2,
          2,
          2,
          2,
          2,
          2,
          2,
          2,
          2,
          2,
          2,
          2,
          2,
          2,
          2,
          2,
          2,
          2,
          2,
          2,
          2,
          2,
          2,
          2,
          2,
          2,
          2,
          2,
          2,
          2,
          2,
          2,
          2,
          2,
          2,
          2,
          2,
          2,
          2,
          2,
          2,
          2,
          2,
          2,
          2,
          2,
          2,
          2,
          2,
          2,
          2,
          2,
          2,
          2,
          2,
          2,
          2,
          2,
          2,
          2,
          2,
          2,
          2,
          2,
          2,
          2,
          2,
          2,
          2,
          2,
          2,
          2,
          2,
          2,
          2,
          2,
          2,
          2,
          2,
          2,
          2,
          2,
          2,
          2,
          2,
          2,
          2,
          2,
          2,
          2,
          2,
          2,
          2,
          2,
          2,
          2,
          2,
          2,
          2,
          2,
          2,
          2,
          2,
          2,
          2,
          2,
          2,
          2,
          2,
          2,
          2,
          2,
          2,
          2,
          2,
          2,
          2,
          2,
          2,
          2,
          2,
          2,
          2,
          2,
          3,
          3,
          3,
          3,
          3,
          3,
          3,
          3,
          3,
          3,
          3,
          3,
          3,
          3,
          3,
          3,
          3,
          3,
          3,
          3,
          3,
          3,
          3,
          3,
          3,
          3,
          3,
          3,
          3,
          3,
          3,
          3,
          3,
          3,
          3,
          3,
          3,
          3,
          3,
          3,
          3,
          3,
          3,
          3,
          3,
          3,
          3,
          3,
          3,
          3,
          3,
          3,
          3,
          3,
          3,
          3,
          3,
          3,
          3,
          3,
          3,
          3,
          3,
          3,
          3,
          3,
          3,
          3,
          3,
          3,
          3,
          3,
          3,
          3,
          3,
          3,
          3,
          3,
          3,
          3,
          3,
          3,
          3,
          3,
          3,
          3,
          3,
          3,
          3,
          3,
          3,
          3,
          3,
          3,
          3,
          3,
          3,
          3,
          3,
          3,
          3,
          3,
          3,
          3,
          3,
          3,
          3,
          3,
          3,
          3,
          3,
          3,
          3,
          3,
          3,
          3,
          3,
          3,
          3,
          3,
          3,
          3,
          3,
          3,
          3,
          3,
          3,
          3,
          3,
          3,
          3,
          3,
          3,
          3,
          3,
          3,
          3,
          3,
          3,
          3,
          3,
          3,
          3,
          3,
          3,
          3,
          3,
          3,
          3,
          3,
          3,
          3,
          3,
          3,
          3,
          3,
          3,
          3,
          3,
          3,
          3,
          3,
          3,
          3,
          3,
          3,
          3,
          3,
          3,
          3,
          3,
          3,
          3,
          3,
          3,
          3,
          3,
          3,
          3,
          3,
          3,
          3,
          3,
          3,
          3,
          3,
          3,
          3,
          3,
          3,
          3,
          3,
          3,
          3,
          3,
          3,
          3,
          3,
          3,
          3,
          3,
          3,
          3,
          3,
          3,
          3,
          3,
          3,
          3,
          3,
          3,
          3,
          3,
          3,
          3,
          3,
          3,
          3,
          3,
          3,
          3,
          3,
          3,
          3,
          3,
          3,
          3,
          3,
          3,
          3,
          3,
          3,
          3,
          3,
          3,
          3,
          3,
          3,
          4,
          4,
          4,
          4,
          4,
          4,
          4,
          4,
          4,
          4,
          4,
          4,
          4,
          4,
          4,
          4,
          4,
          4,
          4,
          4,
          4,
          4,
          4,
          4,
          4,
          4,
          4,
          4,
          4,
          4,
          4,
          4,
          4,
          4,
          4,
          4,
          4,
          4,
          4,
          4,
          4,
          4,
          4,
          4,
          4,
          4,
          4,
          4,
          4,
          4,
          4,
          4,
          4,
          4,
          4,
          4,
          4,
          4,
          4,
          4,
          4,
          4,
          4,
          4,
          4,
          4,
          4,
          4,
          4,
          4,
          4,
          4,
          4,
          4,
          4,
          4,
          4,
          4,
          4,
          4,
          4,
          4,
          4,
          4,
          4,
          4,
          4,
          4,
          4,
          4,
          4,
          4,
          4,
          4,
          4,
          4,
          4,
          4,
          4,
          4,
          4,
          4,
          4,
          4,
          4,
          4,
          4,
          4,
          4,
          4,
          4,
          4,
          4,
          4,
          4,
          4,
          4,
          4,
          4,
          4,
          4,
          4,
          4,
          4,
          4,
          4,
          4,
          4,
          4,
          4,
          4,
          4,
          4,
          4,
          4,
          4,
          4,
          4,
          5,
          5,
          5,
          5,
          5,
          5,
          5,
          5,
          5,
          5,
          5,
          5,
          5,
          5,
          5,
          5,
          5,
          5,
          5,
          5,
          5,
          5,
          5,
          5,
          5,
          5,
          5,
          5,
          5,
          5,
          5,
          5,
          5,
          5,
          5,
          5,
          5,
          5,
          5,
          5,
          5,
          5,
          5,
          5,
          5,
          5,
          5,
          5,
          5,
          5,
          5,
          5,
          5,
          5,
          5,
          5,
          5,
          5,
          5,
          5,
          5,
          5,
          5,
          5,
          5,
          5,
          5,
          5,
          5,
          5,
          5,
          5,
          5,
          5,
          5,
          5,
          5,
          5,
          5,
          5,
          5,
          5,
          5,
          5,
          5,
          5,
          5,
          5,
          5,
          5,
          5,
          5,
          5,
          5,
          5,
          5,
          5,
          5,
          5,
          5,
          5,
          5,
          5,
          5,
          5,
          5,
          5,
          5,
          6,
          6,
          6,
          6,
          6,
          6,
          6,
          6,
          6,
          6,
          6,
          6,
          6,
          6,
          6,
          6,
          6,
          6,
          6,
          6,
          6,
          6,
          6,
          6,
          6,
          6,
          6,
          6,
          6,
          6,
          6,
          6,
          6,
          6,
          6,
          6,
          6,
          6,
          6,
          6,
          6,
          6,
          6,
          6,
          6,
          6,
          6,
          6,
          6,
          6,
          6,
          6,
          6,
          6,
          6,
          6,
          6,
          6,
          6,
          6,
          6,
          6,
          6,
          6,
          7,
          7,
          7,
          7,
          7,
          7,
          7,
          7,
          7,
          7,
          7,
          7,
          7,
          7,
          7,
          7,
          7,
          7,
          7,
          7,
          7,
          7,
          7,
          7,
          7,
          7,
          7,
          7,
          7,
          7,
          7,
          7,
          7,
          7,
          7,
          7,
          7,
          7,
          7,
          7,
          7,
          7,
          7,
          7,
          7,
          7,
          7,
          7,
          7,
          7,
          7,
          7,
          7,
          7,
          7,
          7,
          7,
          8,
          8,
          8,
          8,
          8,
          8,
          8,
          8,
          8,
          8,
          8,
          8,
          8,
          8,
          8,
          8,
          8,
          8,
          8,
          8,
          8,
          8,
          8,
          8,
          8,
          8,
          8,
          8,
          8,
          8,
          8,
          8,
          8,
          8,
          8,
          8,
          8,
          8,
          8,
          8,
          8,
          9,
          9,
          9,
          9,
          9,
          9,
          9,
          9,
          9,
          9,
          9,
          9,
          9,
          9,
          9,
          9,
          9,
          9,
          9,
          9,
          9,
          9,
          9,
          9,
          9,
          9,
          9,
          9,
          9,
          9,
          9,
          9,
          9,
          10,
          10,
          10,
          10,
          10,
          10,
          10,
          10,
          10,
          10,
          10,
          10,
          10,
          10,
          10,
          10,
          10,
          10,
          10,
          10,
          10,
          10,
          10,
          10,
          10,
          10,
          10,
          10,
          10,
          10,
          10,
          11,
          11,
          11,
          11,
          11,
          11,
          11,
          11,
          11,
          11,
          11,
          11,
          11,
          11,
          11,
          11,
          11,
          12,
          12,
          12,
          12,
          12,
          12,
          12,
          12,
          12,
          12,
          12,
          12,
          12,
          12,
          12,
          12,
          12,
          12,
          12,
          12,
          12,
          12,
          12,
          13,
          13,
          13,
          13,
          13,
          13,
          13,
          13,
          13,
          13,
          14,
          14,
          14,
          14,
          14,
          14,
          14,
          14,
          14,
          14,
          14,
          14,
          14,
          15,
          15,
          15,
          15,
          15,
          15,
          15,
          15,
          15,
          15,
          15,
          15,
          16,
          16,
          16,
          16,
          16,
          16,
          16,
          16,
          16,
          16,
          16,
          17,
          17,
          17,
          17,
          17,
          17,
          17,
          17,
          17,
          17,
          17,
          18,
          18,
          18,
          18,
          18,
          18,
          18,
          18,
          18,
          18,
          18,
          18,
          18,
          18,
          18,
          18,
          19,
          19,
          19,
          19,
          19,
          19,
          19,
          20,
          20,
          20,
          21,
          21,
          21,
          21,
          21,
          21,
          21,
          22,
          22,
          22,
          22,
          23,
          23,
          23,
          23,
          24,
          24,
          24,
          25,
          25,
          25,
          25,
          25,
          26,
          26,
          27,
          28,
          28,
          28,
          29,
          30,
          31,
          33,
          33,
          33,
          33,
          33,
          34,
          35,
          35,
          36,
          36,
          37,
          38,
          39,
          39,
          40,
          41,
          42,
          42,
          42,
          43,
          44,
          46,
          47,
          49,
          49,
          49,
          52,
          53,
          54,
          55,
          55,
          58,
          60,
          61,
          63,
          68,
          69,
          69,
          72,
          79,
          88,
          97,
          102,
          103,
          138,
          140,
          154,
          171,
          179,
          186,
          223,
          248,
          295,
          447
         ],
         "y0": " ",
         "yaxis": "y"
        }
       ],
       "layout": {
        "boxmode": "group",
        "legend": {
         "tracegroupgap": 0
        },
        "template": {
         "data": {
          "bar": [
           {
            "error_x": {
             "color": "#2a3f5f"
            },
            "error_y": {
             "color": "#2a3f5f"
            },
            "marker": {
             "line": {
              "color": "#E5ECF6",
              "width": 0.5
             },
             "pattern": {
              "fillmode": "overlay",
              "size": 10,
              "solidity": 0.2
             }
            },
            "type": "bar"
           }
          ],
          "barpolar": [
           {
            "marker": {
             "line": {
              "color": "#E5ECF6",
              "width": 0.5
             },
             "pattern": {
              "fillmode": "overlay",
              "size": 10,
              "solidity": 0.2
             }
            },
            "type": "barpolar"
           }
          ],
          "carpet": [
           {
            "aaxis": {
             "endlinecolor": "#2a3f5f",
             "gridcolor": "white",
             "linecolor": "white",
             "minorgridcolor": "white",
             "startlinecolor": "#2a3f5f"
            },
            "baxis": {
             "endlinecolor": "#2a3f5f",
             "gridcolor": "white",
             "linecolor": "white",
             "minorgridcolor": "white",
             "startlinecolor": "#2a3f5f"
            },
            "type": "carpet"
           }
          ],
          "choropleth": [
           {
            "colorbar": {
             "outlinewidth": 0,
             "ticks": ""
            },
            "type": "choropleth"
           }
          ],
          "contour": [
           {
            "colorbar": {
             "outlinewidth": 0,
             "ticks": ""
            },
            "colorscale": [
             [
              0,
              "#0d0887"
             ],
             [
              0.1111111111111111,
              "#46039f"
             ],
             [
              0.2222222222222222,
              "#7201a8"
             ],
             [
              0.3333333333333333,
              "#9c179e"
             ],
             [
              0.4444444444444444,
              "#bd3786"
             ],
             [
              0.5555555555555556,
              "#d8576b"
             ],
             [
              0.6666666666666666,
              "#ed7953"
             ],
             [
              0.7777777777777778,
              "#fb9f3a"
             ],
             [
              0.8888888888888888,
              "#fdca26"
             ],
             [
              1,
              "#f0f921"
             ]
            ],
            "type": "contour"
           }
          ],
          "contourcarpet": [
           {
            "colorbar": {
             "outlinewidth": 0,
             "ticks": ""
            },
            "type": "contourcarpet"
           }
          ],
          "heatmap": [
           {
            "colorbar": {
             "outlinewidth": 0,
             "ticks": ""
            },
            "colorscale": [
             [
              0,
              "#0d0887"
             ],
             [
              0.1111111111111111,
              "#46039f"
             ],
             [
              0.2222222222222222,
              "#7201a8"
             ],
             [
              0.3333333333333333,
              "#9c179e"
             ],
             [
              0.4444444444444444,
              "#bd3786"
             ],
             [
              0.5555555555555556,
              "#d8576b"
             ],
             [
              0.6666666666666666,
              "#ed7953"
             ],
             [
              0.7777777777777778,
              "#fb9f3a"
             ],
             [
              0.8888888888888888,
              "#fdca26"
             ],
             [
              1,
              "#f0f921"
             ]
            ],
            "type": "heatmap"
           }
          ],
          "heatmapgl": [
           {
            "colorbar": {
             "outlinewidth": 0,
             "ticks": ""
            },
            "colorscale": [
             [
              0,
              "#0d0887"
             ],
             [
              0.1111111111111111,
              "#46039f"
             ],
             [
              0.2222222222222222,
              "#7201a8"
             ],
             [
              0.3333333333333333,
              "#9c179e"
             ],
             [
              0.4444444444444444,
              "#bd3786"
             ],
             [
              0.5555555555555556,
              "#d8576b"
             ],
             [
              0.6666666666666666,
              "#ed7953"
             ],
             [
              0.7777777777777778,
              "#fb9f3a"
             ],
             [
              0.8888888888888888,
              "#fdca26"
             ],
             [
              1,
              "#f0f921"
             ]
            ],
            "type": "heatmapgl"
           }
          ],
          "histogram": [
           {
            "marker": {
             "pattern": {
              "fillmode": "overlay",
              "size": 10,
              "solidity": 0.2
             }
            },
            "type": "histogram"
           }
          ],
          "histogram2d": [
           {
            "colorbar": {
             "outlinewidth": 0,
             "ticks": ""
            },
            "colorscale": [
             [
              0,
              "#0d0887"
             ],
             [
              0.1111111111111111,
              "#46039f"
             ],
             [
              0.2222222222222222,
              "#7201a8"
             ],
             [
              0.3333333333333333,
              "#9c179e"
             ],
             [
              0.4444444444444444,
              "#bd3786"
             ],
             [
              0.5555555555555556,
              "#d8576b"
             ],
             [
              0.6666666666666666,
              "#ed7953"
             ],
             [
              0.7777777777777778,
              "#fb9f3a"
             ],
             [
              0.8888888888888888,
              "#fdca26"
             ],
             [
              1,
              "#f0f921"
             ]
            ],
            "type": "histogram2d"
           }
          ],
          "histogram2dcontour": [
           {
            "colorbar": {
             "outlinewidth": 0,
             "ticks": ""
            },
            "colorscale": [
             [
              0,
              "#0d0887"
             ],
             [
              0.1111111111111111,
              "#46039f"
             ],
             [
              0.2222222222222222,
              "#7201a8"
             ],
             [
              0.3333333333333333,
              "#9c179e"
             ],
             [
              0.4444444444444444,
              "#bd3786"
             ],
             [
              0.5555555555555556,
              "#d8576b"
             ],
             [
              0.6666666666666666,
              "#ed7953"
             ],
             [
              0.7777777777777778,
              "#fb9f3a"
             ],
             [
              0.8888888888888888,
              "#fdca26"
             ],
             [
              1,
              "#f0f921"
             ]
            ],
            "type": "histogram2dcontour"
           }
          ],
          "mesh3d": [
           {
            "colorbar": {
             "outlinewidth": 0,
             "ticks": ""
            },
            "type": "mesh3d"
           }
          ],
          "parcoords": [
           {
            "line": {
             "colorbar": {
              "outlinewidth": 0,
              "ticks": ""
             }
            },
            "type": "parcoords"
           }
          ],
          "pie": [
           {
            "automargin": true,
            "type": "pie"
           }
          ],
          "scatter": [
           {
            "marker": {
             "colorbar": {
              "outlinewidth": 0,
              "ticks": ""
             }
            },
            "type": "scatter"
           }
          ],
          "scatter3d": [
           {
            "line": {
             "colorbar": {
              "outlinewidth": 0,
              "ticks": ""
             }
            },
            "marker": {
             "colorbar": {
              "outlinewidth": 0,
              "ticks": ""
             }
            },
            "type": "scatter3d"
           }
          ],
          "scattercarpet": [
           {
            "marker": {
             "colorbar": {
              "outlinewidth": 0,
              "ticks": ""
             }
            },
            "type": "scattercarpet"
           }
          ],
          "scattergeo": [
           {
            "marker": {
             "colorbar": {
              "outlinewidth": 0,
              "ticks": ""
             }
            },
            "type": "scattergeo"
           }
          ],
          "scattergl": [
           {
            "marker": {
             "colorbar": {
              "outlinewidth": 0,
              "ticks": ""
             }
            },
            "type": "scattergl"
           }
          ],
          "scattermapbox": [
           {
            "marker": {
             "colorbar": {
              "outlinewidth": 0,
              "ticks": ""
             }
            },
            "type": "scattermapbox"
           }
          ],
          "scatterpolar": [
           {
            "marker": {
             "colorbar": {
              "outlinewidth": 0,
              "ticks": ""
             }
            },
            "type": "scatterpolar"
           }
          ],
          "scatterpolargl": [
           {
            "marker": {
             "colorbar": {
              "outlinewidth": 0,
              "ticks": ""
             }
            },
            "type": "scatterpolargl"
           }
          ],
          "scatterternary": [
           {
            "marker": {
             "colorbar": {
              "outlinewidth": 0,
              "ticks": ""
             }
            },
            "type": "scatterternary"
           }
          ],
          "surface": [
           {
            "colorbar": {
             "outlinewidth": 0,
             "ticks": ""
            },
            "colorscale": [
             [
              0,
              "#0d0887"
             ],
             [
              0.1111111111111111,
              "#46039f"
             ],
             [
              0.2222222222222222,
              "#7201a8"
             ],
             [
              0.3333333333333333,
              "#9c179e"
             ],
             [
              0.4444444444444444,
              "#bd3786"
             ],
             [
              0.5555555555555556,
              "#d8576b"
             ],
             [
              0.6666666666666666,
              "#ed7953"
             ],
             [
              0.7777777777777778,
              "#fb9f3a"
             ],
             [
              0.8888888888888888,
              "#fdca26"
             ],
             [
              1,
              "#f0f921"
             ]
            ],
            "type": "surface"
           }
          ],
          "table": [
           {
            "cells": {
             "fill": {
              "color": "#EBF0F8"
             },
             "line": {
              "color": "white"
             }
            },
            "header": {
             "fill": {
              "color": "#C8D4E3"
             },
             "line": {
              "color": "white"
             }
            },
            "type": "table"
           }
          ]
         },
         "layout": {
          "annotationdefaults": {
           "arrowcolor": "#2a3f5f",
           "arrowhead": 0,
           "arrowwidth": 1
          },
          "autotypenumbers": "strict",
          "coloraxis": {
           "colorbar": {
            "outlinewidth": 0,
            "ticks": ""
           }
          },
          "colorscale": {
           "diverging": [
            [
             0,
             "#8e0152"
            ],
            [
             0.1,
             "#c51b7d"
            ],
            [
             0.2,
             "#de77ae"
            ],
            [
             0.3,
             "#f1b6da"
            ],
            [
             0.4,
             "#fde0ef"
            ],
            [
             0.5,
             "#f7f7f7"
            ],
            [
             0.6,
             "#e6f5d0"
            ],
            [
             0.7,
             "#b8e186"
            ],
            [
             0.8,
             "#7fbc41"
            ],
            [
             0.9,
             "#4d9221"
            ],
            [
             1,
             "#276419"
            ]
           ],
           "sequential": [
            [
             0,
             "#0d0887"
            ],
            [
             0.1111111111111111,
             "#46039f"
            ],
            [
             0.2222222222222222,
             "#7201a8"
            ],
            [
             0.3333333333333333,
             "#9c179e"
            ],
            [
             0.4444444444444444,
             "#bd3786"
            ],
            [
             0.5555555555555556,
             "#d8576b"
            ],
            [
             0.6666666666666666,
             "#ed7953"
            ],
            [
             0.7777777777777778,
             "#fb9f3a"
            ],
            [
             0.8888888888888888,
             "#fdca26"
            ],
            [
             1,
             "#f0f921"
            ]
           ],
           "sequentialminus": [
            [
             0,
             "#0d0887"
            ],
            [
             0.1111111111111111,
             "#46039f"
            ],
            [
             0.2222222222222222,
             "#7201a8"
            ],
            [
             0.3333333333333333,
             "#9c179e"
            ],
            [
             0.4444444444444444,
             "#bd3786"
            ],
            [
             0.5555555555555556,
             "#d8576b"
            ],
            [
             0.6666666666666666,
             "#ed7953"
            ],
            [
             0.7777777777777778,
             "#fb9f3a"
            ],
            [
             0.8888888888888888,
             "#fdca26"
            ],
            [
             1,
             "#f0f921"
            ]
           ]
          },
          "colorway": [
           "#636efa",
           "#EF553B",
           "#00cc96",
           "#ab63fa",
           "#FFA15A",
           "#19d3f3",
           "#FF6692",
           "#B6E880",
           "#FF97FF",
           "#FECB52"
          ],
          "font": {
           "color": "#2a3f5f"
          },
          "geo": {
           "bgcolor": "white",
           "lakecolor": "white",
           "landcolor": "#E5ECF6",
           "showlakes": true,
           "showland": true,
           "subunitcolor": "white"
          },
          "hoverlabel": {
           "align": "left"
          },
          "hovermode": "closest",
          "mapbox": {
           "style": "light"
          },
          "paper_bgcolor": "white",
          "plot_bgcolor": "#E5ECF6",
          "polar": {
           "angularaxis": {
            "gridcolor": "white",
            "linecolor": "white",
            "ticks": ""
           },
           "bgcolor": "#E5ECF6",
           "radialaxis": {
            "gridcolor": "white",
            "linecolor": "white",
            "ticks": ""
           }
          },
          "scene": {
           "xaxis": {
            "backgroundcolor": "#E5ECF6",
            "gridcolor": "white",
            "gridwidth": 2,
            "linecolor": "white",
            "showbackground": true,
            "ticks": "",
            "zerolinecolor": "white"
           },
           "yaxis": {
            "backgroundcolor": "#E5ECF6",
            "gridcolor": "white",
            "gridwidth": 2,
            "linecolor": "white",
            "showbackground": true,
            "ticks": "",
            "zerolinecolor": "white"
           },
           "zaxis": {
            "backgroundcolor": "#E5ECF6",
            "gridcolor": "white",
            "gridwidth": 2,
            "linecolor": "white",
            "showbackground": true,
            "ticks": "",
            "zerolinecolor": "white"
           }
          },
          "shapedefaults": {
           "line": {
            "color": "#2a3f5f"
           }
          },
          "ternary": {
           "aaxis": {
            "gridcolor": "white",
            "linecolor": "white",
            "ticks": ""
           },
           "baxis": {
            "gridcolor": "white",
            "linecolor": "white",
            "ticks": ""
           },
           "bgcolor": "#E5ECF6",
           "caxis": {
            "gridcolor": "white",
            "linecolor": "white",
            "ticks": ""
           }
          },
          "title": {
           "x": 0.05
          },
          "xaxis": {
           "automargin": true,
           "gridcolor": "white",
           "linecolor": "white",
           "ticks": "",
           "title": {
            "standoff": 15
           },
           "zerolinecolor": "white",
           "zerolinewidth": 2
          },
          "yaxis": {
           "automargin": true,
           "gridcolor": "white",
           "linecolor": "white",
           "ticks": "",
           "title": {
            "standoff": 15
           },
           "zerolinecolor": "white",
           "zerolinewidth": 2
          }
         }
        },
        "title": {
         "text": "Boxplot of the company appearence count distribution"
        },
        "xaxis": {
         "anchor": "y",
         "domain": [
          0,
          1
         ]
        },
        "yaxis": {
         "anchor": "x",
         "domain": [
          0,
          1
         ],
         "title": {
          "text": "Amount"
         },
         "type": "log"
        }
       }
      }
     },
     "metadata": {},
     "output_type": "display_data"
    }
   ],
   "source": [
    "px.box(companies_df, y='count', log_y=True, \n",
    "       title='Boxplot of the company appearence count distribution', labels={'count': 'Amount'})"
   ]
  },
  {
   "cell_type": "code",
   "execution_count": 315,
   "metadata": {},
   "outputs": [],
   "source": [
    "company_noise = ['Inc.', 'Ltd.', 'Inc.(SCEI)']"
   ]
  },
  {
   "cell_type": "code",
   "execution_count": 316,
   "metadata": {},
   "outputs": [
    {
     "data": {
      "application/vnd.plotly.v1+json": {
       "config": {
        "plotlyServerURL": "https://plot.ly"
       },
       "data": [
        {
         "alignmentgroup": "True",
         "hovertemplate": "user_rating=mediocre<br>company=%{x}<br>Amount=%{y}<extra></extra>",
         "legendgroup": "mediocre",
         "marker": {
          "color": "#636efa",
          "pattern": {
           "shape": ""
          }
         },
         "name": "mediocre",
         "offsetgroup": "mediocre",
         "orientation": "v",
         "showlegend": true,
         "textposition": "auto",
         "type": "bar",
         "x": [
          "SquareEnix",
          "SonyComputerEntertainment",
          "Konami",
          "Activision",
          "Sega",
          "Capcom",
          "ElectronicArts",
          "Nintendo"
         ],
         "xaxis": "x",
         "y": [
          1,
          0,
          4,
          3,
          4,
          4,
          5,
          2
         ],
         "yaxis": "y"
        },
        {
         "alignmentgroup": "True",
         "hovertemplate": "user_rating=bad<br>company=%{x}<br>Amount=%{y}<extra></extra>",
         "legendgroup": "bad",
         "marker": {
          "color": "#EF553B",
          "pattern": {
           "shape": ""
          }
         },
         "name": "bad",
         "offsetgroup": "bad",
         "orientation": "v",
         "showlegend": true,
         "textposition": "auto",
         "type": "bar",
         "x": [
          "SquareEnix",
          "SonyComputerEntertainment",
          "Konami",
          "Activision",
          "Sega",
          "Capcom",
          "ElectronicArts",
          "Nintendo"
         ],
         "xaxis": "x",
         "y": [
          0,
          0,
          0,
          0,
          1,
          0,
          0,
          1
         ],
         "yaxis": "y"
        },
        {
         "alignmentgroup": "True",
         "hovertemplate": "user_rating=good<br>company=%{x}<br>Amount=%{y}<extra></extra>",
         "legendgroup": "good",
         "marker": {
          "color": "#00cc96",
          "pattern": {
           "shape": ""
          }
         },
         "name": "good",
         "offsetgroup": "good",
         "orientation": "v",
         "showlegend": true,
         "textposition": "auto",
         "type": "bar",
         "x": [
          "SquareEnix",
          "SonyComputerEntertainment",
          "Konami",
          "Activision",
          "Sega",
          "Capcom",
          "ElectronicArts",
          "Nintendo"
         ],
         "xaxis": "x",
         "y": [
          58,
          57,
          92,
          100,
          96,
          82,
          140,
          179
         ],
         "yaxis": "y"
        },
        {
         "alignmentgroup": "True",
         "hovertemplate": "user_rating=great<br>company=%{x}<br>Amount=%{y}<extra></extra>",
         "legendgroup": "great",
         "marker": {
          "color": "#ab63fa",
          "pattern": {
           "shape": ""
          }
         },
         "name": "great",
         "offsetgroup": "great",
         "orientation": "v",
         "showlegend": true,
         "textposition": "auto",
         "type": "bar",
         "x": [
          "SquareEnix",
          "SonyComputerEntertainment",
          "Konami",
          "Activision",
          "Sega",
          "Capcom",
          "ElectronicArts",
          "Nintendo"
         ],
         "xaxis": "x",
         "y": [
          81,
          114,
          83,
          83,
          122,
          162,
          150,
          265
         ],
         "yaxis": "y"
        }
       ],
       "layout": {
        "barmode": "group",
        "legend": {
         "title": {
          "text": "user_rating"
         },
         "tracegroupgap": 0
        },
        "template": {
         "data": {
          "bar": [
           {
            "error_x": {
             "color": "#2a3f5f"
            },
            "error_y": {
             "color": "#2a3f5f"
            },
            "marker": {
             "line": {
              "color": "#E5ECF6",
              "width": 0.5
             },
             "pattern": {
              "fillmode": "overlay",
              "size": 10,
              "solidity": 0.2
             }
            },
            "type": "bar"
           }
          ],
          "barpolar": [
           {
            "marker": {
             "line": {
              "color": "#E5ECF6",
              "width": 0.5
             },
             "pattern": {
              "fillmode": "overlay",
              "size": 10,
              "solidity": 0.2
             }
            },
            "type": "barpolar"
           }
          ],
          "carpet": [
           {
            "aaxis": {
             "endlinecolor": "#2a3f5f",
             "gridcolor": "white",
             "linecolor": "white",
             "minorgridcolor": "white",
             "startlinecolor": "#2a3f5f"
            },
            "baxis": {
             "endlinecolor": "#2a3f5f",
             "gridcolor": "white",
             "linecolor": "white",
             "minorgridcolor": "white",
             "startlinecolor": "#2a3f5f"
            },
            "type": "carpet"
           }
          ],
          "choropleth": [
           {
            "colorbar": {
             "outlinewidth": 0,
             "ticks": ""
            },
            "type": "choropleth"
           }
          ],
          "contour": [
           {
            "colorbar": {
             "outlinewidth": 0,
             "ticks": ""
            },
            "colorscale": [
             [
              0,
              "#0d0887"
             ],
             [
              0.1111111111111111,
              "#46039f"
             ],
             [
              0.2222222222222222,
              "#7201a8"
             ],
             [
              0.3333333333333333,
              "#9c179e"
             ],
             [
              0.4444444444444444,
              "#bd3786"
             ],
             [
              0.5555555555555556,
              "#d8576b"
             ],
             [
              0.6666666666666666,
              "#ed7953"
             ],
             [
              0.7777777777777778,
              "#fb9f3a"
             ],
             [
              0.8888888888888888,
              "#fdca26"
             ],
             [
              1,
              "#f0f921"
             ]
            ],
            "type": "contour"
           }
          ],
          "contourcarpet": [
           {
            "colorbar": {
             "outlinewidth": 0,
             "ticks": ""
            },
            "type": "contourcarpet"
           }
          ],
          "heatmap": [
           {
            "colorbar": {
             "outlinewidth": 0,
             "ticks": ""
            },
            "colorscale": [
             [
              0,
              "#0d0887"
             ],
             [
              0.1111111111111111,
              "#46039f"
             ],
             [
              0.2222222222222222,
              "#7201a8"
             ],
             [
              0.3333333333333333,
              "#9c179e"
             ],
             [
              0.4444444444444444,
              "#bd3786"
             ],
             [
              0.5555555555555556,
              "#d8576b"
             ],
             [
              0.6666666666666666,
              "#ed7953"
             ],
             [
              0.7777777777777778,
              "#fb9f3a"
             ],
             [
              0.8888888888888888,
              "#fdca26"
             ],
             [
              1,
              "#f0f921"
             ]
            ],
            "type": "heatmap"
           }
          ],
          "heatmapgl": [
           {
            "colorbar": {
             "outlinewidth": 0,
             "ticks": ""
            },
            "colorscale": [
             [
              0,
              "#0d0887"
             ],
             [
              0.1111111111111111,
              "#46039f"
             ],
             [
              0.2222222222222222,
              "#7201a8"
             ],
             [
              0.3333333333333333,
              "#9c179e"
             ],
             [
              0.4444444444444444,
              "#bd3786"
             ],
             [
              0.5555555555555556,
              "#d8576b"
             ],
             [
              0.6666666666666666,
              "#ed7953"
             ],
             [
              0.7777777777777778,
              "#fb9f3a"
             ],
             [
              0.8888888888888888,
              "#fdca26"
             ],
             [
              1,
              "#f0f921"
             ]
            ],
            "type": "heatmapgl"
           }
          ],
          "histogram": [
           {
            "marker": {
             "pattern": {
              "fillmode": "overlay",
              "size": 10,
              "solidity": 0.2
             }
            },
            "type": "histogram"
           }
          ],
          "histogram2d": [
           {
            "colorbar": {
             "outlinewidth": 0,
             "ticks": ""
            },
            "colorscale": [
             [
              0,
              "#0d0887"
             ],
             [
              0.1111111111111111,
              "#46039f"
             ],
             [
              0.2222222222222222,
              "#7201a8"
             ],
             [
              0.3333333333333333,
              "#9c179e"
             ],
             [
              0.4444444444444444,
              "#bd3786"
             ],
             [
              0.5555555555555556,
              "#d8576b"
             ],
             [
              0.6666666666666666,
              "#ed7953"
             ],
             [
              0.7777777777777778,
              "#fb9f3a"
             ],
             [
              0.8888888888888888,
              "#fdca26"
             ],
             [
              1,
              "#f0f921"
             ]
            ],
            "type": "histogram2d"
           }
          ],
          "histogram2dcontour": [
           {
            "colorbar": {
             "outlinewidth": 0,
             "ticks": ""
            },
            "colorscale": [
             [
              0,
              "#0d0887"
             ],
             [
              0.1111111111111111,
              "#46039f"
             ],
             [
              0.2222222222222222,
              "#7201a8"
             ],
             [
              0.3333333333333333,
              "#9c179e"
             ],
             [
              0.4444444444444444,
              "#bd3786"
             ],
             [
              0.5555555555555556,
              "#d8576b"
             ],
             [
              0.6666666666666666,
              "#ed7953"
             ],
             [
              0.7777777777777778,
              "#fb9f3a"
             ],
             [
              0.8888888888888888,
              "#fdca26"
             ],
             [
              1,
              "#f0f921"
             ]
            ],
            "type": "histogram2dcontour"
           }
          ],
          "mesh3d": [
           {
            "colorbar": {
             "outlinewidth": 0,
             "ticks": ""
            },
            "type": "mesh3d"
           }
          ],
          "parcoords": [
           {
            "line": {
             "colorbar": {
              "outlinewidth": 0,
              "ticks": ""
             }
            },
            "type": "parcoords"
           }
          ],
          "pie": [
           {
            "automargin": true,
            "type": "pie"
           }
          ],
          "scatter": [
           {
            "marker": {
             "colorbar": {
              "outlinewidth": 0,
              "ticks": ""
             }
            },
            "type": "scatter"
           }
          ],
          "scatter3d": [
           {
            "line": {
             "colorbar": {
              "outlinewidth": 0,
              "ticks": ""
             }
            },
            "marker": {
             "colorbar": {
              "outlinewidth": 0,
              "ticks": ""
             }
            },
            "type": "scatter3d"
           }
          ],
          "scattercarpet": [
           {
            "marker": {
             "colorbar": {
              "outlinewidth": 0,
              "ticks": ""
             }
            },
            "type": "scattercarpet"
           }
          ],
          "scattergeo": [
           {
            "marker": {
             "colorbar": {
              "outlinewidth": 0,
              "ticks": ""
             }
            },
            "type": "scattergeo"
           }
          ],
          "scattergl": [
           {
            "marker": {
             "colorbar": {
              "outlinewidth": 0,
              "ticks": ""
             }
            },
            "type": "scattergl"
           }
          ],
          "scattermapbox": [
           {
            "marker": {
             "colorbar": {
              "outlinewidth": 0,
              "ticks": ""
             }
            },
            "type": "scattermapbox"
           }
          ],
          "scatterpolar": [
           {
            "marker": {
             "colorbar": {
              "outlinewidth": 0,
              "ticks": ""
             }
            },
            "type": "scatterpolar"
           }
          ],
          "scatterpolargl": [
           {
            "marker": {
             "colorbar": {
              "outlinewidth": 0,
              "ticks": ""
             }
            },
            "type": "scatterpolargl"
           }
          ],
          "scatterternary": [
           {
            "marker": {
             "colorbar": {
              "outlinewidth": 0,
              "ticks": ""
             }
            },
            "type": "scatterternary"
           }
          ],
          "surface": [
           {
            "colorbar": {
             "outlinewidth": 0,
             "ticks": ""
            },
            "colorscale": [
             [
              0,
              "#0d0887"
             ],
             [
              0.1111111111111111,
              "#46039f"
             ],
             [
              0.2222222222222222,
              "#7201a8"
             ],
             [
              0.3333333333333333,
              "#9c179e"
             ],
             [
              0.4444444444444444,
              "#bd3786"
             ],
             [
              0.5555555555555556,
              "#d8576b"
             ],
             [
              0.6666666666666666,
              "#ed7953"
             ],
             [
              0.7777777777777778,
              "#fb9f3a"
             ],
             [
              0.8888888888888888,
              "#fdca26"
             ],
             [
              1,
              "#f0f921"
             ]
            ],
            "type": "surface"
           }
          ],
          "table": [
           {
            "cells": {
             "fill": {
              "color": "#EBF0F8"
             },
             "line": {
              "color": "white"
             }
            },
            "header": {
             "fill": {
              "color": "#C8D4E3"
             },
             "line": {
              "color": "white"
             }
            },
            "type": "table"
           }
          ]
         },
         "layout": {
          "annotationdefaults": {
           "arrowcolor": "#2a3f5f",
           "arrowhead": 0,
           "arrowwidth": 1
          },
          "autotypenumbers": "strict",
          "coloraxis": {
           "colorbar": {
            "outlinewidth": 0,
            "ticks": ""
           }
          },
          "colorscale": {
           "diverging": [
            [
             0,
             "#8e0152"
            ],
            [
             0.1,
             "#c51b7d"
            ],
            [
             0.2,
             "#de77ae"
            ],
            [
             0.3,
             "#f1b6da"
            ],
            [
             0.4,
             "#fde0ef"
            ],
            [
             0.5,
             "#f7f7f7"
            ],
            [
             0.6,
             "#e6f5d0"
            ],
            [
             0.7,
             "#b8e186"
            ],
            [
             0.8,
             "#7fbc41"
            ],
            [
             0.9,
             "#4d9221"
            ],
            [
             1,
             "#276419"
            ]
           ],
           "sequential": [
            [
             0,
             "#0d0887"
            ],
            [
             0.1111111111111111,
             "#46039f"
            ],
            [
             0.2222222222222222,
             "#7201a8"
            ],
            [
             0.3333333333333333,
             "#9c179e"
            ],
            [
             0.4444444444444444,
             "#bd3786"
            ],
            [
             0.5555555555555556,
             "#d8576b"
            ],
            [
             0.6666666666666666,
             "#ed7953"
            ],
            [
             0.7777777777777778,
             "#fb9f3a"
            ],
            [
             0.8888888888888888,
             "#fdca26"
            ],
            [
             1,
             "#f0f921"
            ]
           ],
           "sequentialminus": [
            [
             0,
             "#0d0887"
            ],
            [
             0.1111111111111111,
             "#46039f"
            ],
            [
             0.2222222222222222,
             "#7201a8"
            ],
            [
             0.3333333333333333,
             "#9c179e"
            ],
            [
             0.4444444444444444,
             "#bd3786"
            ],
            [
             0.5555555555555556,
             "#d8576b"
            ],
            [
             0.6666666666666666,
             "#ed7953"
            ],
            [
             0.7777777777777778,
             "#fb9f3a"
            ],
            [
             0.8888888888888888,
             "#fdca26"
            ],
            [
             1,
             "#f0f921"
            ]
           ]
          },
          "colorway": [
           "#636efa",
           "#EF553B",
           "#00cc96",
           "#ab63fa",
           "#FFA15A",
           "#19d3f3",
           "#FF6692",
           "#B6E880",
           "#FF97FF",
           "#FECB52"
          ],
          "font": {
           "color": "#2a3f5f"
          },
          "geo": {
           "bgcolor": "white",
           "lakecolor": "white",
           "landcolor": "#E5ECF6",
           "showlakes": true,
           "showland": true,
           "subunitcolor": "white"
          },
          "hoverlabel": {
           "align": "left"
          },
          "hovermode": "closest",
          "mapbox": {
           "style": "light"
          },
          "paper_bgcolor": "white",
          "plot_bgcolor": "#E5ECF6",
          "polar": {
           "angularaxis": {
            "gridcolor": "white",
            "linecolor": "white",
            "ticks": ""
           },
           "bgcolor": "#E5ECF6",
           "radialaxis": {
            "gridcolor": "white",
            "linecolor": "white",
            "ticks": ""
           }
          },
          "scene": {
           "xaxis": {
            "backgroundcolor": "#E5ECF6",
            "gridcolor": "white",
            "gridwidth": 2,
            "linecolor": "white",
            "showbackground": true,
            "ticks": "",
            "zerolinecolor": "white"
           },
           "yaxis": {
            "backgroundcolor": "#E5ECF6",
            "gridcolor": "white",
            "gridwidth": 2,
            "linecolor": "white",
            "showbackground": true,
            "ticks": "",
            "zerolinecolor": "white"
           },
           "zaxis": {
            "backgroundcolor": "#E5ECF6",
            "gridcolor": "white",
            "gridwidth": 2,
            "linecolor": "white",
            "showbackground": true,
            "ticks": "",
            "zerolinecolor": "white"
           }
          },
          "shapedefaults": {
           "line": {
            "color": "#2a3f5f"
           }
          },
          "ternary": {
           "aaxis": {
            "gridcolor": "white",
            "linecolor": "white",
            "ticks": ""
           },
           "baxis": {
            "gridcolor": "white",
            "linecolor": "white",
            "ticks": ""
           },
           "bgcolor": "#E5ECF6",
           "caxis": {
            "gridcolor": "white",
            "linecolor": "white",
            "ticks": ""
           }
          },
          "title": {
           "x": 0.05
          },
          "xaxis": {
           "automargin": true,
           "gridcolor": "white",
           "linecolor": "white",
           "ticks": "",
           "title": {
            "standoff": 15
           },
           "zerolinecolor": "white",
           "zerolinewidth": 2
          },
          "yaxis": {
           "automargin": true,
           "gridcolor": "white",
           "linecolor": "white",
           "ticks": "",
           "title": {
            "standoff": 15
           },
           "zerolinecolor": "white",
           "zerolinewidth": 2
          }
         }
        },
        "title": {
         "text": "User rating distribution through the different game companies (log y scale)"
        },
        "xaxis": {
         "anchor": "y",
         "domain": [
          0,
          1
         ],
         "title": {
          "text": "company"
         }
        },
        "yaxis": {
         "anchor": "x",
         "domain": [
          0,
          1
         ],
         "title": {
          "text": "Amount"
         },
         "type": "log"
        }
       }
      }
     },
     "metadata": {},
     "output_type": "display_data"
    }
   ],
   "source": [
    "company_rating_dict = dict()\n",
    "for c in set(companies_dict.keys()):\n",
    "    if c not in company_noise:\n",
    "        company_rating_dict[c] = dict()\n",
    "        for r in ['mediocre', 'bad', 'good', 'great']:\n",
    "            company_rating_dict[c][r] = 0\n",
    "\n",
    "for row_companies, rating in zip(df['companies'], df['user_rating']):\n",
    "    for c in row_companies.replace(' ', '').split(','):\n",
    "        if c not in company_noise:\n",
    "            company_rating_dict[c][rating] += 1\n",
    "\n",
    "plot_df_rows = []\n",
    "n_companies = 8\n",
    "iterable = reversed(sorted(company_rating_dict.items(), key=lambda x: sum(x[1].values()), reverse=True)[:n_companies])\n",
    "for company, ratings_dict in iterable:\n",
    "    for rating, count in ratings_dict.items():\n",
    "        plot_df_rows.append({'company': company, 'rating': rating, 'count': count})\n",
    "\n",
    "plot_df = pd.DataFrame(plot_df_rows)\n",
    "\n",
    "fig = px.bar(plot_df, x='company', y='count', color='rating', barmode='group', log_y=True,\n",
    "             title='User rating distribution through the different game companies (log y scale)',\n",
    "            labels={\n",
    "                'count': 'Amount',\n",
    "                'rating': 'user_rating',\n",
    "            },       \n",
    ")\n",
    "fig.show()"
   ]
  },
  {
   "attachments": {},
   "cell_type": "markdown",
   "metadata": {},
   "source": [
    "Platform"
   ]
  },
  {
   "cell_type": "code",
   "execution_count": 317,
   "metadata": {},
   "outputs": [
    {
     "data": {
      "application/vnd.plotly.v1+json": {
       "config": {
        "plotlyServerURL": "https://plot.ly"
       },
       "data": [
        {
         "alignmentgroup": "True",
         "hovertemplate": "platform=%{x}<br>Amount=%{y}<extra></extra>",
         "legendgroup": "",
         "marker": {
          "color": "#636efa",
          "pattern": {
           "shape": ""
          }
         },
         "name": "",
         "offsetgroup": "",
         "orientation": "v",
         "showlegend": false,
         "textposition": "auto",
         "type": "bar",
         "x": [
          "GameBoy",
          "XboxSeriesX|S",
          "PlayStation5",
          "Nintendo64",
          "ZXSpectrum",
          "AmstradCPC",
          "GoogleStadia",
          "AtariST/STE",
          "CommodoreC64/128",
          "SegaMegaDrive/Genesis",
          "GameBoyAdvance",
          "NintendoEntertainmentSystem(NES)",
          "SuperNintendoEntertainmentSystem(SNES)",
          "NintendoGameCube",
          "Amiga",
          "NintendoDS",
          "Nintendo3DS",
          "PlayStationVita",
          "PlayStationPortable",
          "Arcade",
          "Xbox",
          "PCDOS",
          "PlayStation",
          "WiiU",
          "Android",
          "Wii",
          "PlayStation2",
          "iOS",
          "Linux",
          "NintendoSwitch",
          "Xbox360",
          "PlayStation3",
          "XboxOne",
          "PlayStation4",
          "Mac",
          "PC(MicrosoftWindows)"
         ],
         "xaxis": "x",
         "y": [
          104,
          105,
          106,
          108,
          109,
          110,
          123,
          145,
          159,
          182,
          183,
          188,
          192,
          207,
          212,
          217,
          234,
          240,
          253,
          293,
          329,
          337,
          347,
          355,
          430,
          473,
          560,
          601,
          723,
          748,
          812,
          915,
          1009,
          1172,
          1280,
          3063
         ],
         "yaxis": "y"
        }
       ],
       "layout": {
        "barmode": "relative",
        "legend": {
         "tracegroupgap": 0
        },
        "template": {
         "data": {
          "bar": [
           {
            "error_x": {
             "color": "#2a3f5f"
            },
            "error_y": {
             "color": "#2a3f5f"
            },
            "marker": {
             "line": {
              "color": "#E5ECF6",
              "width": 0.5
             },
             "pattern": {
              "fillmode": "overlay",
              "size": 10,
              "solidity": 0.2
             }
            },
            "type": "bar"
           }
          ],
          "barpolar": [
           {
            "marker": {
             "line": {
              "color": "#E5ECF6",
              "width": 0.5
             },
             "pattern": {
              "fillmode": "overlay",
              "size": 10,
              "solidity": 0.2
             }
            },
            "type": "barpolar"
           }
          ],
          "carpet": [
           {
            "aaxis": {
             "endlinecolor": "#2a3f5f",
             "gridcolor": "white",
             "linecolor": "white",
             "minorgridcolor": "white",
             "startlinecolor": "#2a3f5f"
            },
            "baxis": {
             "endlinecolor": "#2a3f5f",
             "gridcolor": "white",
             "linecolor": "white",
             "minorgridcolor": "white",
             "startlinecolor": "#2a3f5f"
            },
            "type": "carpet"
           }
          ],
          "choropleth": [
           {
            "colorbar": {
             "outlinewidth": 0,
             "ticks": ""
            },
            "type": "choropleth"
           }
          ],
          "contour": [
           {
            "colorbar": {
             "outlinewidth": 0,
             "ticks": ""
            },
            "colorscale": [
             [
              0,
              "#0d0887"
             ],
             [
              0.1111111111111111,
              "#46039f"
             ],
             [
              0.2222222222222222,
              "#7201a8"
             ],
             [
              0.3333333333333333,
              "#9c179e"
             ],
             [
              0.4444444444444444,
              "#bd3786"
             ],
             [
              0.5555555555555556,
              "#d8576b"
             ],
             [
              0.6666666666666666,
              "#ed7953"
             ],
             [
              0.7777777777777778,
              "#fb9f3a"
             ],
             [
              0.8888888888888888,
              "#fdca26"
             ],
             [
              1,
              "#f0f921"
             ]
            ],
            "type": "contour"
           }
          ],
          "contourcarpet": [
           {
            "colorbar": {
             "outlinewidth": 0,
             "ticks": ""
            },
            "type": "contourcarpet"
           }
          ],
          "heatmap": [
           {
            "colorbar": {
             "outlinewidth": 0,
             "ticks": ""
            },
            "colorscale": [
             [
              0,
              "#0d0887"
             ],
             [
              0.1111111111111111,
              "#46039f"
             ],
             [
              0.2222222222222222,
              "#7201a8"
             ],
             [
              0.3333333333333333,
              "#9c179e"
             ],
             [
              0.4444444444444444,
              "#bd3786"
             ],
             [
              0.5555555555555556,
              "#d8576b"
             ],
             [
              0.6666666666666666,
              "#ed7953"
             ],
             [
              0.7777777777777778,
              "#fb9f3a"
             ],
             [
              0.8888888888888888,
              "#fdca26"
             ],
             [
              1,
              "#f0f921"
             ]
            ],
            "type": "heatmap"
           }
          ],
          "heatmapgl": [
           {
            "colorbar": {
             "outlinewidth": 0,
             "ticks": ""
            },
            "colorscale": [
             [
              0,
              "#0d0887"
             ],
             [
              0.1111111111111111,
              "#46039f"
             ],
             [
              0.2222222222222222,
              "#7201a8"
             ],
             [
              0.3333333333333333,
              "#9c179e"
             ],
             [
              0.4444444444444444,
              "#bd3786"
             ],
             [
              0.5555555555555556,
              "#d8576b"
             ],
             [
              0.6666666666666666,
              "#ed7953"
             ],
             [
              0.7777777777777778,
              "#fb9f3a"
             ],
             [
              0.8888888888888888,
              "#fdca26"
             ],
             [
              1,
              "#f0f921"
             ]
            ],
            "type": "heatmapgl"
           }
          ],
          "histogram": [
           {
            "marker": {
             "pattern": {
              "fillmode": "overlay",
              "size": 10,
              "solidity": 0.2
             }
            },
            "type": "histogram"
           }
          ],
          "histogram2d": [
           {
            "colorbar": {
             "outlinewidth": 0,
             "ticks": ""
            },
            "colorscale": [
             [
              0,
              "#0d0887"
             ],
             [
              0.1111111111111111,
              "#46039f"
             ],
             [
              0.2222222222222222,
              "#7201a8"
             ],
             [
              0.3333333333333333,
              "#9c179e"
             ],
             [
              0.4444444444444444,
              "#bd3786"
             ],
             [
              0.5555555555555556,
              "#d8576b"
             ],
             [
              0.6666666666666666,
              "#ed7953"
             ],
             [
              0.7777777777777778,
              "#fb9f3a"
             ],
             [
              0.8888888888888888,
              "#fdca26"
             ],
             [
              1,
              "#f0f921"
             ]
            ],
            "type": "histogram2d"
           }
          ],
          "histogram2dcontour": [
           {
            "colorbar": {
             "outlinewidth": 0,
             "ticks": ""
            },
            "colorscale": [
             [
              0,
              "#0d0887"
             ],
             [
              0.1111111111111111,
              "#46039f"
             ],
             [
              0.2222222222222222,
              "#7201a8"
             ],
             [
              0.3333333333333333,
              "#9c179e"
             ],
             [
              0.4444444444444444,
              "#bd3786"
             ],
             [
              0.5555555555555556,
              "#d8576b"
             ],
             [
              0.6666666666666666,
              "#ed7953"
             ],
             [
              0.7777777777777778,
              "#fb9f3a"
             ],
             [
              0.8888888888888888,
              "#fdca26"
             ],
             [
              1,
              "#f0f921"
             ]
            ],
            "type": "histogram2dcontour"
           }
          ],
          "mesh3d": [
           {
            "colorbar": {
             "outlinewidth": 0,
             "ticks": ""
            },
            "type": "mesh3d"
           }
          ],
          "parcoords": [
           {
            "line": {
             "colorbar": {
              "outlinewidth": 0,
              "ticks": ""
             }
            },
            "type": "parcoords"
           }
          ],
          "pie": [
           {
            "automargin": true,
            "type": "pie"
           }
          ],
          "scatter": [
           {
            "marker": {
             "colorbar": {
              "outlinewidth": 0,
              "ticks": ""
             }
            },
            "type": "scatter"
           }
          ],
          "scatter3d": [
           {
            "line": {
             "colorbar": {
              "outlinewidth": 0,
              "ticks": ""
             }
            },
            "marker": {
             "colorbar": {
              "outlinewidth": 0,
              "ticks": ""
             }
            },
            "type": "scatter3d"
           }
          ],
          "scattercarpet": [
           {
            "marker": {
             "colorbar": {
              "outlinewidth": 0,
              "ticks": ""
             }
            },
            "type": "scattercarpet"
           }
          ],
          "scattergeo": [
           {
            "marker": {
             "colorbar": {
              "outlinewidth": 0,
              "ticks": ""
             }
            },
            "type": "scattergeo"
           }
          ],
          "scattergl": [
           {
            "marker": {
             "colorbar": {
              "outlinewidth": 0,
              "ticks": ""
             }
            },
            "type": "scattergl"
           }
          ],
          "scattermapbox": [
           {
            "marker": {
             "colorbar": {
              "outlinewidth": 0,
              "ticks": ""
             }
            },
            "type": "scattermapbox"
           }
          ],
          "scatterpolar": [
           {
            "marker": {
             "colorbar": {
              "outlinewidth": 0,
              "ticks": ""
             }
            },
            "type": "scatterpolar"
           }
          ],
          "scatterpolargl": [
           {
            "marker": {
             "colorbar": {
              "outlinewidth": 0,
              "ticks": ""
             }
            },
            "type": "scatterpolargl"
           }
          ],
          "scatterternary": [
           {
            "marker": {
             "colorbar": {
              "outlinewidth": 0,
              "ticks": ""
             }
            },
            "type": "scatterternary"
           }
          ],
          "surface": [
           {
            "colorbar": {
             "outlinewidth": 0,
             "ticks": ""
            },
            "colorscale": [
             [
              0,
              "#0d0887"
             ],
             [
              0.1111111111111111,
              "#46039f"
             ],
             [
              0.2222222222222222,
              "#7201a8"
             ],
             [
              0.3333333333333333,
              "#9c179e"
             ],
             [
              0.4444444444444444,
              "#bd3786"
             ],
             [
              0.5555555555555556,
              "#d8576b"
             ],
             [
              0.6666666666666666,
              "#ed7953"
             ],
             [
              0.7777777777777778,
              "#fb9f3a"
             ],
             [
              0.8888888888888888,
              "#fdca26"
             ],
             [
              1,
              "#f0f921"
             ]
            ],
            "type": "surface"
           }
          ],
          "table": [
           {
            "cells": {
             "fill": {
              "color": "#EBF0F8"
             },
             "line": {
              "color": "white"
             }
            },
            "header": {
             "fill": {
              "color": "#C8D4E3"
             },
             "line": {
              "color": "white"
             }
            },
            "type": "table"
           }
          ]
         },
         "layout": {
          "annotationdefaults": {
           "arrowcolor": "#2a3f5f",
           "arrowhead": 0,
           "arrowwidth": 1
          },
          "autotypenumbers": "strict",
          "coloraxis": {
           "colorbar": {
            "outlinewidth": 0,
            "ticks": ""
           }
          },
          "colorscale": {
           "diverging": [
            [
             0,
             "#8e0152"
            ],
            [
             0.1,
             "#c51b7d"
            ],
            [
             0.2,
             "#de77ae"
            ],
            [
             0.3,
             "#f1b6da"
            ],
            [
             0.4,
             "#fde0ef"
            ],
            [
             0.5,
             "#f7f7f7"
            ],
            [
             0.6,
             "#e6f5d0"
            ],
            [
             0.7,
             "#b8e186"
            ],
            [
             0.8,
             "#7fbc41"
            ],
            [
             0.9,
             "#4d9221"
            ],
            [
             1,
             "#276419"
            ]
           ],
           "sequential": [
            [
             0,
             "#0d0887"
            ],
            [
             0.1111111111111111,
             "#46039f"
            ],
            [
             0.2222222222222222,
             "#7201a8"
            ],
            [
             0.3333333333333333,
             "#9c179e"
            ],
            [
             0.4444444444444444,
             "#bd3786"
            ],
            [
             0.5555555555555556,
             "#d8576b"
            ],
            [
             0.6666666666666666,
             "#ed7953"
            ],
            [
             0.7777777777777778,
             "#fb9f3a"
            ],
            [
             0.8888888888888888,
             "#fdca26"
            ],
            [
             1,
             "#f0f921"
            ]
           ],
           "sequentialminus": [
            [
             0,
             "#0d0887"
            ],
            [
             0.1111111111111111,
             "#46039f"
            ],
            [
             0.2222222222222222,
             "#7201a8"
            ],
            [
             0.3333333333333333,
             "#9c179e"
            ],
            [
             0.4444444444444444,
             "#bd3786"
            ],
            [
             0.5555555555555556,
             "#d8576b"
            ],
            [
             0.6666666666666666,
             "#ed7953"
            ],
            [
             0.7777777777777778,
             "#fb9f3a"
            ],
            [
             0.8888888888888888,
             "#fdca26"
            ],
            [
             1,
             "#f0f921"
            ]
           ]
          },
          "colorway": [
           "#636efa",
           "#EF553B",
           "#00cc96",
           "#ab63fa",
           "#FFA15A",
           "#19d3f3",
           "#FF6692",
           "#B6E880",
           "#FF97FF",
           "#FECB52"
          ],
          "font": {
           "color": "#2a3f5f"
          },
          "geo": {
           "bgcolor": "white",
           "lakecolor": "white",
           "landcolor": "#E5ECF6",
           "showlakes": true,
           "showland": true,
           "subunitcolor": "white"
          },
          "hoverlabel": {
           "align": "left"
          },
          "hovermode": "closest",
          "mapbox": {
           "style": "light"
          },
          "paper_bgcolor": "white",
          "plot_bgcolor": "#E5ECF6",
          "polar": {
           "angularaxis": {
            "gridcolor": "white",
            "linecolor": "white",
            "ticks": ""
           },
           "bgcolor": "#E5ECF6",
           "radialaxis": {
            "gridcolor": "white",
            "linecolor": "white",
            "ticks": ""
           }
          },
          "scene": {
           "xaxis": {
            "backgroundcolor": "#E5ECF6",
            "gridcolor": "white",
            "gridwidth": 2,
            "linecolor": "white",
            "showbackground": true,
            "ticks": "",
            "zerolinecolor": "white"
           },
           "yaxis": {
            "backgroundcolor": "#E5ECF6",
            "gridcolor": "white",
            "gridwidth": 2,
            "linecolor": "white",
            "showbackground": true,
            "ticks": "",
            "zerolinecolor": "white"
           },
           "zaxis": {
            "backgroundcolor": "#E5ECF6",
            "gridcolor": "white",
            "gridwidth": 2,
            "linecolor": "white",
            "showbackground": true,
            "ticks": "",
            "zerolinecolor": "white"
           }
          },
          "shapedefaults": {
           "line": {
            "color": "#2a3f5f"
           }
          },
          "ternary": {
           "aaxis": {
            "gridcolor": "white",
            "linecolor": "white",
            "ticks": ""
           },
           "baxis": {
            "gridcolor": "white",
            "linecolor": "white",
            "ticks": ""
           },
           "bgcolor": "#E5ECF6",
           "caxis": {
            "gridcolor": "white",
            "linecolor": "white",
            "ticks": ""
           }
          },
          "title": {
           "x": 0.05
          },
          "xaxis": {
           "automargin": true,
           "gridcolor": "white",
           "linecolor": "white",
           "ticks": "",
           "title": {
            "standoff": 15
           },
           "zerolinecolor": "white",
           "zerolinewidth": 2
          },
          "yaxis": {
           "automargin": true,
           "gridcolor": "white",
           "linecolor": "white",
           "ticks": "",
           "title": {
            "standoff": 15
           },
           "zerolinecolor": "white",
           "zerolinewidth": 2
          }
         }
        },
        "title": {
         "text": "Distribution of the diferent platforms<br>that appear more than 100 times in the dataset"
        },
        "xaxis": {
         "anchor": "y",
         "domain": [
          0,
          1
         ],
         "title": {
          "text": "platform"
         }
        },
        "yaxis": {
         "anchor": "x",
         "domain": [
          0,
          1
         ],
         "title": {
          "text": "Amount"
         }
        }
       }
      }
     },
     "metadata": {},
     "output_type": "display_data"
    }
   ],
   "source": [
    "platform_dict = dict()\n",
    "for row in df['platforms']:\n",
    "    for p in row.replace(' ', '').split(','):\n",
    "        if p in platform_dict.keys():\n",
    "            platform_dict[p] += 1\n",
    "        else:\n",
    "            platform_dict[p] = 1\n",
    "\n",
    "platform_df = pd.DataFrame({'platform': platform_dict.keys(), 'count': platform_dict.values()})\n",
    "platform_df = platform_df.sort_values('count')\n",
    "px.bar(platform_df[platform_df['count'] >= 100], x='platform', y='count',\n",
    "       title='Distribution of the diferent platforms<br>that appear more than 100 times in the dataset',\n",
    "       labels={'count': 'Amount'}\n",
    ")"
   ]
  },
  {
   "attachments": {},
   "cell_type": "markdown",
   "metadata": {},
   "source": [
    "It was then decided to limit the dataset to the main consoles from Sony, Microsoft and Nintendo since the Nintendo64 era, plus the PC ones, as it helps keeping the homogeinity aforementioned."
   ]
  },
  {
   "cell_type": "code",
   "execution_count": 318,
   "metadata": {},
   "outputs": [
    {
     "data": {
      "text/plain": [
       "['Nintendo64',\n",
       " 'NintendoGameCube',\n",
       " 'NintendoSwitch',\n",
       " 'PC(MicrosoftWindows)',\n",
       " 'PlayStation',\n",
       " 'PlayStation2',\n",
       " 'PlayStation3',\n",
       " 'PlayStation4',\n",
       " 'PlayStation5',\n",
       " 'Wii',\n",
       " 'WiiU',\n",
       " 'Xbox',\n",
       " 'Xbox360',\n",
       " 'XboxOne',\n",
       " 'XboxSeriesX|S']"
      ]
     },
     "execution_count": 318,
     "metadata": {},
     "output_type": "execute_result"
    }
   ],
   "source": [
    "def to_keep(platform):\n",
    "    return platform == 'PC(MicrosoftWindows)' \\\n",
    "        or platform.lower() == 'nintendogamecube' \\\n",
    "        or platform.lower() == 'nintendo64' \\\n",
    "        or platform.lower() == 'nintendoswitch' \\\n",
    "        or platform.lower() in (['playstation'] + [f'playstation{i}' for i in range(2, 6)]) \\\n",
    "        or 'xbox' in platform.lower() \\\n",
    "        or 'wii' in platform.lower() \\\n",
    "        \n",
    "platforms_to_keep = [p for p in platform_dict.keys() if to_keep(p)]\n",
    "sorted(platforms_to_keep)"
   ]
  },
  {
   "cell_type": "code",
   "execution_count": 319,
   "metadata": {},
   "outputs": [
    {
     "data": {
      "application/vnd.plotly.v1+json": {
       "config": {
        "plotlyServerURL": "https://plot.ly"
       },
       "data": [
        {
         "alignmentgroup": "True",
         "hovertemplate": "user_rating=mediocre<br>platform=%{x}<br>Amount=%{y}<extra></extra>",
         "legendgroup": "mediocre",
         "marker": {
          "color": "#636efa",
          "pattern": {
           "shape": ""
          }
         },
         "name": "mediocre",
         "offsetgroup": "mediocre",
         "orientation": "v",
         "showlegend": true,
         "textposition": "auto",
         "type": "bar",
         "x": [
          "XboxSeriesX|S",
          "PlayStation5",
          "Nintendo64",
          "NintendoGameCube",
          "Xbox",
          "PlayStation",
          "WiiU",
          "Wii",
          "PlayStation2",
          "NintendoSwitch",
          "Xbox360",
          "PlayStation3",
          "XboxOne",
          "PlayStation4",
          "PC(MicrosoftWindows)"
         ],
         "xaxis": "x",
         "y": [
          1,
          1,
          4,
          6,
          5,
          7,
          5,
          4,
          11,
          8,
          22,
          19,
          14,
          15,
          51
         ],
         "yaxis": "y"
        },
        {
         "alignmentgroup": "True",
         "hovertemplate": "user_rating=bad<br>platform=%{x}<br>Amount=%{y}<extra></extra>",
         "legendgroup": "bad",
         "marker": {
          "color": "#EF553B",
          "pattern": {
           "shape": ""
          }
         },
         "name": "bad",
         "offsetgroup": "bad",
         "orientation": "v",
         "showlegend": true,
         "textposition": "auto",
         "type": "bar",
         "x": [
          "XboxSeriesX|S",
          "PlayStation5",
          "Nintendo64",
          "NintendoGameCube",
          "Xbox",
          "PlayStation",
          "WiiU",
          "Wii",
          "PlayStation2",
          "NintendoSwitch",
          "Xbox360",
          "PlayStation3",
          "XboxOne",
          "PlayStation4",
          "PC(MicrosoftWindows)"
         ],
         "xaxis": "x",
         "y": [
          0,
          0,
          1,
          0,
          0,
          0,
          1,
          0,
          0,
          0,
          2,
          1,
          0,
          0,
          6
         ],
         "yaxis": "y"
        },
        {
         "alignmentgroup": "True",
         "hovertemplate": "user_rating=good<br>platform=%{x}<br>Amount=%{y}<extra></extra>",
         "legendgroup": "good",
         "marker": {
          "color": "#00cc96",
          "pattern": {
           "shape": ""
          }
         },
         "name": "good",
         "offsetgroup": "good",
         "orientation": "v",
         "showlegend": true,
         "textposition": "auto",
         "type": "bar",
         "x": [
          "XboxSeriesX|S",
          "PlayStation5",
          "Nintendo64",
          "NintendoGameCube",
          "Xbox",
          "PlayStation",
          "WiiU",
          "Wii",
          "PlayStation2",
          "NintendoSwitch",
          "Xbox360",
          "PlayStation3",
          "XboxOne",
          "PlayStation4",
          "PC(MicrosoftWindows)"
         ],
         "xaxis": "x",
         "y": [
          40,
          37,
          46,
          109,
          163,
          130,
          146,
          239,
          282,
          339,
          421,
          455,
          506,
          574,
          1444
         ],
         "yaxis": "y"
        },
        {
         "alignmentgroup": "True",
         "hovertemplate": "user_rating=great<br>platform=%{x}<br>Amount=%{y}<extra></extra>",
         "legendgroup": "great",
         "marker": {
          "color": "#ab63fa",
          "pattern": {
           "shape": ""
          }
         },
         "name": "great",
         "offsetgroup": "great",
         "orientation": "v",
         "showlegend": true,
         "textposition": "auto",
         "type": "bar",
         "x": [
          "XboxSeriesX|S",
          "PlayStation5",
          "Nintendo64",
          "NintendoGameCube",
          "Xbox",
          "PlayStation",
          "WiiU",
          "Wii",
          "PlayStation2",
          "NintendoSwitch",
          "Xbox360",
          "PlayStation3",
          "XboxOne",
          "PlayStation4",
          "PC(MicrosoftWindows)"
         ],
         "xaxis": "x",
         "y": [
          64,
          68,
          57,
          92,
          161,
          210,
          203,
          230,
          267,
          401,
          367,
          440,
          489,
          583,
          1562
         ],
         "yaxis": "y"
        }
       ],
       "layout": {
        "barmode": "group",
        "legend": {
         "title": {
          "text": "user_rating"
         },
         "tracegroupgap": 0
        },
        "template": {
         "data": {
          "bar": [
           {
            "error_x": {
             "color": "#2a3f5f"
            },
            "error_y": {
             "color": "#2a3f5f"
            },
            "marker": {
             "line": {
              "color": "#E5ECF6",
              "width": 0.5
             },
             "pattern": {
              "fillmode": "overlay",
              "size": 10,
              "solidity": 0.2
             }
            },
            "type": "bar"
           }
          ],
          "barpolar": [
           {
            "marker": {
             "line": {
              "color": "#E5ECF6",
              "width": 0.5
             },
             "pattern": {
              "fillmode": "overlay",
              "size": 10,
              "solidity": 0.2
             }
            },
            "type": "barpolar"
           }
          ],
          "carpet": [
           {
            "aaxis": {
             "endlinecolor": "#2a3f5f",
             "gridcolor": "white",
             "linecolor": "white",
             "minorgridcolor": "white",
             "startlinecolor": "#2a3f5f"
            },
            "baxis": {
             "endlinecolor": "#2a3f5f",
             "gridcolor": "white",
             "linecolor": "white",
             "minorgridcolor": "white",
             "startlinecolor": "#2a3f5f"
            },
            "type": "carpet"
           }
          ],
          "choropleth": [
           {
            "colorbar": {
             "outlinewidth": 0,
             "ticks": ""
            },
            "type": "choropleth"
           }
          ],
          "contour": [
           {
            "colorbar": {
             "outlinewidth": 0,
             "ticks": ""
            },
            "colorscale": [
             [
              0,
              "#0d0887"
             ],
             [
              0.1111111111111111,
              "#46039f"
             ],
             [
              0.2222222222222222,
              "#7201a8"
             ],
             [
              0.3333333333333333,
              "#9c179e"
             ],
             [
              0.4444444444444444,
              "#bd3786"
             ],
             [
              0.5555555555555556,
              "#d8576b"
             ],
             [
              0.6666666666666666,
              "#ed7953"
             ],
             [
              0.7777777777777778,
              "#fb9f3a"
             ],
             [
              0.8888888888888888,
              "#fdca26"
             ],
             [
              1,
              "#f0f921"
             ]
            ],
            "type": "contour"
           }
          ],
          "contourcarpet": [
           {
            "colorbar": {
             "outlinewidth": 0,
             "ticks": ""
            },
            "type": "contourcarpet"
           }
          ],
          "heatmap": [
           {
            "colorbar": {
             "outlinewidth": 0,
             "ticks": ""
            },
            "colorscale": [
             [
              0,
              "#0d0887"
             ],
             [
              0.1111111111111111,
              "#46039f"
             ],
             [
              0.2222222222222222,
              "#7201a8"
             ],
             [
              0.3333333333333333,
              "#9c179e"
             ],
             [
              0.4444444444444444,
              "#bd3786"
             ],
             [
              0.5555555555555556,
              "#d8576b"
             ],
             [
              0.6666666666666666,
              "#ed7953"
             ],
             [
              0.7777777777777778,
              "#fb9f3a"
             ],
             [
              0.8888888888888888,
              "#fdca26"
             ],
             [
              1,
              "#f0f921"
             ]
            ],
            "type": "heatmap"
           }
          ],
          "heatmapgl": [
           {
            "colorbar": {
             "outlinewidth": 0,
             "ticks": ""
            },
            "colorscale": [
             [
              0,
              "#0d0887"
             ],
             [
              0.1111111111111111,
              "#46039f"
             ],
             [
              0.2222222222222222,
              "#7201a8"
             ],
             [
              0.3333333333333333,
              "#9c179e"
             ],
             [
              0.4444444444444444,
              "#bd3786"
             ],
             [
              0.5555555555555556,
              "#d8576b"
             ],
             [
              0.6666666666666666,
              "#ed7953"
             ],
             [
              0.7777777777777778,
              "#fb9f3a"
             ],
             [
              0.8888888888888888,
              "#fdca26"
             ],
             [
              1,
              "#f0f921"
             ]
            ],
            "type": "heatmapgl"
           }
          ],
          "histogram": [
           {
            "marker": {
             "pattern": {
              "fillmode": "overlay",
              "size": 10,
              "solidity": 0.2
             }
            },
            "type": "histogram"
           }
          ],
          "histogram2d": [
           {
            "colorbar": {
             "outlinewidth": 0,
             "ticks": ""
            },
            "colorscale": [
             [
              0,
              "#0d0887"
             ],
             [
              0.1111111111111111,
              "#46039f"
             ],
             [
              0.2222222222222222,
              "#7201a8"
             ],
             [
              0.3333333333333333,
              "#9c179e"
             ],
             [
              0.4444444444444444,
              "#bd3786"
             ],
             [
              0.5555555555555556,
              "#d8576b"
             ],
             [
              0.6666666666666666,
              "#ed7953"
             ],
             [
              0.7777777777777778,
              "#fb9f3a"
             ],
             [
              0.8888888888888888,
              "#fdca26"
             ],
             [
              1,
              "#f0f921"
             ]
            ],
            "type": "histogram2d"
           }
          ],
          "histogram2dcontour": [
           {
            "colorbar": {
             "outlinewidth": 0,
             "ticks": ""
            },
            "colorscale": [
             [
              0,
              "#0d0887"
             ],
             [
              0.1111111111111111,
              "#46039f"
             ],
             [
              0.2222222222222222,
              "#7201a8"
             ],
             [
              0.3333333333333333,
              "#9c179e"
             ],
             [
              0.4444444444444444,
              "#bd3786"
             ],
             [
              0.5555555555555556,
              "#d8576b"
             ],
             [
              0.6666666666666666,
              "#ed7953"
             ],
             [
              0.7777777777777778,
              "#fb9f3a"
             ],
             [
              0.8888888888888888,
              "#fdca26"
             ],
             [
              1,
              "#f0f921"
             ]
            ],
            "type": "histogram2dcontour"
           }
          ],
          "mesh3d": [
           {
            "colorbar": {
             "outlinewidth": 0,
             "ticks": ""
            },
            "type": "mesh3d"
           }
          ],
          "parcoords": [
           {
            "line": {
             "colorbar": {
              "outlinewidth": 0,
              "ticks": ""
             }
            },
            "type": "parcoords"
           }
          ],
          "pie": [
           {
            "automargin": true,
            "type": "pie"
           }
          ],
          "scatter": [
           {
            "marker": {
             "colorbar": {
              "outlinewidth": 0,
              "ticks": ""
             }
            },
            "type": "scatter"
           }
          ],
          "scatter3d": [
           {
            "line": {
             "colorbar": {
              "outlinewidth": 0,
              "ticks": ""
             }
            },
            "marker": {
             "colorbar": {
              "outlinewidth": 0,
              "ticks": ""
             }
            },
            "type": "scatter3d"
           }
          ],
          "scattercarpet": [
           {
            "marker": {
             "colorbar": {
              "outlinewidth": 0,
              "ticks": ""
             }
            },
            "type": "scattercarpet"
           }
          ],
          "scattergeo": [
           {
            "marker": {
             "colorbar": {
              "outlinewidth": 0,
              "ticks": ""
             }
            },
            "type": "scattergeo"
           }
          ],
          "scattergl": [
           {
            "marker": {
             "colorbar": {
              "outlinewidth": 0,
              "ticks": ""
             }
            },
            "type": "scattergl"
           }
          ],
          "scattermapbox": [
           {
            "marker": {
             "colorbar": {
              "outlinewidth": 0,
              "ticks": ""
             }
            },
            "type": "scattermapbox"
           }
          ],
          "scatterpolar": [
           {
            "marker": {
             "colorbar": {
              "outlinewidth": 0,
              "ticks": ""
             }
            },
            "type": "scatterpolar"
           }
          ],
          "scatterpolargl": [
           {
            "marker": {
             "colorbar": {
              "outlinewidth": 0,
              "ticks": ""
             }
            },
            "type": "scatterpolargl"
           }
          ],
          "scatterternary": [
           {
            "marker": {
             "colorbar": {
              "outlinewidth": 0,
              "ticks": ""
             }
            },
            "type": "scatterternary"
           }
          ],
          "surface": [
           {
            "colorbar": {
             "outlinewidth": 0,
             "ticks": ""
            },
            "colorscale": [
             [
              0,
              "#0d0887"
             ],
             [
              0.1111111111111111,
              "#46039f"
             ],
             [
              0.2222222222222222,
              "#7201a8"
             ],
             [
              0.3333333333333333,
              "#9c179e"
             ],
             [
              0.4444444444444444,
              "#bd3786"
             ],
             [
              0.5555555555555556,
              "#d8576b"
             ],
             [
              0.6666666666666666,
              "#ed7953"
             ],
             [
              0.7777777777777778,
              "#fb9f3a"
             ],
             [
              0.8888888888888888,
              "#fdca26"
             ],
             [
              1,
              "#f0f921"
             ]
            ],
            "type": "surface"
           }
          ],
          "table": [
           {
            "cells": {
             "fill": {
              "color": "#EBF0F8"
             },
             "line": {
              "color": "white"
             }
            },
            "header": {
             "fill": {
              "color": "#C8D4E3"
             },
             "line": {
              "color": "white"
             }
            },
            "type": "table"
           }
          ]
         },
         "layout": {
          "annotationdefaults": {
           "arrowcolor": "#2a3f5f",
           "arrowhead": 0,
           "arrowwidth": 1
          },
          "autotypenumbers": "strict",
          "coloraxis": {
           "colorbar": {
            "outlinewidth": 0,
            "ticks": ""
           }
          },
          "colorscale": {
           "diverging": [
            [
             0,
             "#8e0152"
            ],
            [
             0.1,
             "#c51b7d"
            ],
            [
             0.2,
             "#de77ae"
            ],
            [
             0.3,
             "#f1b6da"
            ],
            [
             0.4,
             "#fde0ef"
            ],
            [
             0.5,
             "#f7f7f7"
            ],
            [
             0.6,
             "#e6f5d0"
            ],
            [
             0.7,
             "#b8e186"
            ],
            [
             0.8,
             "#7fbc41"
            ],
            [
             0.9,
             "#4d9221"
            ],
            [
             1,
             "#276419"
            ]
           ],
           "sequential": [
            [
             0,
             "#0d0887"
            ],
            [
             0.1111111111111111,
             "#46039f"
            ],
            [
             0.2222222222222222,
             "#7201a8"
            ],
            [
             0.3333333333333333,
             "#9c179e"
            ],
            [
             0.4444444444444444,
             "#bd3786"
            ],
            [
             0.5555555555555556,
             "#d8576b"
            ],
            [
             0.6666666666666666,
             "#ed7953"
            ],
            [
             0.7777777777777778,
             "#fb9f3a"
            ],
            [
             0.8888888888888888,
             "#fdca26"
            ],
            [
             1,
             "#f0f921"
            ]
           ],
           "sequentialminus": [
            [
             0,
             "#0d0887"
            ],
            [
             0.1111111111111111,
             "#46039f"
            ],
            [
             0.2222222222222222,
             "#7201a8"
            ],
            [
             0.3333333333333333,
             "#9c179e"
            ],
            [
             0.4444444444444444,
             "#bd3786"
            ],
            [
             0.5555555555555556,
             "#d8576b"
            ],
            [
             0.6666666666666666,
             "#ed7953"
            ],
            [
             0.7777777777777778,
             "#fb9f3a"
            ],
            [
             0.8888888888888888,
             "#fdca26"
            ],
            [
             1,
             "#f0f921"
            ]
           ]
          },
          "colorway": [
           "#636efa",
           "#EF553B",
           "#00cc96",
           "#ab63fa",
           "#FFA15A",
           "#19d3f3",
           "#FF6692",
           "#B6E880",
           "#FF97FF",
           "#FECB52"
          ],
          "font": {
           "color": "#2a3f5f"
          },
          "geo": {
           "bgcolor": "white",
           "lakecolor": "white",
           "landcolor": "#E5ECF6",
           "showlakes": true,
           "showland": true,
           "subunitcolor": "white"
          },
          "hoverlabel": {
           "align": "left"
          },
          "hovermode": "closest",
          "mapbox": {
           "style": "light"
          },
          "paper_bgcolor": "white",
          "plot_bgcolor": "#E5ECF6",
          "polar": {
           "angularaxis": {
            "gridcolor": "white",
            "linecolor": "white",
            "ticks": ""
           },
           "bgcolor": "#E5ECF6",
           "radialaxis": {
            "gridcolor": "white",
            "linecolor": "white",
            "ticks": ""
           }
          },
          "scene": {
           "xaxis": {
            "backgroundcolor": "#E5ECF6",
            "gridcolor": "white",
            "gridwidth": 2,
            "linecolor": "white",
            "showbackground": true,
            "ticks": "",
            "zerolinecolor": "white"
           },
           "yaxis": {
            "backgroundcolor": "#E5ECF6",
            "gridcolor": "white",
            "gridwidth": 2,
            "linecolor": "white",
            "showbackground": true,
            "ticks": "",
            "zerolinecolor": "white"
           },
           "zaxis": {
            "backgroundcolor": "#E5ECF6",
            "gridcolor": "white",
            "gridwidth": 2,
            "linecolor": "white",
            "showbackground": true,
            "ticks": "",
            "zerolinecolor": "white"
           }
          },
          "shapedefaults": {
           "line": {
            "color": "#2a3f5f"
           }
          },
          "ternary": {
           "aaxis": {
            "gridcolor": "white",
            "linecolor": "white",
            "ticks": ""
           },
           "baxis": {
            "gridcolor": "white",
            "linecolor": "white",
            "ticks": ""
           },
           "bgcolor": "#E5ECF6",
           "caxis": {
            "gridcolor": "white",
            "linecolor": "white",
            "ticks": ""
           }
          },
          "title": {
           "x": 0.05
          },
          "xaxis": {
           "automargin": true,
           "gridcolor": "white",
           "linecolor": "white",
           "ticks": "",
           "title": {
            "standoff": 15
           },
           "zerolinecolor": "white",
           "zerolinewidth": 2
          },
          "yaxis": {
           "automargin": true,
           "gridcolor": "white",
           "linecolor": "white",
           "ticks": "",
           "title": {
            "standoff": 15
           },
           "zerolinecolor": "white",
           "zerolinewidth": 2
          }
         }
        },
        "title": {
         "text": "User rating distribution over the different platforms (log y scale)"
        },
        "xaxis": {
         "anchor": "y",
         "domain": [
          0,
          1
         ],
         "title": {
          "text": "platform"
         }
        },
        "yaxis": {
         "anchor": "x",
         "domain": [
          0,
          1
         ],
         "title": {
          "text": "Amount"
         },
         "type": "log"
        }
       }
      }
     },
     "metadata": {},
     "output_type": "display_data"
    }
   ],
   "source": [
    "platform_rating_dict = dict()\n",
    "for p in set(platform_dict.keys()):\n",
    "    platform_rating_dict[p] = dict()\n",
    "    for r in ['mediocre', 'bad', 'good', 'great']:\n",
    "        platform_rating_dict[p][r] = 0\n",
    "\n",
    "for row_platform, rating in zip(df['platforms'], df['user_rating']):\n",
    "    for p in row_platform.replace(' ', '').split(','):\n",
    "        platform_rating_dict[p][rating] += 1\n",
    "        \n",
    "plot_df_rows = []\n",
    "items = [(key, value) for key, value in platform_rating_dict.items() if key in platforms_to_keep]\n",
    "iterable = sorted(items, key=lambda x: sum(x[1].values()))\n",
    "for platform, ratings_dict in iterable:\n",
    "    for rating, count in ratings_dict.items():\n",
    "        plot_df_rows.append({'platform': platform, 'rating': rating, 'count': count})\n",
    "\n",
    "plot_df = pd.DataFrame(plot_df_rows)\n",
    "\n",
    "fig = px.bar(plot_df, x='platform', y='count', color='rating', barmode='group', log_y=True,\n",
    "             title='User rating distribution over the different platforms (log y scale)',\n",
    "            labels={\n",
    "                'count': 'Amount',\n",
    "                'rating': 'user_rating',\n",
    "            }, \n",
    ")\n",
    "\n",
    "fig.show()"
   ]
  },
  {
   "attachments": {},
   "cell_type": "markdown",
   "metadata": {},
   "source": [
    "## Feature engineering"
   ]
  },
  {
   "attachments": {},
   "cell_type": "markdown",
   "metadata": {},
   "source": [
    "The following topic will be bulding a treated dataset based on the information gathered in the EDA process."
   ]
  },
  {
   "attachments": {},
   "cell_type": "markdown",
   "metadata": {},
   "source": [
    "The attributes decided to be kept bellow were chosen based on a combination of an analysis on the correlation matrix and intuition."
   ]
  },
  {
   "cell_type": "code",
   "execution_count": 320,
   "metadata": {},
   "outputs": [],
   "source": [
    "cols_to_keep = ['n_dlcs', 'n_expansions', 'follows', 'n_user_reviews', 'user_rating']\n",
    "new_df = df[cols_to_keep]"
   ]
  },
  {
   "attachments": {},
   "cell_type": "markdown",
   "metadata": {},
   "source": [
    "It was decided to do a one hot encoding of the different genres, but only of those that appear 196 times and over in the dataset, as this presented a step big enough in the graph to be a good choice."
   ]
  },
  {
   "cell_type": "code",
   "execution_count": 321,
   "metadata": {},
   "outputs": [
    {
     "name": "stderr",
     "output_type": "stream",
     "text": [
      "/home/matheus/.miniconda3/lib/python3.9/site-packages/pandas/core/indexing.py:1597: SettingWithCopyWarning:\n",
      "\n",
      "\n",
      "A value is trying to be set on a copy of a slice from a DataFrame.\n",
      "Try using .loc[row_indexer,col_indexer] = value instead\n",
      "\n",
      "See the caveats in the documentation: https://pandas.pydata.org/pandas-docs/stable/user_guide/indexing.html#returning-a-view-versus-a-copy\n",
      "\n",
      "/home/matheus/.miniconda3/lib/python3.9/site-packages/pandas/core/indexing.py:1676: SettingWithCopyWarning:\n",
      "\n",
      "\n",
      "A value is trying to be set on a copy of a slice from a DataFrame.\n",
      "Try using .loc[row_indexer,col_indexer] = value instead\n",
      "\n",
      "See the caveats in the documentation: https://pandas.pydata.org/pandas-docs/stable/user_guide/indexing.html#returning-a-view-versus-a-copy\n",
      "\n"
     ]
    }
   ],
   "source": [
    "genres = [k for k, v in genres_dict.items() if v >= 196]\n",
    "new_cols = dict()\n",
    "for g in genres:\n",
    "    new_cols[f'genre_{g}'] = []\n",
    "new_cols['genre_other'] = []\n",
    "\n",
    "for row in df['genres']:\n",
    "    genres_in_row = row.replace(' ', '').split(',')\n",
    "    found = False\n",
    "    for g in genres:\n",
    "        value = g in genres_in_row\n",
    "        if value:\n",
    "            found = True\n",
    "        new_cols[f'genre_{g}'].append(value)\n",
    "    new_cols['genre_other'].append(not found)\n",
    "\n",
    "for g in genres:\n",
    "    new_df.loc[:, f'genre_{g}'] = new_cols[f'genre_{g}']"
   ]
  },
  {
   "attachments": {},
   "cell_type": "markdown",
   "metadata": {},
   "source": [
    "In a similar fashion to the genre one hot encoding, the cutout was chosen as appearing 138 times and over."
   ]
  },
  {
   "cell_type": "code",
   "execution_count": 322,
   "metadata": {},
   "outputs": [],
   "source": [
    "companies = [k for k, v in companies_dict.items() if v >= 138]\n",
    "new_cols = dict()\n",
    "for c in companies:\n",
    "    new_cols[f'company_{c}'] = []\n",
    "new_cols['company_other'] = []\n",
    "\n",
    "for row in df['companies']:\n",
    "    companies_in_row = row.replace(' ', '').split(',')\n",
    "    found = False\n",
    "    for c in companies:\n",
    "        value = c in companies_in_row\n",
    "        if value:\n",
    "            found = True\n",
    "        new_cols[f'company_{c}'].append(value)\n",
    "    new_cols['company_other'].append(not found)\n",
    "\n",
    "for c in companies:\n",
    "    new_df.loc[:, f'company_{c}'] = new_cols[f'company_{c}']"
   ]
  },
  {
   "attachments": {},
   "cell_type": "markdown",
   "metadata": {},
   "source": [
    "The one hot encoding was also applied to the platforms previously selected."
   ]
  },
  {
   "cell_type": "code",
   "execution_count": 323,
   "metadata": {},
   "outputs": [
    {
     "data": {
      "text/plain": [
       "['Nintendo64',\n",
       " 'NintendoGameCube',\n",
       " 'NintendoSwitch',\n",
       " 'PC(MicrosoftWindows)',\n",
       " 'PlayStation',\n",
       " 'PlayStation2',\n",
       " 'PlayStation3',\n",
       " 'PlayStation4',\n",
       " 'PlayStation5',\n",
       " 'Wii',\n",
       " 'WiiU',\n",
       " 'Xbox',\n",
       " 'Xbox360',\n",
       " 'XboxOne',\n",
       " 'XboxSeriesX|S']"
      ]
     },
     "execution_count": 323,
     "metadata": {},
     "output_type": "execute_result"
    }
   ],
   "source": [
    "def to_keep(platform):\n",
    "    return platform == 'PC(MicrosoftWindows)' \\\n",
    "        or platform.lower() == 'nintendogamecube' \\\n",
    "        or platform.lower() == 'nintendo64' \\\n",
    "        or platform.lower() == 'nintendoswitch' \\\n",
    "        or platform.lower() in (['playstation'] + [f'playstation{i}' for i in range(2, 6)]) \\\n",
    "        or 'xbox' in platform.lower() \\\n",
    "        or 'wii' in platform.lower() \\\n",
    "        \n",
    "platforms_to_keep = [p for p in platform_dict.keys() if to_keep(p)]\n",
    "sorted(platforms_to_keep)"
   ]
  },
  {
   "cell_type": "code",
   "execution_count": 324,
   "metadata": {},
   "outputs": [],
   "source": [
    "new_cols = dict()\n",
    "for p in platforms_to_keep:\n",
    "    new_cols[f'platform_{p}'] = []\n",
    "new_cols['platform_other'] = []\n",
    "\n",
    "for row in df['platforms']:\n",
    "    platforms_in_row = row.replace(' ', '').split(',')\n",
    "    found = False\n",
    "    for p in platforms_to_keep:\n",
    "        value = p in platforms_to_keep\n",
    "        if value:\n",
    "            found = True\n",
    "        new_cols[f'platform_{p}'].append(value)\n",
    "    new_cols['platform_other'].append(not found)\n",
    "\n",
    "for p in platforms_to_keep:\n",
    "    new_df.loc[:, f'platform_{p}'] = new_cols[f'platform_{p}']"
   ]
  },
  {
   "attachments": {},
   "cell_type": "markdown",
   "metadata": {},
   "source": [
    "Resulting dataset information:"
   ]
  },
  {
   "cell_type": "code",
   "execution_count": 325,
   "metadata": {},
   "outputs": [
    {
     "data": {
      "text/html": [
       "<div>\n",
       "<style scoped>\n",
       "    .dataframe tbody tr th:only-of-type {\n",
       "        vertical-align: middle;\n",
       "    }\n",
       "\n",
       "    .dataframe tbody tr th {\n",
       "        vertical-align: top;\n",
       "    }\n",
       "\n",
       "    .dataframe thead th {\n",
       "        text-align: right;\n",
       "    }\n",
       "</style>\n",
       "<table border=\"1\" class=\"dataframe\">\n",
       "  <thead>\n",
       "    <tr style=\"text-align: right;\">\n",
       "      <th></th>\n",
       "      <th>n_dlcs</th>\n",
       "      <th>n_expansions</th>\n",
       "      <th>follows</th>\n",
       "      <th>n_user_reviews</th>\n",
       "      <th>user_rating</th>\n",
       "      <th>genre_Shooter</th>\n",
       "      <th>genre_Adventure</th>\n",
       "      <th>genre_Role-playing(RPG)</th>\n",
       "      <th>genre_Platform</th>\n",
       "      <th>genre_Puzzle</th>\n",
       "      <th>...</th>\n",
       "      <th>platform_PlayStation5</th>\n",
       "      <th>platform_XboxSeriesX|S</th>\n",
       "      <th>platform_NintendoSwitch</th>\n",
       "      <th>platform_PlayStation2</th>\n",
       "      <th>platform_Xbox</th>\n",
       "      <th>platform_WiiU</th>\n",
       "      <th>platform_Nintendo64</th>\n",
       "      <th>platform_Wii</th>\n",
       "      <th>platform_NintendoGameCube</th>\n",
       "      <th>platform_PlayStation</th>\n",
       "    </tr>\n",
       "  </thead>\n",
       "  <tbody>\n",
       "    <tr>\n",
       "      <th>0</th>\n",
       "      <td>0</td>\n",
       "      <td>0</td>\n",
       "      <td>1766</td>\n",
       "      <td>3369</td>\n",
       "      <td>great</td>\n",
       "      <td>True</td>\n",
       "      <td>True</td>\n",
       "      <td>False</td>\n",
       "      <td>False</td>\n",
       "      <td>False</td>\n",
       "      <td>...</td>\n",
       "      <td>True</td>\n",
       "      <td>True</td>\n",
       "      <td>True</td>\n",
       "      <td>True</td>\n",
       "      <td>True</td>\n",
       "      <td>True</td>\n",
       "      <td>True</td>\n",
       "      <td>True</td>\n",
       "      <td>True</td>\n",
       "      <td>True</td>\n",
       "    </tr>\n",
       "    <tr>\n",
       "      <th>1</th>\n",
       "      <td>4</td>\n",
       "      <td>2</td>\n",
       "      <td>1516</td>\n",
       "      <td>2997</td>\n",
       "      <td>great</td>\n",
       "      <td>False</td>\n",
       "      <td>True</td>\n",
       "      <td>True</td>\n",
       "      <td>False</td>\n",
       "      <td>False</td>\n",
       "      <td>...</td>\n",
       "      <td>True</td>\n",
       "      <td>True</td>\n",
       "      <td>True</td>\n",
       "      <td>True</td>\n",
       "      <td>True</td>\n",
       "      <td>True</td>\n",
       "      <td>True</td>\n",
       "      <td>True</td>\n",
       "      <td>True</td>\n",
       "      <td>True</td>\n",
       "    </tr>\n",
       "    <tr>\n",
       "      <th>2</th>\n",
       "      <td>3</td>\n",
       "      <td>0</td>\n",
       "      <td>1046</td>\n",
       "      <td>2567</td>\n",
       "      <td>great</td>\n",
       "      <td>False</td>\n",
       "      <td>True</td>\n",
       "      <td>True</td>\n",
       "      <td>False</td>\n",
       "      <td>False</td>\n",
       "      <td>...</td>\n",
       "      <td>True</td>\n",
       "      <td>True</td>\n",
       "      <td>True</td>\n",
       "      <td>True</td>\n",
       "      <td>True</td>\n",
       "      <td>True</td>\n",
       "      <td>True</td>\n",
       "      <td>True</td>\n",
       "      <td>True</td>\n",
       "      <td>True</td>\n",
       "    </tr>\n",
       "    <tr>\n",
       "      <th>3</th>\n",
       "      <td>3</td>\n",
       "      <td>0</td>\n",
       "      <td>963</td>\n",
       "      <td>2544</td>\n",
       "      <td>great</td>\n",
       "      <td>True</td>\n",
       "      <td>True</td>\n",
       "      <td>False</td>\n",
       "      <td>True</td>\n",
       "      <td>True</td>\n",
       "      <td>...</td>\n",
       "      <td>True</td>\n",
       "      <td>True</td>\n",
       "      <td>True</td>\n",
       "      <td>True</td>\n",
       "      <td>True</td>\n",
       "      <td>True</td>\n",
       "      <td>True</td>\n",
       "      <td>True</td>\n",
       "      <td>True</td>\n",
       "      <td>True</td>\n",
       "    </tr>\n",
       "    <tr>\n",
       "      <th>4</th>\n",
       "      <td>0</td>\n",
       "      <td>0</td>\n",
       "      <td>894</td>\n",
       "      <td>2297</td>\n",
       "      <td>great</td>\n",
       "      <td>True</td>\n",
       "      <td>False</td>\n",
       "      <td>False</td>\n",
       "      <td>True</td>\n",
       "      <td>True</td>\n",
       "      <td>...</td>\n",
       "      <td>True</td>\n",
       "      <td>True</td>\n",
       "      <td>True</td>\n",
       "      <td>True</td>\n",
       "      <td>True</td>\n",
       "      <td>True</td>\n",
       "      <td>True</td>\n",
       "      <td>True</td>\n",
       "      <td>True</td>\n",
       "      <td>True</td>\n",
       "    </tr>\n",
       "    <tr>\n",
       "      <th>...</th>\n",
       "      <td>...</td>\n",
       "      <td>...</td>\n",
       "      <td>...</td>\n",
       "      <td>...</td>\n",
       "      <td>...</td>\n",
       "      <td>...</td>\n",
       "      <td>...</td>\n",
       "      <td>...</td>\n",
       "      <td>...</td>\n",
       "      <td>...</td>\n",
       "      <td>...</td>\n",
       "      <td>...</td>\n",
       "      <td>...</td>\n",
       "      <td>...</td>\n",
       "      <td>...</td>\n",
       "      <td>...</td>\n",
       "      <td>...</td>\n",
       "      <td>...</td>\n",
       "      <td>...</td>\n",
       "      <td>...</td>\n",
       "      <td>...</td>\n",
       "    </tr>\n",
       "    <tr>\n",
       "      <th>5816</th>\n",
       "      <td>1</td>\n",
       "      <td>0</td>\n",
       "      <td>3</td>\n",
       "      <td>11</td>\n",
       "      <td>great</td>\n",
       "      <td>False</td>\n",
       "      <td>False</td>\n",
       "      <td>False</td>\n",
       "      <td>False</td>\n",
       "      <td>False</td>\n",
       "      <td>...</td>\n",
       "      <td>True</td>\n",
       "      <td>True</td>\n",
       "      <td>True</td>\n",
       "      <td>True</td>\n",
       "      <td>True</td>\n",
       "      <td>True</td>\n",
       "      <td>True</td>\n",
       "      <td>True</td>\n",
       "      <td>True</td>\n",
       "      <td>True</td>\n",
       "    </tr>\n",
       "    <tr>\n",
       "      <th>5817</th>\n",
       "      <td>0</td>\n",
       "      <td>0</td>\n",
       "      <td>6</td>\n",
       "      <td>11</td>\n",
       "      <td>great</td>\n",
       "      <td>False</td>\n",
       "      <td>False</td>\n",
       "      <td>False</td>\n",
       "      <td>False</td>\n",
       "      <td>False</td>\n",
       "      <td>...</td>\n",
       "      <td>True</td>\n",
       "      <td>True</td>\n",
       "      <td>True</td>\n",
       "      <td>True</td>\n",
       "      <td>True</td>\n",
       "      <td>True</td>\n",
       "      <td>True</td>\n",
       "      <td>True</td>\n",
       "      <td>True</td>\n",
       "      <td>True</td>\n",
       "    </tr>\n",
       "    <tr>\n",
       "      <th>5818</th>\n",
       "      <td>0</td>\n",
       "      <td>0</td>\n",
       "      <td>6</td>\n",
       "      <td>11</td>\n",
       "      <td>great</td>\n",
       "      <td>False</td>\n",
       "      <td>False</td>\n",
       "      <td>False</td>\n",
       "      <td>False</td>\n",
       "      <td>False</td>\n",
       "      <td>...</td>\n",
       "      <td>True</td>\n",
       "      <td>True</td>\n",
       "      <td>True</td>\n",
       "      <td>True</td>\n",
       "      <td>True</td>\n",
       "      <td>True</td>\n",
       "      <td>True</td>\n",
       "      <td>True</td>\n",
       "      <td>True</td>\n",
       "      <td>True</td>\n",
       "    </tr>\n",
       "    <tr>\n",
       "      <th>5819</th>\n",
       "      <td>0</td>\n",
       "      <td>0</td>\n",
       "      <td>5</td>\n",
       "      <td>11</td>\n",
       "      <td>great</td>\n",
       "      <td>False</td>\n",
       "      <td>False</td>\n",
       "      <td>True</td>\n",
       "      <td>False</td>\n",
       "      <td>False</td>\n",
       "      <td>...</td>\n",
       "      <td>True</td>\n",
       "      <td>True</td>\n",
       "      <td>True</td>\n",
       "      <td>True</td>\n",
       "      <td>True</td>\n",
       "      <td>True</td>\n",
       "      <td>True</td>\n",
       "      <td>True</td>\n",
       "      <td>True</td>\n",
       "      <td>True</td>\n",
       "    </tr>\n",
       "    <tr>\n",
       "      <th>5820</th>\n",
       "      <td>0</td>\n",
       "      <td>0</td>\n",
       "      <td>11</td>\n",
       "      <td>11</td>\n",
       "      <td>great</td>\n",
       "      <td>False</td>\n",
       "      <td>False</td>\n",
       "      <td>False</td>\n",
       "      <td>False</td>\n",
       "      <td>False</td>\n",
       "      <td>...</td>\n",
       "      <td>True</td>\n",
       "      <td>True</td>\n",
       "      <td>True</td>\n",
       "      <td>True</td>\n",
       "      <td>True</td>\n",
       "      <td>True</td>\n",
       "      <td>True</td>\n",
       "      <td>True</td>\n",
       "      <td>True</td>\n",
       "      <td>True</td>\n",
       "    </tr>\n",
       "  </tbody>\n",
       "</table>\n",
       "<p>4931 rows × 47 columns</p>\n",
       "</div>"
      ],
      "text/plain": [
       "      n_dlcs  n_expansions  follows  n_user_reviews user_rating  \\\n",
       "0          0             0     1766            3369       great   \n",
       "1          4             2     1516            2997       great   \n",
       "2          3             0     1046            2567       great   \n",
       "3          3             0      963            2544       great   \n",
       "4          0             0      894            2297       great   \n",
       "...      ...           ...      ...             ...         ...   \n",
       "5816       1             0        3              11       great   \n",
       "5817       0             0        6              11       great   \n",
       "5818       0             0        6              11       great   \n",
       "5819       0             0        5              11       great   \n",
       "5820       0             0       11              11       great   \n",
       "\n",
       "      genre_Shooter  genre_Adventure  genre_Role-playing(RPG)  genre_Platform  \\\n",
       "0              True             True                    False           False   \n",
       "1             False             True                     True           False   \n",
       "2             False             True                     True           False   \n",
       "3              True             True                    False            True   \n",
       "4              True            False                    False            True   \n",
       "...             ...              ...                      ...             ...   \n",
       "5816          False            False                    False           False   \n",
       "5817          False            False                    False           False   \n",
       "5818          False            False                    False           False   \n",
       "5819          False            False                     True           False   \n",
       "5820          False            False                    False           False   \n",
       "\n",
       "      genre_Puzzle  ...  platform_PlayStation5  platform_XboxSeriesX|S  \\\n",
       "0            False  ...                   True                    True   \n",
       "1            False  ...                   True                    True   \n",
       "2            False  ...                   True                    True   \n",
       "3             True  ...                   True                    True   \n",
       "4             True  ...                   True                    True   \n",
       "...            ...  ...                    ...                     ...   \n",
       "5816         False  ...                   True                    True   \n",
       "5817         False  ...                   True                    True   \n",
       "5818         False  ...                   True                    True   \n",
       "5819         False  ...                   True                    True   \n",
       "5820         False  ...                   True                    True   \n",
       "\n",
       "      platform_NintendoSwitch  platform_PlayStation2  platform_Xbox  \\\n",
       "0                        True                   True           True   \n",
       "1                        True                   True           True   \n",
       "2                        True                   True           True   \n",
       "3                        True                   True           True   \n",
       "4                        True                   True           True   \n",
       "...                       ...                    ...            ...   \n",
       "5816                     True                   True           True   \n",
       "5817                     True                   True           True   \n",
       "5818                     True                   True           True   \n",
       "5819                     True                   True           True   \n",
       "5820                     True                   True           True   \n",
       "\n",
       "      platform_WiiU  platform_Nintendo64  platform_Wii  \\\n",
       "0              True                 True          True   \n",
       "1              True                 True          True   \n",
       "2              True                 True          True   \n",
       "3              True                 True          True   \n",
       "4              True                 True          True   \n",
       "...             ...                  ...           ...   \n",
       "5816           True                 True          True   \n",
       "5817           True                 True          True   \n",
       "5818           True                 True          True   \n",
       "5819           True                 True          True   \n",
       "5820           True                 True          True   \n",
       "\n",
       "      platform_NintendoGameCube  platform_PlayStation  \n",
       "0                          True                  True  \n",
       "1                          True                  True  \n",
       "2                          True                  True  \n",
       "3                          True                  True  \n",
       "4                          True                  True  \n",
       "...                         ...                   ...  \n",
       "5816                       True                  True  \n",
       "5817                       True                  True  \n",
       "5818                       True                  True  \n",
       "5819                       True                  True  \n",
       "5820                       True                  True  \n",
       "\n",
       "[4931 rows x 47 columns]"
      ]
     },
     "execution_count": 325,
     "metadata": {},
     "output_type": "execute_result"
    }
   ],
   "source": [
    "new_df"
   ]
  },
  {
   "cell_type": "code",
   "execution_count": 326,
   "metadata": {},
   "outputs": [
    {
     "data": {
      "text/plain": [
       "Index(['n_dlcs', 'n_expansions', 'follows', 'n_user_reviews', 'user_rating',\n",
       "       'genre_Shooter', 'genre_Adventure', 'genre_Role-playing(RPG)',\n",
       "       'genre_Platform', 'genre_Puzzle', 'genre_Racing', 'genre_Simulator',\n",
       "       'genre_Hackandslash/Beat'emup', 'genre_Arcade', 'genre_Point-and-click',\n",
       "       'genre_Turn-basedstrategy(TBS)', 'genre_Indie', 'genre_Strategy',\n",
       "       'genre_RealTimeStrategy(RTS)', 'genre_Fighting', 'genre_Tactical',\n",
       "       'genre_Sport', 'company_ElectronicArts',\n",
       "       'company_SonyComputerEntertainment', 'company_Inc.(SCEI)',\n",
       "       'company_UbisoftEntertainment', 'company_SquareEnix',\n",
       "       'company_Nintendo', 'company_Activision', 'company_Capcom',\n",
       "       'company_Konami', 'company_Sega', 'platform_PC(MicrosoftWindows)',\n",
       "       'platform_PlayStation3', 'platform_Xbox360', 'platform_PlayStation4',\n",
       "       'platform_XboxOne', 'platform_PlayStation5', 'platform_XboxSeriesX|S',\n",
       "       'platform_NintendoSwitch', 'platform_PlayStation2', 'platform_Xbox',\n",
       "       'platform_WiiU', 'platform_Nintendo64', 'platform_Wii',\n",
       "       'platform_NintendoGameCube', 'platform_PlayStation'],\n",
       "      dtype='object')"
      ]
     },
     "execution_count": 326,
     "metadata": {},
     "output_type": "execute_result"
    }
   ],
   "source": [
    "new_df.columns"
   ]
  },
  {
   "cell_type": "code",
   "execution_count": 327,
   "metadata": {},
   "outputs": [
    {
     "name": "stdout",
     "output_type": "stream",
     "text": [
      "Proportion of rows kept compared to the original dataset: 84.67%\n"
     ]
    }
   ],
   "source": [
    "perc = len(new_df) / original_n_rows\n",
    "perc *= 100\n",
    "print(f'Proportion of rows kept compared to the original dataset: {perc:.2f}%')"
   ]
  },
  {
   "attachments": {},
   "cell_type": "markdown",
   "metadata": {},
   "source": [
    "## Model training and scoring"
   ]
  },
  {
   "cell_type": "code",
   "execution_count": 328,
   "metadata": {},
   "outputs": [],
   "source": [
    "from sklearn.preprocessing import normalize\n",
    "from sklearn.model_selection import KFold, train_test_split\n",
    "from sklearn.metrics import confusion_matrix, plot_confusion_matrix\n",
    "\n",
    "from sklearn.tree import DecisionTreeClassifier\n",
    "from sklearn.neighbors import KNeighborsClassifier"
   ]
  },
  {
   "attachments": {},
   "cell_type": "markdown",
   "metadata": {},
   "source": [
    "Moving the label to last place"
   ]
  },
  {
   "cell_type": "code",
   "execution_count": 329,
   "metadata": {},
   "outputs": [],
   "source": [
    "new_df = new_df[[c for c in new_df.columns if c != 'user_rating'] + ['user_rating']]"
   ]
  },
  {
   "cell_type": "code",
   "execution_count": 330,
   "metadata": {},
   "outputs": [],
   "source": [
    "X, y = new_df.values[:, :-1], new_df.values[:, -1]"
   ]
  },
  {
   "attachments": {},
   "cell_type": "markdown",
   "metadata": {},
   "source": [
    "Normalizing the numeric values"
   ]
  },
  {
   "cell_type": "code",
   "execution_count": 331,
   "metadata": {},
   "outputs": [],
   "source": [
    "X[:, :4] = normalize(X[:, :4])"
   ]
  },
  {
   "cell_type": "code",
   "execution_count": 332,
   "metadata": {},
   "outputs": [],
   "source": [
    "def k_fold_validate(model, k, X, y):\n",
    "    kf = KFold(n_splits=k, shuffle=True, random_state=42)\n",
    "\n",
    "    score = 0\n",
    "    for train_index, test_index in kf.split(X):\n",
    "        X_train, y_train = X[train_index], y[train_index]\n",
    "        X_test, y_test = X[test_index], y[test_index]\n",
    "\n",
    "        model.fit(X_train, y_train)\n",
    "        score += model.score(X_test, y_test)\n",
    "        \n",
    "    return score / k"
   ]
  },
  {
   "attachments": {},
   "cell_type": "markdown",
   "metadata": {},
   "source": [
    "In the following sub-topics it will be tested the best parameters for the algorithms and their results."
   ]
  },
  {
   "attachments": {},
   "cell_type": "markdown",
   "metadata": {},
   "source": [
    "### kNN"
   ]
  },
  {
   "cell_type": "code",
   "execution_count": 354,
   "metadata": {},
   "outputs": [],
   "source": [
    "scores = dict()\n",
    "for k in range(3, 25, 2):\n",
    "    knn = KNeighborsClassifier(n_neighbors=k, weights='distance')\n",
    "    scores[k] = k_fold_validate(knn, 5, X, y)"
   ]
  },
  {
   "cell_type": "code",
   "execution_count": 355,
   "metadata": {},
   "outputs": [
    {
     "name": "stdout",
     "output_type": "stream",
     "text": [
      "Best configuration result:\n",
      "k:\t23\n",
      "Score:\t0.56\n"
     ]
    }
   ],
   "source": [
    "results = [(key, value) for key, value in sorted(scores.items(), key=lambda x: abs(x[1]), reverse=True)]\n",
    "best_k, best_score = results[0]\n",
    "print('Best configuration result:')\n",
    "print(f'k:\\t{best_k}\\nScore:\\t{best_score:.2f}')"
   ]
  },
  {
   "attachments": {},
   "cell_type": "markdown",
   "metadata": {},
   "source": [
    "### Decision Tree"
   ]
  },
  {
   "cell_type": "code",
   "execution_count": 335,
   "metadata": {},
   "outputs": [],
   "source": [
    "scores = dict()\n",
    "for d in range(3, 45, 3):\n",
    "    dt = DecisionTreeClassifier(max_depth=d)\n",
    "    scores[d] = k_fold_validate(dt, 5, X, y)"
   ]
  },
  {
   "cell_type": "code",
   "execution_count": 336,
   "metadata": {},
   "outputs": [
    {
     "name": "stdout",
     "output_type": "stream",
     "text": [
      "Best configuration result:\n",
      "Max depth:\t6\n",
      "Score:\t\t0.60\n"
     ]
    }
   ],
   "source": [
    "results = [(key, value) for key, value in sorted(scores.items(), key=lambda x: abs(x[1]), reverse=True)]\n",
    "best_md, best_score = results[0]\n",
    "print('Best configuration result:')\n",
    "print(f'Max depth:\\t{best_md}\\nScore:\\t\\t{best_score:.2f}')"
   ]
  },
  {
   "attachments": {},
   "cell_type": "markdown",
   "metadata": {},
   "source": [
    "### Confusion matrices"
   ]
  },
  {
   "cell_type": "code",
   "execution_count": 347,
   "metadata": {},
   "outputs": [],
   "source": [
    "def my_plot_confusion_matrix(model, X, y):\n",
    "    X_train, X_test, y_train, y_test = train_test_split(X, y, test_size=.33, stratify=y, random_state=42)\n",
    "    model.fit(X_train, y_train)\n",
    "\n",
    "    plot_confusion_matrix(model, X_test, y_test, cmap=plt.cm.Blues,\n",
    "                          normalize='true', labels=['mediocre', 'bad', 'good', 'great'])\n",
    "    plt.show()"
   ]
  },
  {
   "attachments": {},
   "cell_type": "markdown",
   "metadata": {},
   "source": [
    "kNN"
   ]
  },
  {
   "cell_type": "code",
   "execution_count": 350,
   "metadata": {},
   "outputs": [
    {
     "name": "stderr",
     "output_type": "stream",
     "text": [
      "/home/matheus/.miniconda3/lib/python3.9/site-packages/sklearn/utils/deprecation.py:87: FutureWarning:\n",
      "\n",
      "Function plot_confusion_matrix is deprecated; Function `plot_confusion_matrix` is deprecated in 1.0 and will be removed in 1.2. Use one of the class methods: ConfusionMatrixDisplay.from_predictions or ConfusionMatrixDisplay.from_estimator.\n",
      "\n"
     ]
    },
    {
     "data": {
      "image/png": "[encoded data removed]",
      "text/plain": [
       "<Figure size 432x288 with 2 Axes>"
      ]
     },
     "metadata": {
      "needs_background": "light"
     },
     "output_type": "display_data"
    }
   ],
   "source": [
    "knn = KNeighborsClassifier(n_neighbors=3, weights='distance')\n",
    "my_plot_confusion_matrix(knn, X, y)"
   ]
  },
  {
   "attachments": {},
   "cell_type": "markdown",
   "metadata": {},
   "source": [
    "### Decision Tree"
   ]
  },
  {
   "cell_type": "code",
   "execution_count": 349,
   "metadata": {},
   "outputs": [
    {
     "name": "stderr",
     "output_type": "stream",
     "text": [
      "/home/matheus/.miniconda3/lib/python3.9/site-packages/sklearn/utils/deprecation.py:87: FutureWarning:\n",
      "\n",
      "Function plot_confusion_matrix is deprecated; Function `plot_confusion_matrix` is deprecated in 1.0 and will be removed in 1.2. Use one of the class methods: ConfusionMatrixDisplay.from_predictions or ConfusionMatrixDisplay.from_estimator.\n",
      "\n"
     ]
    },
    {
     "data": {
      "image/png": "[encoded data removed]",
      "text/plain": [
       "<Figure size 432x288 with 2 Axes>"
      ]
     },
     "metadata": {
      "needs_background": "light"
     },
     "output_type": "display_data"
    }
   ],
   "source": [
    "dt = DecisionTreeClassifier(max_depth=6)\n",
    "my_plot_confusion_matrix(dt, X, y)"
   ]
  },
  {
   "attachments": {},
   "cell_type": "markdown",
   "metadata": {},
   "source": [
    "## Conclusions"
   ]
  },
  {
   "attachments": {},
   "cell_type": "markdown",
   "metadata": {},
   "source": [
    "The class imbalance posed a clear problem in the effectivity of the classification algorithms. This outcome was expected for the Decision Trees, as that is a widely know problem in the literature, but a similar result for the K-Nearest Neighbors algorithm came out as a surprise. Even after try outs of different k values, the classification for the lower represented classes still held bad results.\n",
    "\n",
    "Although other approaches to feature engineering could be interesting to explore, directly dealing with the imbalance should be a better way of improving the quality of the models. Since the goal attribute `user_rating` is the result of the discretization of `user_score`, doing so in a way that it maintains the class balance or simply using `user_score` in a regression model should solve the problem."
   ]
  }
 ],
 "metadata": {
  "kernelspec": {
   "display_name": "base",
   "language": "python",
   "name": "python3"
  },
  "language_info": {
   "codemirror_mode": {
    "name": "ipython",
    "version": 3
   },
   "file_extension": ".py",
   "mimetype": "text/x-python",
   "name": "python",
   "nbconvert_exporter": "python",
   "pygments_lexer": "ipython3",
   "version": "3.9.5"
  },
  "orig_nbformat": 4,
  "vscode": {
   "interpreter": {
    "hash": "521bd52f7db69f83952e45c69a41cc5a9312142da056b7c563e70a654200e62d"
   }
  }
 },
 "nbformat": 4,
 "nbformat_minor": 2
}
